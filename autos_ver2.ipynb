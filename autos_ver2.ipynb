{
  "cells": [
    {
      "cell_type": "markdown",
      "metadata": {
        "id": "5-e-FU35e-d4"
      },
      "source": [
        "# Определение стоимости автомобилей"
      ]
    },
    {
      "cell_type": "markdown",
      "metadata": {
        "id": "wrm_IEOfe-d4"
      },
      "source": [
        "Сервис по продаже автомобилей с пробегом разрабатывает приложение для привлечения новых клиентов. В нём можно быстро узнать рыночную стоимость своего автомобиля. В нашем распоряжении исторические данные: технические характеристики, комплектации и цены автомобилей. Нужно построить модель для определения стоимости. \n",
        "\n",
        "Заказчику важны:\n",
        "\n",
        "- качество предсказания;\n",
        "- скорость предсказания;\n",
        "- время обучения."
      ]
    },
    {
      "cell_type": "markdown",
      "metadata": {
        "id": "GghGcnice-d5"
      },
      "source": [
        "## Подготовка данных"
      ]
    },
    {
      "cell_type": "code",
      "source": [
        "! pip install catboost"
      ],
      "metadata": {
        "colab": {
          "base_uri": "https://localhost:8080/"
        },
        "id": "D18-S87dgItU",
        "outputId": "f9aa4980-dab6-4d83-c69d-41160ac916ba"
      },
      "execution_count": null,
      "outputs": [
        {
          "output_type": "stream",
          "name": "stdout",
          "text": [
            "Requirement already satisfied: catboost in /usr/local/lib/python3.7/dist-packages (1.0.5)\n",
            "Requirement already satisfied: pandas>=0.24.0 in /usr/local/lib/python3.7/dist-packages (from catboost) (1.3.5)\n",
            "Requirement already satisfied: plotly in /usr/local/lib/python3.7/dist-packages (from catboost) (5.5.0)\n",
            "Requirement already satisfied: scipy in /usr/local/lib/python3.7/dist-packages (from catboost) (1.4.1)\n",
            "Requirement already satisfied: matplotlib in /usr/local/lib/python3.7/dist-packages (from catboost) (3.2.2)\n",
            "Requirement already satisfied: numpy>=1.16.0 in /usr/local/lib/python3.7/dist-packages (from catboost) (1.21.5)\n",
            "Requirement already satisfied: graphviz in /usr/local/lib/python3.7/dist-packages (from catboost) (0.10.1)\n",
            "Requirement already satisfied: six in /usr/local/lib/python3.7/dist-packages (from catboost) (1.15.0)\n",
            "Requirement already satisfied: python-dateutil>=2.7.3 in /usr/local/lib/python3.7/dist-packages (from pandas>=0.24.0->catboost) (2.8.2)\n",
            "Requirement already satisfied: pytz>=2017.3 in /usr/local/lib/python3.7/dist-packages (from pandas>=0.24.0->catboost) (2018.9)\n",
            "Requirement already satisfied: cycler>=0.10 in /usr/local/lib/python3.7/dist-packages (from matplotlib->catboost) (0.11.0)\n",
            "Requirement already satisfied: kiwisolver>=1.0.1 in /usr/local/lib/python3.7/dist-packages (from matplotlib->catboost) (1.4.2)\n",
            "Requirement already satisfied: pyparsing!=2.0.4,!=2.1.2,!=2.1.6,>=2.0.1 in /usr/local/lib/python3.7/dist-packages (from matplotlib->catboost) (3.0.8)\n",
            "Requirement already satisfied: typing-extensions in /usr/local/lib/python3.7/dist-packages (from kiwisolver>=1.0.1->matplotlib->catboost) (4.1.1)\n",
            "Requirement already satisfied: tenacity>=6.2.0 in /usr/local/lib/python3.7/dist-packages (from plotly->catboost) (8.0.1)\n"
          ]
        }
      ]
    },
    {
      "cell_type": "code",
      "execution_count": null,
      "metadata": {
        "id": "bV0wDY2Ae-d5"
      },
      "outputs": [],
      "source": [
        "import pandas as pd\n",
        "import numpy as np\n",
        "\n",
        "from sklearn.model_selection import train_test_split\n",
        "\n",
        "from catboost import CatBoostRegressor\n",
        "\n",
        "import lightgbm as lgb\n",
        "from sklearn.model_selection import RandomizedSearchCV\n",
        "\n",
        "#from sklearn.preprocessing import StandardScaler \n",
        "\n",
        "from sklearn.tree import DecisionTreeRegressor\n",
        "from sklearn.ensemble import RandomForestRegressor\n",
        "from sklearn.linear_model import LinearRegression\n",
        "\n",
        "from sklearn.model_selection import cross_val_score\n",
        "from sklearn.metrics import make_scorer\n",
        "from sklearn.metrics import mean_squared_error\n",
        "\n",
        "import time\n",
        "import copy\n",
        "from copy import deepcopy \n",
        "\n",
        "#pd.options.display.max_rows = 999\n",
        "pd.options.display.max_columns = 999\n",
        "\n",
        "import warnings\n",
        "warnings.filterwarnings('ignore')"
      ]
    },
    {
      "cell_type": "code",
      "execution_count": null,
      "metadata": {
        "id": "ANMNp7Bqe-d7"
      },
      "outputs": [],
      "source": [
        "df = pd.read_csv('/content/autos.csv')"
      ]
    },
    {
      "cell_type": "code",
      "execution_count": null,
      "metadata": {
        "colab": {
          "base_uri": "https://localhost:8080/"
        },
        "id": "QZPB5_vfe-d8",
        "outputId": "a0acea8a-95aa-4391-d9f5-e16ff6ded3e2"
      },
      "outputs": [
        {
          "output_type": "stream",
          "name": "stdout",
          "text": [
            "<class 'pandas.core.frame.DataFrame'>\n",
            "RangeIndex: 354369 entries, 0 to 354368\n",
            "Data columns (total 16 columns):\n",
            " #   Column             Non-Null Count   Dtype \n",
            "---  ------             --------------   ----- \n",
            " 0   DateCrawled        354369 non-null  object\n",
            " 1   Price              354369 non-null  int64 \n",
            " 2   VehicleType        316879 non-null  object\n",
            " 3   RegistrationYear   354369 non-null  int64 \n",
            " 4   Gearbox            334536 non-null  object\n",
            " 5   Power              354369 non-null  int64 \n",
            " 6   Model              334664 non-null  object\n",
            " 7   Kilometer          354369 non-null  int64 \n",
            " 8   RegistrationMonth  354369 non-null  int64 \n",
            " 9   FuelType           321474 non-null  object\n",
            " 10  Brand              354369 non-null  object\n",
            " 11  NotRepaired        283215 non-null  object\n",
            " 12  DateCreated        354369 non-null  object\n",
            " 13  NumberOfPictures   354369 non-null  int64 \n",
            " 14  PostalCode         354369 non-null  int64 \n",
            " 15  LastSeen           354369 non-null  object\n",
            "dtypes: int64(7), object(9)\n",
            "memory usage: 43.3+ MB\n"
          ]
        }
      ],
      "source": [
        "df.info()"
      ]
    },
    {
      "cell_type": "code",
      "execution_count": null,
      "metadata": {
        "colab": {
          "base_uri": "https://localhost:8080/",
          "height": 444
        },
        "id": "kGCtQr2ae-d-",
        "outputId": "71723be9-a80f-4c01-8702-0a222f4d3270"
      },
      "outputs": [
        {
          "output_type": "execute_result",
          "data": {
            "text/plain": [
              "           DateCrawled  Price VehicleType  RegistrationYear Gearbox  Power  \\\n",
              "0  2016-03-24 11:52:17    480         NaN              1993  manual      0   \n",
              "1  2016-03-24 10:58:45  18300       coupe              2011  manual    190   \n",
              "2  2016-03-14 12:52:21   9800         suv              2004    auto    163   \n",
              "3  2016-03-17 16:54:04   1500       small              2001  manual     75   \n",
              "4  2016-03-31 17:25:20   3600       small              2008  manual     69   \n",
              "\n",
              "   Model  Kilometer  RegistrationMonth  FuelType       Brand NotRepaired  \\\n",
              "0   golf     150000                  0    petrol  volkswagen         NaN   \n",
              "1    NaN     125000                  5  gasoline        audi         yes   \n",
              "2  grand     125000                  8  gasoline        jeep         NaN   \n",
              "3   golf     150000                  6    petrol  volkswagen          no   \n",
              "4  fabia      90000                  7  gasoline       skoda          no   \n",
              "\n",
              "           DateCreated  NumberOfPictures  PostalCode             LastSeen  \n",
              "0  2016-03-24 00:00:00                 0       70435  2016-04-07 03:16:57  \n",
              "1  2016-03-24 00:00:00                 0       66954  2016-04-07 01:46:50  \n",
              "2  2016-03-14 00:00:00                 0       90480  2016-04-05 12:47:46  \n",
              "3  2016-03-17 00:00:00                 0       91074  2016-03-17 17:40:17  \n",
              "4  2016-03-31 00:00:00                 0       60437  2016-04-06 10:17:21  "
            ],
            "text/html": [
              "\n",
              "  <div id=\"df-6f4bd646-e221-46c8-b7a6-acdfd758d193\">\n",
              "    <div class=\"colab-df-container\">\n",
              "      <div>\n",
              "<style scoped>\n",
              "    .dataframe tbody tr th:only-of-type {\n",
              "        vertical-align: middle;\n",
              "    }\n",
              "\n",
              "    .dataframe tbody tr th {\n",
              "        vertical-align: top;\n",
              "    }\n",
              "\n",
              "    .dataframe thead th {\n",
              "        text-align: right;\n",
              "    }\n",
              "</style>\n",
              "<table border=\"1\" class=\"dataframe\">\n",
              "  <thead>\n",
              "    <tr style=\"text-align: right;\">\n",
              "      <th></th>\n",
              "      <th>DateCrawled</th>\n",
              "      <th>Price</th>\n",
              "      <th>VehicleType</th>\n",
              "      <th>RegistrationYear</th>\n",
              "      <th>Gearbox</th>\n",
              "      <th>Power</th>\n",
              "      <th>Model</th>\n",
              "      <th>Kilometer</th>\n",
              "      <th>RegistrationMonth</th>\n",
              "      <th>FuelType</th>\n",
              "      <th>Brand</th>\n",
              "      <th>NotRepaired</th>\n",
              "      <th>DateCreated</th>\n",
              "      <th>NumberOfPictures</th>\n",
              "      <th>PostalCode</th>\n",
              "      <th>LastSeen</th>\n",
              "    </tr>\n",
              "  </thead>\n",
              "  <tbody>\n",
              "    <tr>\n",
              "      <th>0</th>\n",
              "      <td>2016-03-24 11:52:17</td>\n",
              "      <td>480</td>\n",
              "      <td>NaN</td>\n",
              "      <td>1993</td>\n",
              "      <td>manual</td>\n",
              "      <td>0</td>\n",
              "      <td>golf</td>\n",
              "      <td>150000</td>\n",
              "      <td>0</td>\n",
              "      <td>petrol</td>\n",
              "      <td>volkswagen</td>\n",
              "      <td>NaN</td>\n",
              "      <td>2016-03-24 00:00:00</td>\n",
              "      <td>0</td>\n",
              "      <td>70435</td>\n",
              "      <td>2016-04-07 03:16:57</td>\n",
              "    </tr>\n",
              "    <tr>\n",
              "      <th>1</th>\n",
              "      <td>2016-03-24 10:58:45</td>\n",
              "      <td>18300</td>\n",
              "      <td>coupe</td>\n",
              "      <td>2011</td>\n",
              "      <td>manual</td>\n",
              "      <td>190</td>\n",
              "      <td>NaN</td>\n",
              "      <td>125000</td>\n",
              "      <td>5</td>\n",
              "      <td>gasoline</td>\n",
              "      <td>audi</td>\n",
              "      <td>yes</td>\n",
              "      <td>2016-03-24 00:00:00</td>\n",
              "      <td>0</td>\n",
              "      <td>66954</td>\n",
              "      <td>2016-04-07 01:46:50</td>\n",
              "    </tr>\n",
              "    <tr>\n",
              "      <th>2</th>\n",
              "      <td>2016-03-14 12:52:21</td>\n",
              "      <td>9800</td>\n",
              "      <td>suv</td>\n",
              "      <td>2004</td>\n",
              "      <td>auto</td>\n",
              "      <td>163</td>\n",
              "      <td>grand</td>\n",
              "      <td>125000</td>\n",
              "      <td>8</td>\n",
              "      <td>gasoline</td>\n",
              "      <td>jeep</td>\n",
              "      <td>NaN</td>\n",
              "      <td>2016-03-14 00:00:00</td>\n",
              "      <td>0</td>\n",
              "      <td>90480</td>\n",
              "      <td>2016-04-05 12:47:46</td>\n",
              "    </tr>\n",
              "    <tr>\n",
              "      <th>3</th>\n",
              "      <td>2016-03-17 16:54:04</td>\n",
              "      <td>1500</td>\n",
              "      <td>small</td>\n",
              "      <td>2001</td>\n",
              "      <td>manual</td>\n",
              "      <td>75</td>\n",
              "      <td>golf</td>\n",
              "      <td>150000</td>\n",
              "      <td>6</td>\n",
              "      <td>petrol</td>\n",
              "      <td>volkswagen</td>\n",
              "      <td>no</td>\n",
              "      <td>2016-03-17 00:00:00</td>\n",
              "      <td>0</td>\n",
              "      <td>91074</td>\n",
              "      <td>2016-03-17 17:40:17</td>\n",
              "    </tr>\n",
              "    <tr>\n",
              "      <th>4</th>\n",
              "      <td>2016-03-31 17:25:20</td>\n",
              "      <td>3600</td>\n",
              "      <td>small</td>\n",
              "      <td>2008</td>\n",
              "      <td>manual</td>\n",
              "      <td>69</td>\n",
              "      <td>fabia</td>\n",
              "      <td>90000</td>\n",
              "      <td>7</td>\n",
              "      <td>gasoline</td>\n",
              "      <td>skoda</td>\n",
              "      <td>no</td>\n",
              "      <td>2016-03-31 00:00:00</td>\n",
              "      <td>0</td>\n",
              "      <td>60437</td>\n",
              "      <td>2016-04-06 10:17:21</td>\n",
              "    </tr>\n",
              "  </tbody>\n",
              "</table>\n",
              "</div>\n",
              "      <button class=\"colab-df-convert\" onclick=\"convertToInteractive('df-6f4bd646-e221-46c8-b7a6-acdfd758d193')\"\n",
              "              title=\"Convert this dataframe to an interactive table.\"\n",
              "              style=\"display:none;\">\n",
              "        \n",
              "  <svg xmlns=\"http://www.w3.org/2000/svg\" height=\"24px\"viewBox=\"0 0 24 24\"\n",
              "       width=\"24px\">\n",
              "    <path d=\"M0 0h24v24H0V0z\" fill=\"none\"/>\n",
              "    <path d=\"M18.56 5.44l.94 2.06.94-2.06 2.06-.94-2.06-.94-.94-2.06-.94 2.06-2.06.94zm-11 1L8.5 8.5l.94-2.06 2.06-.94-2.06-.94L8.5 2.5l-.94 2.06-2.06.94zm10 10l.94 2.06.94-2.06 2.06-.94-2.06-.94-.94-2.06-.94 2.06-2.06.94z\"/><path d=\"M17.41 7.96l-1.37-1.37c-.4-.4-.92-.59-1.43-.59-.52 0-1.04.2-1.43.59L10.3 9.45l-7.72 7.72c-.78.78-.78 2.05 0 2.83L4 21.41c.39.39.9.59 1.41.59.51 0 1.02-.2 1.41-.59l7.78-7.78 2.81-2.81c.8-.78.8-2.07 0-2.86zM5.41 20L4 18.59l7.72-7.72 1.47 1.35L5.41 20z\"/>\n",
              "  </svg>\n",
              "      </button>\n",
              "      \n",
              "  <style>\n",
              "    .colab-df-container {\n",
              "      display:flex;\n",
              "      flex-wrap:wrap;\n",
              "      gap: 12px;\n",
              "    }\n",
              "\n",
              "    .colab-df-convert {\n",
              "      background-color: #E8F0FE;\n",
              "      border: none;\n",
              "      border-radius: 50%;\n",
              "      cursor: pointer;\n",
              "      display: none;\n",
              "      fill: #1967D2;\n",
              "      height: 32px;\n",
              "      padding: 0 0 0 0;\n",
              "      width: 32px;\n",
              "    }\n",
              "\n",
              "    .colab-df-convert:hover {\n",
              "      background-color: #E2EBFA;\n",
              "      box-shadow: 0px 1px 2px rgba(60, 64, 67, 0.3), 0px 1px 3px 1px rgba(60, 64, 67, 0.15);\n",
              "      fill: #174EA6;\n",
              "    }\n",
              "\n",
              "    [theme=dark] .colab-df-convert {\n",
              "      background-color: #3B4455;\n",
              "      fill: #D2E3FC;\n",
              "    }\n",
              "\n",
              "    [theme=dark] .colab-df-convert:hover {\n",
              "      background-color: #434B5C;\n",
              "      box-shadow: 0px 1px 3px 1px rgba(0, 0, 0, 0.15);\n",
              "      filter: drop-shadow(0px 1px 2px rgba(0, 0, 0, 0.3));\n",
              "      fill: #FFFFFF;\n",
              "    }\n",
              "  </style>\n",
              "\n",
              "      <script>\n",
              "        const buttonEl =\n",
              "          document.querySelector('#df-6f4bd646-e221-46c8-b7a6-acdfd758d193 button.colab-df-convert');\n",
              "        buttonEl.style.display =\n",
              "          google.colab.kernel.accessAllowed ? 'block' : 'none';\n",
              "\n",
              "        async function convertToInteractive(key) {\n",
              "          const element = document.querySelector('#df-6f4bd646-e221-46c8-b7a6-acdfd758d193');\n",
              "          const dataTable =\n",
              "            await google.colab.kernel.invokeFunction('convertToInteractive',\n",
              "                                                     [key], {});\n",
              "          if (!dataTable) return;\n",
              "\n",
              "          const docLinkHtml = 'Like what you see? Visit the ' +\n",
              "            '<a target=\"_blank\" href=https://colab.research.google.com/notebooks/data_table.ipynb>data table notebook</a>'\n",
              "            + ' to learn more about interactive tables.';\n",
              "          element.innerHTML = '';\n",
              "          dataTable['output_type'] = 'display_data';\n",
              "          await google.colab.output.renderOutput(dataTable, element);\n",
              "          const docLink = document.createElement('div');\n",
              "          docLink.innerHTML = docLinkHtml;\n",
              "          element.appendChild(docLink);\n",
              "        }\n",
              "      </script>\n",
              "    </div>\n",
              "  </div>\n",
              "  "
            ]
          },
          "metadata": {},
          "execution_count": 5
        }
      ],
      "source": [
        "df.head()"
      ]
    },
    {
      "cell_type": "markdown",
      "metadata": {
        "id": "nyD-jrLye-d_"
      },
      "source": [
        "**Описание данных**\n",
        "\n",
        "Признаки\n",
        "* DateCrawled — дата скачивания анкеты из базы\n",
        "* VehicleType — тип автомобильного кузова\n",
        "* RegistrationYear — год регистрации автомобиля\n",
        "* Gearbox — тип коробки передач\n",
        "* Power — мощность (л. с.)\n",
        "* Model — модель автомобиля\n",
        "* Kilometer — пробег (км)\n",
        "* RegistrationMonth — месяц регистрации автомобиля\n",
        "* FuelType — тип топлива\n",
        "* Brand — марка автомобиля\n",
        "* NotRepaired — была машина в ремонте или нет\n",
        "* DateCreated — дата создания анкеты\n",
        "* NumberOfPictures — количество фотографий автомобиля\n",
        "* PostalCode — почтовый индекс владельца анкеты (пользователя)\n",
        "* LastSeen — дата последней активности пользователя\n",
        "\n",
        "Целевой признак\n",
        "* Price — цена (евро)"
      ]
    },
    {
      "cell_type": "markdown",
      "metadata": {
        "id": "DRNjM3Gke-d_"
      },
      "source": [
        "Будем решать задачу регрессии."
      ]
    },
    {
      "cell_type": "markdown",
      "source": [
        "--------"
      ],
      "metadata": {
        "id": "DwpPR1g3lL67"
      }
    },
    {
      "cell_type": "markdown",
      "metadata": {
        "id": "kkJHVuGte-eD"
      },
      "source": [
        "Для дальнейшего анализа и обучения удалим столцбы, не несущие полезной информации для целей обучения моделей: дата скачивания анкеты из базы, месяц регистрации автомобиля, дата создания анкеты, количество фотографий автомобиля (в столбце только нули), почтовый индекс владельца анкеты (пользователя), дата последней активности пользователя."
      ]
    },
    {
      "cell_type": "code",
      "execution_count": null,
      "metadata": {
        "id": "5r9tF2mie-eD"
      },
      "outputs": [],
      "source": [
        "df = df.drop(['DateCrawled', 'RegistrationMonth', 'DateCreated', 'NumberOfPictures', 'PostalCode', 'LastSeen'], axis=1)"
      ]
    },
    {
      "cell_type": "code",
      "source": [
        "df.columns"
      ],
      "metadata": {
        "colab": {
          "base_uri": "https://localhost:8080/"
        },
        "id": "uDWNw8C9evJI",
        "outputId": "401039f2-ece2-45a2-9c58-f06c0a98e7ad"
      },
      "execution_count": null,
      "outputs": [
        {
          "output_type": "execute_result",
          "data": {
            "text/plain": [
              "Index(['Price', 'VehicleType', 'RegistrationYear', 'Gearbox', 'Power', 'Model',\n",
              "       'Kilometer', 'FuelType', 'Brand', 'NotRepaired'],\n",
              "      dtype='object')"
            ]
          },
          "metadata": {},
          "execution_count": 7
        }
      ]
    },
    {
      "cell_type": "markdown",
      "source": [
        "------"
      ],
      "metadata": {
        "id": "tjQaHLu1glJ3"
      }
    },
    {
      "cell_type": "markdown",
      "source": [
        "Анализ числовых признаков:"
      ],
      "metadata": {
        "id": "a15s2Z56jDVk"
      }
    },
    {
      "cell_type": "code",
      "execution_count": null,
      "metadata": {
        "scrolled": true,
        "colab": {
          "base_uri": "https://localhost:8080/",
          "height": 300
        },
        "id": "A7mLjMnFe-eA",
        "outputId": "8c28491c-ae74-4dcb-e8c7-3669a5f77a32"
      },
      "outputs": [
        {
          "output_type": "execute_result",
          "data": {
            "text/plain": [
              "               Price  RegistrationYear          Power      Kilometer\n",
              "count  354369.000000     354369.000000  354369.000000  354369.000000\n",
              "mean     4416.656776       2004.234448     110.094337  128211.172535\n",
              "std      4514.158514         90.227958     189.850405   37905.341530\n",
              "min         0.000000       1000.000000       0.000000    5000.000000\n",
              "25%      1050.000000       1999.000000      69.000000  125000.000000\n",
              "50%      2700.000000       2003.000000     105.000000  150000.000000\n",
              "75%      6400.000000       2008.000000     143.000000  150000.000000\n",
              "max     20000.000000       9999.000000   20000.000000  150000.000000"
            ],
            "text/html": [
              "\n",
              "  <div id=\"df-1f97dcc5-f3bb-4ceb-938c-6e12520c5d99\">\n",
              "    <div class=\"colab-df-container\">\n",
              "      <div>\n",
              "<style scoped>\n",
              "    .dataframe tbody tr th:only-of-type {\n",
              "        vertical-align: middle;\n",
              "    }\n",
              "\n",
              "    .dataframe tbody tr th {\n",
              "        vertical-align: top;\n",
              "    }\n",
              "\n",
              "    .dataframe thead th {\n",
              "        text-align: right;\n",
              "    }\n",
              "</style>\n",
              "<table border=\"1\" class=\"dataframe\">\n",
              "  <thead>\n",
              "    <tr style=\"text-align: right;\">\n",
              "      <th></th>\n",
              "      <th>Price</th>\n",
              "      <th>RegistrationYear</th>\n",
              "      <th>Power</th>\n",
              "      <th>Kilometer</th>\n",
              "    </tr>\n",
              "  </thead>\n",
              "  <tbody>\n",
              "    <tr>\n",
              "      <th>count</th>\n",
              "      <td>354369.000000</td>\n",
              "      <td>354369.000000</td>\n",
              "      <td>354369.000000</td>\n",
              "      <td>354369.000000</td>\n",
              "    </tr>\n",
              "    <tr>\n",
              "      <th>mean</th>\n",
              "      <td>4416.656776</td>\n",
              "      <td>2004.234448</td>\n",
              "      <td>110.094337</td>\n",
              "      <td>128211.172535</td>\n",
              "    </tr>\n",
              "    <tr>\n",
              "      <th>std</th>\n",
              "      <td>4514.158514</td>\n",
              "      <td>90.227958</td>\n",
              "      <td>189.850405</td>\n",
              "      <td>37905.341530</td>\n",
              "    </tr>\n",
              "    <tr>\n",
              "      <th>min</th>\n",
              "      <td>0.000000</td>\n",
              "      <td>1000.000000</td>\n",
              "      <td>0.000000</td>\n",
              "      <td>5000.000000</td>\n",
              "    </tr>\n",
              "    <tr>\n",
              "      <th>25%</th>\n",
              "      <td>1050.000000</td>\n",
              "      <td>1999.000000</td>\n",
              "      <td>69.000000</td>\n",
              "      <td>125000.000000</td>\n",
              "    </tr>\n",
              "    <tr>\n",
              "      <th>50%</th>\n",
              "      <td>2700.000000</td>\n",
              "      <td>2003.000000</td>\n",
              "      <td>105.000000</td>\n",
              "      <td>150000.000000</td>\n",
              "    </tr>\n",
              "    <tr>\n",
              "      <th>75%</th>\n",
              "      <td>6400.000000</td>\n",
              "      <td>2008.000000</td>\n",
              "      <td>143.000000</td>\n",
              "      <td>150000.000000</td>\n",
              "    </tr>\n",
              "    <tr>\n",
              "      <th>max</th>\n",
              "      <td>20000.000000</td>\n",
              "      <td>9999.000000</td>\n",
              "      <td>20000.000000</td>\n",
              "      <td>150000.000000</td>\n",
              "    </tr>\n",
              "  </tbody>\n",
              "</table>\n",
              "</div>\n",
              "      <button class=\"colab-df-convert\" onclick=\"convertToInteractive('df-1f97dcc5-f3bb-4ceb-938c-6e12520c5d99')\"\n",
              "              title=\"Convert this dataframe to an interactive table.\"\n",
              "              style=\"display:none;\">\n",
              "        \n",
              "  <svg xmlns=\"http://www.w3.org/2000/svg\" height=\"24px\"viewBox=\"0 0 24 24\"\n",
              "       width=\"24px\">\n",
              "    <path d=\"M0 0h24v24H0V0z\" fill=\"none\"/>\n",
              "    <path d=\"M18.56 5.44l.94 2.06.94-2.06 2.06-.94-2.06-.94-.94-2.06-.94 2.06-2.06.94zm-11 1L8.5 8.5l.94-2.06 2.06-.94-2.06-.94L8.5 2.5l-.94 2.06-2.06.94zm10 10l.94 2.06.94-2.06 2.06-.94-2.06-.94-.94-2.06-.94 2.06-2.06.94z\"/><path d=\"M17.41 7.96l-1.37-1.37c-.4-.4-.92-.59-1.43-.59-.52 0-1.04.2-1.43.59L10.3 9.45l-7.72 7.72c-.78.78-.78 2.05 0 2.83L4 21.41c.39.39.9.59 1.41.59.51 0 1.02-.2 1.41-.59l7.78-7.78 2.81-2.81c.8-.78.8-2.07 0-2.86zM5.41 20L4 18.59l7.72-7.72 1.47 1.35L5.41 20z\"/>\n",
              "  </svg>\n",
              "      </button>\n",
              "      \n",
              "  <style>\n",
              "    .colab-df-container {\n",
              "      display:flex;\n",
              "      flex-wrap:wrap;\n",
              "      gap: 12px;\n",
              "    }\n",
              "\n",
              "    .colab-df-convert {\n",
              "      background-color: #E8F0FE;\n",
              "      border: none;\n",
              "      border-radius: 50%;\n",
              "      cursor: pointer;\n",
              "      display: none;\n",
              "      fill: #1967D2;\n",
              "      height: 32px;\n",
              "      padding: 0 0 0 0;\n",
              "      width: 32px;\n",
              "    }\n",
              "\n",
              "    .colab-df-convert:hover {\n",
              "      background-color: #E2EBFA;\n",
              "      box-shadow: 0px 1px 2px rgba(60, 64, 67, 0.3), 0px 1px 3px 1px rgba(60, 64, 67, 0.15);\n",
              "      fill: #174EA6;\n",
              "    }\n",
              "\n",
              "    [theme=dark] .colab-df-convert {\n",
              "      background-color: #3B4455;\n",
              "      fill: #D2E3FC;\n",
              "    }\n",
              "\n",
              "    [theme=dark] .colab-df-convert:hover {\n",
              "      background-color: #434B5C;\n",
              "      box-shadow: 0px 1px 3px 1px rgba(0, 0, 0, 0.15);\n",
              "      filter: drop-shadow(0px 1px 2px rgba(0, 0, 0, 0.3));\n",
              "      fill: #FFFFFF;\n",
              "    }\n",
              "  </style>\n",
              "\n",
              "      <script>\n",
              "        const buttonEl =\n",
              "          document.querySelector('#df-1f97dcc5-f3bb-4ceb-938c-6e12520c5d99 button.colab-df-convert');\n",
              "        buttonEl.style.display =\n",
              "          google.colab.kernel.accessAllowed ? 'block' : 'none';\n",
              "\n",
              "        async function convertToInteractive(key) {\n",
              "          const element = document.querySelector('#df-1f97dcc5-f3bb-4ceb-938c-6e12520c5d99');\n",
              "          const dataTable =\n",
              "            await google.colab.kernel.invokeFunction('convertToInteractive',\n",
              "                                                     [key], {});\n",
              "          if (!dataTable) return;\n",
              "\n",
              "          const docLinkHtml = 'Like what you see? Visit the ' +\n",
              "            '<a target=\"_blank\" href=https://colab.research.google.com/notebooks/data_table.ipynb>data table notebook</a>'\n",
              "            + ' to learn more about interactive tables.';\n",
              "          element.innerHTML = '';\n",
              "          dataTable['output_type'] = 'display_data';\n",
              "          await google.colab.output.renderOutput(dataTable, element);\n",
              "          const docLink = document.createElement('div');\n",
              "          docLink.innerHTML = docLinkHtml;\n",
              "          element.appendChild(docLink);\n",
              "        }\n",
              "      </script>\n",
              "    </div>\n",
              "  </div>\n",
              "  "
            ]
          },
          "metadata": {},
          "execution_count": 8
        }
      ],
      "source": [
        "df.describe()"
      ]
    },
    {
      "cell_type": "markdown",
      "metadata": {
        "id": "iiRVieiCe-eB"
      },
      "source": [
        "Почистим выбросы и некорректные данные, присутствующие в выборке. "
      ]
    },
    {
      "cell_type": "markdown",
      "source": [
        "-------"
      ],
      "metadata": {
        "id": "gv-rDenXlc99"
      }
    },
    {
      "cell_type": "markdown",
      "source": [
        "Price — цена (евро) - удалим строки с нулевой ценой."
      ],
      "metadata": {
        "id": "l1KCRDIDlfYF"
      }
    },
    {
      "cell_type": "code",
      "source": [
        "df['Price'].plot(kind='hist', grid=True, title='Price')"
      ],
      "metadata": {
        "colab": {
          "base_uri": "https://localhost:8080/",
          "height": 298
        },
        "id": "E612_34fkSlB",
        "outputId": "73326e6f-08e5-4c1b-9e12-d178f57c4248"
      },
      "execution_count": null,
      "outputs": [
        {
          "output_type": "execute_result",
          "data": {
            "text/plain": [
              "<matplotlib.axes._subplots.AxesSubplot at 0x7fca02845590>"
            ]
          },
          "metadata": {},
          "execution_count": 9
        },
        {
          "output_type": "display_data",
          "data": {
            "text/plain": [
              "<Figure size 432x288 with 1 Axes>"
            ],
            "image/png": "[encoded data removed]"
          },
          "metadata": {
            "needs_background": "light"
          }
        }
      ]
    },
    {
      "cell_type": "code",
      "execution_count": null,
      "metadata": {
        "colab": {
          "base_uri": "https://localhost:8080/"
        },
        "id": "PPvVr3A3e-eB",
        "outputId": "9a8ac45c-2002-4090-dc1d-5cab5abcccde"
      },
      "outputs": [
        {
          "output_type": "execute_result",
          "data": {
            "text/plain": [
              "10772"
            ]
          },
          "metadata": {},
          "execution_count": 10
        }
      ],
      "source": [
        "df[df['Price'] == 0]['Price'].count()"
      ]
    },
    {
      "cell_type": "code",
      "execution_count": null,
      "metadata": {
        "id": "p6oErHTwe-eB"
      },
      "outputs": [],
      "source": [
        "df = df.drop(df[df['Price'] == 0].index, axis=0)"
      ]
    },
    {
      "cell_type": "markdown",
      "source": [
        "---------"
      ],
      "metadata": {
        "id": "BcuNa3skq90v"
      }
    },
    {
      "cell_type": "markdown",
      "source": [
        "Power — мощность (л. с.) - удалим строки с нулевой мощностью."
      ],
      "metadata": {
        "id": "Xx1qahYYl7Tw"
      }
    },
    {
      "cell_type": "code",
      "source": [
        "df['Power'].plot(grid=True, title='Power', style='o', alpha=0.3, figsize=(10, 10), ylim=(0, 1000))"
      ],
      "metadata": {
        "colab": {
          "base_uri": "https://localhost:8080/",
          "height": 624
        },
        "id": "YmRjznz8l-7g",
        "outputId": "820ceb69-2ad3-4752-aba8-4543b3b56aef"
      },
      "execution_count": null,
      "outputs": [
        {
          "output_type": "execute_result",
          "data": {
            "text/plain": [
              "<matplotlib.axes._subplots.AxesSubplot at 0x7fca02299b90>"
            ]
          },
          "metadata": {},
          "execution_count": 12
        },
        {
          "output_type": "display_data",
          "data": {
            "text/plain": [
              "<Figure size 720x720 with 1 Axes>"
            ],
            "image/png": "[encoded data removed]"
          },
          "metadata": {
            "needs_background": "light"
          }
        }
      ]
    },
    {
      "cell_type": "code",
      "execution_count": null,
      "metadata": {
        "scrolled": true,
        "colab": {
          "base_uri": "https://localhost:8080/"
        },
        "id": "H6QvNohXe-eB",
        "outputId": "e81948fb-a7b3-4365-e29a-2a9a765c54fa"
      },
      "outputs": [
        {
          "output_type": "execute_result",
          "data": {
            "text/plain": [
              "36360"
            ]
          },
          "metadata": {},
          "execution_count": 13
        }
      ],
      "source": [
        "df[df['Power'] == 0]['Power'].count()"
      ]
    },
    {
      "cell_type": "code",
      "source": [
        "df = df.drop(df[df['Power'] == 0].index, axis=0)"
      ],
      "metadata": {
        "id": "ewhC6lcrRfO2"
      },
      "execution_count": null,
      "outputs": []
    },
    {
      "cell_type": "markdown",
      "source": [
        "---------"
      ],
      "metadata": {
        "id": "LjVpkjrtyUCq"
      }
    },
    {
      "cell_type": "markdown",
      "source": [
        "RegistrationYear — год регистрации автомобиля. Будем считать корректныс период с 1900 по 2022."
      ],
      "metadata": {
        "id": "2RET6rPIyIk_"
      }
    },
    {
      "cell_type": "code",
      "execution_count": null,
      "metadata": {
        "colab": {
          "base_uri": "https://localhost:8080/"
        },
        "id": "lyydYzqae-eC",
        "outputId": "3ee27dc4-1a7f-4c2f-d35e-5161fd586bb4"
      },
      "outputs": [
        {
          "output_type": "execute_result",
          "data": {
            "text/plain": [
              "38"
            ]
          },
          "metadata": {},
          "execution_count": 15
        }
      ],
      "source": [
        "df[(df['RegistrationYear'] > 2022) | (df['RegistrationYear'] < 1900)]['RegistrationYear'].count()"
      ]
    },
    {
      "cell_type": "code",
      "execution_count": null,
      "metadata": {
        "id": "COz5u8A6e-eD"
      },
      "outputs": [],
      "source": [
        "df = df.drop(df[(df['RegistrationYear'] > 2022) | (df['RegistrationYear'] < 1900)].index, axis=0)"
      ]
    },
    {
      "cell_type": "markdown",
      "source": [
        "----------"
      ],
      "metadata": {
        "id": "eIbUC7wwjxwM"
      }
    },
    {
      "cell_type": "markdown",
      "metadata": {
        "id": "zkzg83X9e-eE"
      },
      "source": [
        "Обработка пропусков"
      ]
    },
    {
      "cell_type": "code",
      "execution_count": null,
      "metadata": {
        "scrolled": true,
        "colab": {
          "base_uri": "https://localhost:8080/"
        },
        "id": "CMxPwMlye-eE",
        "outputId": "ba8cdc47-ebac-4579-8cf2-33f0d041a862"
      },
      "outputs": [
        {
          "output_type": "execute_result",
          "data": {
            "text/plain": [
              "Price               0.000000\n",
              "VehicleType         0.069538\n",
              "RegistrationYear    0.000000\n",
              "Gearbox             0.019815\n",
              "Power               0.000000\n",
              "Model               0.040625\n",
              "Kilometer           0.000000\n",
              "FuelType            0.064483\n",
              "Brand               0.000000\n",
              "NotRepaired         0.153539\n",
              "dtype: float64"
            ]
          },
          "metadata": {},
          "execution_count": 17
        }
      ],
      "source": [
        "df.isna().mean()"
      ]
    },
    {
      "cell_type": "code",
      "execution_count": null,
      "metadata": {
        "id": "0dYiJjKGe-eE",
        "outputId": "8cf41afb-629e-4d9a-bba7-cc32059e579d",
        "colab": {
          "base_uri": "https://localhost:8080/"
        }
      },
      "outputs": [
        {
          "output_type": "execute_result",
          "data": {
            "text/plain": [
              "Index(['VehicleType', 'Gearbox', 'Model', 'FuelType', 'Brand', 'NotRepaired'], dtype='object')"
            ]
          },
          "metadata": {},
          "execution_count": 18
        }
      ],
      "source": [
        "df.select_dtypes(include='object').columns"
      ]
    },
    {
      "cell_type": "markdown",
      "source": [
        "Пропуски только в категориальных признаках."
      ],
      "metadata": {
        "id": "aK5g6tgXy4Hg"
      }
    },
    {
      "cell_type": "code",
      "execution_count": null,
      "metadata": {
        "id": "6Xf1AWbre-eE"
      },
      "outputs": [],
      "source": [
        "col = []\n",
        "for c in df.columns:\n",
        "    if (df[c].isna().sum() != 0)&(df[c].dtypes == 'object'):\n",
        "        df[c] = df[c].fillna('unknown')\n",
        "        col.append(c)"
      ]
    },
    {
      "cell_type": "code",
      "execution_count": null,
      "metadata": {
        "scrolled": true,
        "colab": {
          "base_uri": "https://localhost:8080/"
        },
        "id": "-GjdaNmfe-eF",
        "outputId": "3ec833e3-e11a-4eb9-c08f-91b12095ab18"
      },
      "outputs": [
        {
          "output_type": "execute_result",
          "data": {
            "text/plain": [
              "VehicleType    object\n",
              "Gearbox        object\n",
              "Model          object\n",
              "FuelType       object\n",
              "NotRepaired    object\n",
              "dtype: object"
            ]
          },
          "metadata": {},
          "execution_count": 20
        }
      ],
      "source": [
        "df[col].dtypes"
      ]
    },
    {
      "cell_type": "code",
      "execution_count": null,
      "metadata": {
        "scrolled": true,
        "id": "3VarELb3e-eF",
        "outputId": "2c78fd9d-4887-4c85-88c3-7d31484e272e",
        "colab": {
          "base_uri": "https://localhost:8080/"
        }
      },
      "outputs": [
        {
          "output_type": "execute_result",
          "data": {
            "text/plain": [
              "sedan          0.270743\n",
              "small          0.228464\n",
              "wagon          0.193171\n",
              "bus            0.085427\n",
              "unknown        0.069538\n",
              "convertible    0.061149\n",
              "coupe          0.047637\n",
              "suv            0.035713\n",
              "other          0.008158\n",
              "Name: VehicleType, dtype: float64"
            ]
          },
          "metadata": {},
          "execution_count": 21
        }
      ],
      "source": [
        "df['VehicleType'].value_counts(normalize=True, dropna=False) # тип автомобильного кузова"
      ]
    },
    {
      "cell_type": "code",
      "execution_count": null,
      "metadata": {
        "scrolled": true,
        "id": "pTDE800ae-eG",
        "outputId": "1dc562a9-e53c-4847-fb52-d7c3a6431d62",
        "colab": {
          "base_uri": "https://localhost:8080/"
        }
      },
      "outputs": [
        {
          "output_type": "execute_result",
          "data": {
            "text/plain": [
              "manual     0.783469\n",
              "auto       0.196716\n",
              "unknown    0.019815\n",
              "Name: Gearbox, dtype: float64"
            ]
          },
          "metadata": {},
          "execution_count": 22
        }
      ],
      "source": [
        "df['Gearbox'].value_counts(normalize=True, dropna=False) # тип коробки передач"
      ]
    },
    {
      "cell_type": "code",
      "execution_count": null,
      "metadata": {
        "scrolled": false,
        "id": "dMmKPCdme-eG",
        "outputId": "696a8495-6b8b-4877-b7a4-4043ed89ed7b",
        "colab": {
          "base_uri": "https://localhost:8080/"
        }
      },
      "outputs": [
        {
          "output_type": "execute_result",
          "data": {
            "text/plain": [
              "golf                  0.084701\n",
              "other                 0.067790\n",
              "3er                   0.057923\n",
              "unknown               0.040625\n",
              "polo                  0.036318\n",
              "                        ...   \n",
              "i3                    0.000016\n",
              "samara                0.000016\n",
              "rangerover            0.000010\n",
              "serie_3               0.000010\n",
              "range_rover_evoque    0.000007\n",
              "Name: Model, Length: 250, dtype: float64"
            ]
          },
          "metadata": {},
          "execution_count": 23
        }
      ],
      "source": [
        "df['Model'].value_counts(normalize=True, dropna=False) # модель автомобиля"
      ]
    },
    {
      "cell_type": "code",
      "execution_count": null,
      "metadata": {
        "scrolled": true,
        "id": "Uqt28BSGe-eG",
        "outputId": "5423250d-2e8f-40d2-9d83-8b7ecc62b623",
        "colab": {
          "base_uri": "https://localhost:8080/"
        }
      },
      "outputs": [
        {
          "output_type": "execute_result",
          "data": {
            "text/plain": [
              "petrol      0.625432\n",
              "gasoline    0.291603\n",
              "unknown     0.064483\n",
              "lpg         0.015619\n",
              "cng         0.001631\n",
              "hybrid      0.000667\n",
              "other       0.000316\n",
              "electric    0.000251\n",
              "Name: FuelType, dtype: float64"
            ]
          },
          "metadata": {},
          "execution_count": 24
        }
      ],
      "source": [
        "df['FuelType'].value_counts(normalize=True, dropna=False) # тип топлива"
      ]
    },
    {
      "cell_type": "code",
      "execution_count": null,
      "metadata": {
        "scrolled": true,
        "id": "55M-ynuCe-eG",
        "outputId": "4a69b324-e8fd-4836-f781-28c8da1b3ec7",
        "colab": {
          "base_uri": "https://localhost:8080/"
        }
      },
      "outputs": [
        {
          "output_type": "execute_result",
          "data": {
            "text/plain": [
              "no         0.749517\n",
              "unknown    0.153539\n",
              "yes        0.096944\n",
              "Name: NotRepaired, dtype: float64"
            ]
          },
          "metadata": {},
          "execution_count": 25
        }
      ],
      "source": [
        "df['NotRepaired'].value_counts(normalize=True, dropna=False) # была машина в ремонте или нет"
      ]
    },
    {
      "cell_type": "markdown",
      "source": [
        "------"
      ],
      "metadata": {
        "id": "MUQtZwfHjnpY"
      }
    },
    {
      "cell_type": "markdown",
      "metadata": {
        "id": "VdA2BasEe-eG"
      },
      "source": [
        "Удалим явные дубликаты. Одну и ту же анкету могли скачать (и создать) несколько раз."
      ]
    },
    {
      "cell_type": "code",
      "execution_count": null,
      "metadata": {
        "id": "2EpkzdONe-eG",
        "outputId": "f30939a9-d750-433a-a176-41939627d97d",
        "colab": {
          "base_uri": "https://localhost:8080/"
        }
      },
      "outputs": [
        {
          "output_type": "execute_result",
          "data": {
            "text/plain": [
              "39781"
            ]
          },
          "metadata": {},
          "execution_count": 26
        }
      ],
      "source": [
        "df.duplicated().sum()"
      ]
    },
    {
      "cell_type": "code",
      "execution_count": null,
      "metadata": {
        "id": "jXwLPaG6e-eH"
      },
      "outputs": [],
      "source": [
        "df = df.drop_duplicates().reset_index(drop=True) "
      ]
    },
    {
      "cell_type": "markdown",
      "source": [
        "---------"
      ],
      "metadata": {
        "id": "8f85cGotjqBv"
      }
    },
    {
      "cell_type": "markdown",
      "metadata": {
        "id": "MMobSGrce-eH"
      },
      "source": [
        "Поменям тип 'object' -> 'category' для обучения моделей LightGBMRegressor."
      ]
    },
    {
      "cell_type": "code",
      "execution_count": null,
      "metadata": {
        "id": "v5nK3giie-eH"
      },
      "outputs": [],
      "source": [
        "# категориальные признаки\n",
        "cat_features = []\n",
        "for c in df.columns:\n",
        "    col_type = df[c].dtype\n",
        "    if col_type == 'object' or col_type.name == 'category':\n",
        "        df[c] = df[c].astype('category')\n",
        "        cat_features.append(c)"
      ]
    },
    {
      "cell_type": "code",
      "execution_count": null,
      "metadata": {
        "id": "UIYcQFu-e-eH",
        "outputId": "3b9aeeb1-0ccf-47ad-f4e8-1075315180e1",
        "colab": {
          "base_uri": "https://localhost:8080/"
        }
      },
      "outputs": [
        {
          "output_type": "execute_result",
          "data": {
            "text/plain": [
              "['VehicleType', 'Gearbox', 'Model', 'FuelType', 'Brand', 'NotRepaired']"
            ]
          },
          "metadata": {},
          "execution_count": 29
        }
      ],
      "source": [
        "cat_features # категориальные признаки"
      ]
    },
    {
      "cell_type": "markdown",
      "source": [
        "-----"
      ],
      "metadata": {
        "id": "Dg1ruBqpsbni"
      }
    },
    {
      "cell_type": "code",
      "execution_count": null,
      "metadata": {
        "id": "NaINlE08e-eI"
      },
      "outputs": [],
      "source": [
        "data = [] # таблица с результатами\n",
        "col_data = ['model', 'type', 'RMSE', 'time_search', 'time_fit', 'time_predict']"
      ]
    },
    {
      "cell_type": "markdown",
      "source": [
        "----------"
      ],
      "metadata": {
        "id": "_DSKkrnrsgmo"
      }
    },
    {
      "cell_type": "markdown",
      "metadata": {
        "id": "xTfU0gZIe-eI"
      },
      "source": [
        "## Обучение моделей"
      ]
    },
    {
      "cell_type": "markdown",
      "metadata": {
        "id": "aGwmOAGme-eJ"
      },
      "source": [
        "Разделим исходные данные на обучающую, валидационную и тестовую выборки. Делим в отношении 3 : 1 : 1."
      ]
    },
    {
      "cell_type": "code",
      "execution_count": null,
      "metadata": {
        "id": "HgcePSpze-eJ"
      },
      "outputs": [],
      "source": [
        "features = df.drop(['Price'], axis=1) # признаки\n",
        "target = df['Price'] # целевой признак"
      ]
    },
    {
      "cell_type": "code",
      "execution_count": null,
      "metadata": {
        "id": "sWncYY1ge-eJ",
        "outputId": "0e0cffbc-cd8d-48a6-a29d-853066dcac1d",
        "colab": {
          "base_uri": "https://localhost:8080/"
        }
      },
      "outputs": [
        {
          "output_type": "execute_result",
          "data": {
            "text/plain": [
              "(267418, 9)"
            ]
          },
          "metadata": {},
          "execution_count": 32
        }
      ],
      "source": [
        "features.shape"
      ]
    },
    {
      "cell_type": "code",
      "execution_count": null,
      "metadata": {
        "id": "p_wGwhWXe-eJ",
        "outputId": "8925f847-f9fa-4ad5-d3f5-548409c8a25f",
        "colab": {
          "base_uri": "https://localhost:8080/"
        }
      },
      "outputs": [
        {
          "output_type": "execute_result",
          "data": {
            "text/plain": [
              "(267418,)"
            ]
          },
          "metadata": {},
          "execution_count": 33
        }
      ],
      "source": [
        "target.shape"
      ]
    },
    {
      "cell_type": "code",
      "execution_count": null,
      "metadata": {
        "id": "ZAL4xzdbe-eJ"
      },
      "outputs": [],
      "source": [
        "# отделим 20% данных для тестовой выборки\n",
        "features_train_valid, features_test, target_train_valid, target_test = train_test_split(\n",
        "    features, target, test_size=0.2, random_state=12345) "
      ]
    },
    {
      "cell_type": "code",
      "execution_count": null,
      "metadata": {
        "id": "ByeBONsqe-eJ"
      },
      "outputs": [],
      "source": [
        "# отделим 25% данных для валидационной выборки\n",
        "features_train, features_valid, target_train, target_valid = train_test_split(\n",
        "    features_train_valid, target_train_valid, test_size=0.25, random_state=12345) "
      ]
    },
    {
      "cell_type": "code",
      "execution_count": null,
      "metadata": {
        "id": "31wb8lJEe-eK",
        "outputId": "b761e45b-2671-4542-ace8-c648531805d3",
        "colab": {
          "base_uri": "https://localhost:8080/"
        }
      },
      "outputs": [
        {
          "output_type": "execute_result",
          "data": {
            "text/plain": [
              "(160450, 9)"
            ]
          },
          "metadata": {},
          "execution_count": 36
        }
      ],
      "source": [
        "features_train.shape # признаки, тренировочная выборка"
      ]
    },
    {
      "cell_type": "code",
      "execution_count": null,
      "metadata": {
        "id": "JpxKCBIne-eK",
        "outputId": "56fd494f-b69f-40b9-e130-c76af62b5bbb",
        "colab": {
          "base_uri": "https://localhost:8080/"
        }
      },
      "outputs": [
        {
          "output_type": "execute_result",
          "data": {
            "text/plain": [
              "(160450,)"
            ]
          },
          "metadata": {},
          "execution_count": 37
        }
      ],
      "source": [
        "target_train.shape # целевой признак, тренировочная выборка"
      ]
    },
    {
      "cell_type": "code",
      "execution_count": null,
      "metadata": {
        "id": "XID7xdT8e-eK",
        "outputId": "6ac5d104-4080-4687-f393-ac273c57f6a2",
        "colab": {
          "base_uri": "https://localhost:8080/"
        }
      },
      "outputs": [
        {
          "output_type": "execute_result",
          "data": {
            "text/plain": [
              "(53484, 9)"
            ]
          },
          "metadata": {},
          "execution_count": 38
        }
      ],
      "source": [
        "features_valid.shape # признаки, валидационная выборка"
      ]
    },
    {
      "cell_type": "code",
      "execution_count": null,
      "metadata": {
        "id": "msj7l4CXe-eK",
        "outputId": "3241b17f-6b14-4566-e220-b3f499f152ac",
        "colab": {
          "base_uri": "https://localhost:8080/"
        }
      },
      "outputs": [
        {
          "output_type": "execute_result",
          "data": {
            "text/plain": [
              "(53484,)"
            ]
          },
          "metadata": {},
          "execution_count": 39
        }
      ],
      "source": [
        "target_valid.shape # целевой признак, валидационная выборка"
      ]
    },
    {
      "cell_type": "code",
      "execution_count": null,
      "metadata": {
        "id": "RXvcmHnde-eK",
        "outputId": "afea887a-73c2-4796-dbcd-4dc9f995b533",
        "colab": {
          "base_uri": "https://localhost:8080/"
        }
      },
      "outputs": [
        {
          "output_type": "execute_result",
          "data": {
            "text/plain": [
              "(53484, 9)"
            ]
          },
          "metadata": {},
          "execution_count": 40
        }
      ],
      "source": [
        "features_test.shape # признаки, тестовая выборка"
      ]
    },
    {
      "cell_type": "code",
      "execution_count": null,
      "metadata": {
        "id": "aQNm-xU4e-eK",
        "outputId": "7b10e470-8b1e-410e-81f0-789be12b5e63",
        "colab": {
          "base_uri": "https://localhost:8080/"
        }
      },
      "outputs": [
        {
          "output_type": "execute_result",
          "data": {
            "text/plain": [
              "(53484,)"
            ]
          },
          "metadata": {},
          "execution_count": 41
        }
      ],
      "source": [
        "target_test.shape # целевой признак, тестовая выборка"
      ]
    },
    {
      "cell_type": "markdown",
      "source": [
        "-----------"
      ],
      "metadata": {
        "id": "9UOL3HjVsd8A"
      }
    },
    {
      "cell_type": "markdown",
      "source": [
        "Масштабирование численных признаков пользы не принесло..."
      ],
      "metadata": {
        "id": "4yDVHfjesk5w"
      }
    },
    {
      "cell_type": "markdown",
      "metadata": {
        "id": "AGRPJJDye-eL"
      },
      "source": [
        "----------------"
      ]
    },
    {
      "cell_type": "code",
      "execution_count": null,
      "metadata": {
        "id": "yAB5UGrRe-eL"
      },
      "outputs": [],
      "source": [
        "def RMSE(target_valid, predictions_valid): # функция для вычисления RMSE\n",
        "    return mean_squared_error(target_valid, predictions_valid) ** 0.5"
      ]
    },
    {
      "cell_type": "markdown",
      "source": [
        "------"
      ],
      "metadata": {
        "id": "NjbwLs2OuCBw"
      }
    },
    {
      "cell_type": "markdown",
      "metadata": {
        "id": "E0yo1YqTe-eL"
      },
      "source": [
        "### CatBoostRegressor"
      ]
    },
    {
      "cell_type": "code",
      "execution_count": null,
      "metadata": {
        "id": "XWGNRbAQe-eL",
        "outputId": "ea3357d6-7a76-4801-8036-9c93448c263a",
        "colab": {
          "base_uri": "https://localhost:8080/"
        }
      },
      "outputs": [
        {
          "output_type": "stream",
          "name": "stdout",
          "text": [
            "0:\tlearn: 5774.8658413\ttest: 5830.2048967\tbest: 5830.2048967 (0)\ttotal: 681ms\tremaining: 11m 20s\n",
            "200:\tlearn: 1597.3406069\ttest: 1673.4706214\tbest: 1673.4706214 (200)\ttotal: 55.5s\tremaining: 3m 40s\n",
            "400:\tlearn: 1511.1433216\ttest: 1641.9029511\tbest: 1641.9029511 (400)\ttotal: 1m 36s\tremaining: 2m 24s\n",
            "600:\tlearn: 1461.5875478\ttest: 1632.1113038\tbest: 1632.1113038 (600)\ttotal: 2m 19s\tremaining: 1m 32s\n",
            "800:\tlearn: 1418.4363659\ttest: 1624.9917208\tbest: 1624.9917208 (800)\ttotal: 3m 1s\tremaining: 45s\n",
            "999:\tlearn: 1388.6783429\ttest: 1622.3225888\tbest: 1622.0969996 (973)\ttotal: 3m 43s\tremaining: 0us\n",
            "\n",
            "bestTest = 1622.097\n",
            "bestIteration = 973\n",
            "\n",
            "0:\tloss: 1622.0969996\tbest: 1622.0969996 (0)\ttotal: 3m 43s\tremaining: 3m 43s\n",
            "0:\tlearn: 5774.8915356\ttest: 5835.2135702\tbest: 5835.2135702 (0)\ttotal: 363ms\tremaining: 6m 2s\n",
            "200:\tlearn: 1499.4411767\ttest: 1652.4440338\tbest: 1652.4440338 (200)\ttotal: 1m 5s\tremaining: 4m 18s\n",
            "400:\tlearn: 1392.4553401\ttest: 1630.2801463\tbest: 1630.1787516 (397)\ttotal: 2m 13s\tremaining: 3m 19s\n",
            "600:\tlearn: 1331.0133973\ttest: 1624.2091931\tbest: 1623.8398432 (592)\ttotal: 3m 22s\tremaining: 2m 14s\n",
            "800:\tlearn: 1276.1257908\ttest: 1621.9415008\tbest: 1621.5564015 (753)\ttotal: 4m 33s\tremaining: 1m 7s\n",
            "999:\tlearn: 1235.9633377\ttest: 1620.3148129\tbest: 1620.1970179 (987)\ttotal: 5m 43s\tremaining: 0us\n",
            "\n",
            "bestTest = 1620.197018\n",
            "bestIteration = 987\n",
            "\n",
            "1:\tloss: 1620.1970179\tbest: 1620.1970179 (1)\ttotal: 9m 27s\tremaining: 0us\n",
            "Estimating final quality...\n",
            "Training on fold [0/3]\n",
            "0:\tlearn: 5791.1942233\ttest: 5774.3595446\tbest: 5774.3595446 (0)\ttotal: 351ms\tremaining: 5m 50s\n",
            "200:\tlearn: 1495.3810834\ttest: 1651.6994611\tbest: 1651.6994611 (200)\ttotal: 1m 1s\tremaining: 4m 3s\n",
            "400:\tlearn: 1373.9682200\ttest: 1632.0836341\tbest: 1631.9565335 (396)\ttotal: 2m 3s\tremaining: 3m 5s\n",
            "600:\tlearn: 1301.0987975\ttest: 1626.3111736\tbest: 1626.0717031 (589)\ttotal: 3m 6s\tremaining: 2m 3s\n",
            "800:\tlearn: 1238.6046504\ttest: 1626.1189089\tbest: 1625.7009421 (617)\ttotal: 4m 7s\tremaining: 1m 1s\n",
            "999:\tlearn: 1188.2829696\ttest: 1626.0121285\tbest: 1625.7009421 (617)\ttotal: 5m 10s\tremaining: 0us\n",
            "\n",
            "bestTest = 1625.700942\n",
            "bestIteration = 617\n",
            "\n",
            "Training on fold [1/3]\n",
            "0:\tlearn: 5784.0997597\ttest: 5733.8753869\tbest: 5733.8753869 (0)\ttotal: 339ms\tremaining: 5m 38s\n",
            "200:\tlearn: 1483.5280529\ttest: 1682.5498003\tbest: 1682.5498003 (200)\ttotal: 58.6s\tremaining: 3m 52s\n",
            "400:\tlearn: 1371.8419827\ttest: 1665.6157231\tbest: 1665.5643000 (399)\ttotal: 2m 1s\tremaining: 3m\n",
            "600:\tlearn: 1299.4338422\ttest: 1659.9641081\tbest: 1659.6571162 (576)\ttotal: 3m 3s\tremaining: 2m 1s\n",
            "800:\tlearn: 1242.3727942\ttest: 1658.6612926\tbest: 1658.6612926 (800)\ttotal: 4m 5s\tremaining: 1m 1s\n",
            "999:\tlearn: 1196.5170947\ttest: 1657.9700490\tbest: 1657.6207434 (871)\ttotal: 5m 7s\tremaining: 0us\n",
            "\n",
            "bestTest = 1657.620743\n",
            "bestIteration = 871\n",
            "\n",
            "Training on fold [2/3]\n",
            "0:\tlearn: 5780.2488169\ttest: 5846.6755381\tbest: 5846.6755381 (0)\ttotal: 277ms\tremaining: 4m 37s\n",
            "200:\tlearn: 1483.1162885\ttest: 1681.4095036\tbest: 1681.4095036 (200)\ttotal: 59.1s\tremaining: 3m 55s\n",
            "400:\tlearn: 1369.0035673\ttest: 1662.2314829\tbest: 1662.2314829 (400)\ttotal: 2m 2s\tremaining: 3m 2s\n",
            "600:\tlearn: 1295.2845430\ttest: 1657.5268566\tbest: 1657.5268566 (600)\ttotal: 3m 6s\tremaining: 2m 3s\n",
            "800:\tlearn: 1240.8900328\ttest: 1655.5061979\tbest: 1654.9811605 (785)\ttotal: 4m 9s\tremaining: 1m 1s\n",
            "999:\tlearn: 1196.1895399\ttest: 1656.1665074\tbest: 1654.9811605 (785)\ttotal: 5m 12s\tremaining: 0us\n",
            "\n",
            "bestTest = 1654.98116\n",
            "bestIteration = 785\n",
            "\n",
            "Execution time is: 1891.6529386043549\n",
            "\n"
          ]
        }
      ],
      "source": [
        "start = time.time()\n",
        "\n",
        "parameters_CBR = {'cat_features': cat_features,\n",
        "                  'loss_function': 'RMSE', # значение по умолчанию\n",
        "                  'iterations': 1000, # значение по умолчанию\n",
        "                  'random_state': 12345,\n",
        "                  'verbose': 200}\n",
        "\n",
        "model_CBR = CatBoostRegressor(**parameters_CBR)\n",
        "\n",
        "grid = {'learning_rate': [0.17],\n",
        "        'depth': [8, 10]}\n",
        "\n",
        "grid_search_result = model_CBR.grid_search(grid, \n",
        "                                           X=features_train, \n",
        "                                           y=target_train)\n",
        "\n",
        "end = time.time()\n",
        "time_search = end - start\n",
        "print('Execution time is:', end - start)\n",
        "print()"
      ]
    },
    {
      "cell_type": "code",
      "execution_count": null,
      "metadata": {
        "id": "UyD7q5Xfe-eM",
        "colab": {
          "base_uri": "https://localhost:8080/"
        },
        "outputId": "d364dca1-32eb-42f4-8fc8-37a07c2309e3"
      },
      "outputs": [
        {
          "output_type": "stream",
          "name": "stdout",
          "text": [
            "Execution time is: 1.3159332275390625\n",
            "\n"
          ]
        }
      ],
      "source": [
        "start = time.time()\n",
        "\n",
        "predictions_valid = model_CBR.predict(features_valid) # получим предсказания модели на валидационной выборке\n",
        "\n",
        "end = time.time()\n",
        "time_predict = end - start\n",
        "print('Execution time is:', end - start)\n",
        "print()"
      ]
    },
    {
      "cell_type": "code",
      "execution_count": null,
      "metadata": {
        "id": "sa5piMr9e-eM",
        "colab": {
          "base_uri": "https://localhost:8080/"
        },
        "outputId": "f54b35d9-d80a-471c-9f37-4d5918a77fe6"
      },
      "outputs": [
        {
          "output_type": "stream",
          "name": "stdout",
          "text": [
            "RMSE модели CatBoostRegressor на валидационной выборке: 1607.817586782856\n"
          ]
        }
      ],
      "source": [
        "result = RMSE(target_valid, predictions_valid) # значение метрики RMSE на валидационной выборке\n",
        "\n",
        "print(\"RMSE модели CatBoostRegressor на валидационной выборке:\", result)\n",
        "\n",
        "data.append(['CatBoostRegressor', 'valid', result, time_search, '-', time_predict])"
      ]
    },
    {
      "cell_type": "markdown",
      "metadata": {
        "id": "m6v1Leyqe-eN"
      },
      "source": [
        "------"
      ]
    },
    {
      "cell_type": "markdown",
      "metadata": {
        "id": "6AwjDVMue-eP"
      },
      "source": [
        "### LightGBMRegressor"
      ]
    },
    {
      "cell_type": "code",
      "execution_count": null,
      "metadata": {
        "id": "d0GRXR3De-eP"
      },
      "outputs": [],
      "source": [
        "gridParams = {\n",
        "    'learning_rate': [0.15],\n",
        "    'num_leaves': [50],\n",
        "    'n_estimators': [200, 300],\n",
        "    'objective' : ['regression'],\n",
        "    'random_state' : [12345] \n",
        "    }"
      ]
    },
    {
      "cell_type": "code",
      "execution_count": null,
      "metadata": {
        "scrolled": true,
        "id": "L4AQuzWYe-eP",
        "colab": {
          "base_uri": "https://localhost:8080/"
        },
        "outputId": "a60ee6c2-064c-4805-b28f-d069eeb816d3"
      },
      "outputs": [
        {
          "output_type": "stream",
          "name": "stdout",
          "text": [
            "Execution time is: 0.0002009868621826172\n",
            "\n"
          ]
        }
      ],
      "source": [
        "start = time.time()\n",
        "\n",
        "model = lgb.LGBMRegressor()\n",
        "model_LGBMR = RandomizedSearchCV(model, gridParams ,verbose=1 ,cv=10 ,n_jobs = -1, n_iter=10)\n",
        "\n",
        "end = time.time()\n",
        "time_search = end - start\n",
        "print('Execution time is:', end - start)\n",
        "print()"
      ]
    },
    {
      "cell_type": "code",
      "source": [
        "start = time.time()\n",
        "\n",
        "model_LGBMR.fit(features_train, target_train)\n",
        "\n",
        "end = time.time()\n",
        "time_fit = end - start\n",
        "print('Execution time is:', end - start)\n",
        "print()"
      ],
      "metadata": {
        "colab": {
          "base_uri": "https://localhost:8080/"
        },
        "id": "T2tIsOQztl62",
        "outputId": "9980cfc3-a488-45f5-a731-d50e658fc80f"
      },
      "execution_count": null,
      "outputs": [
        {
          "output_type": "stream",
          "name": "stdout",
          "text": [
            "Fitting 10 folds for each of 2 candidates, totalling 20 fits\n",
            "Execution time is: 49.02857565879822\n",
            "\n"
          ]
        }
      ]
    },
    {
      "cell_type": "code",
      "execution_count": null,
      "metadata": {
        "id": "TGv9FSIEe-eP",
        "colab": {
          "base_uri": "https://localhost:8080/"
        },
        "outputId": "acd62250-6e5e-43d3-9afa-804c156afdaa"
      },
      "outputs": [
        {
          "output_type": "execute_result",
          "data": {
            "text/plain": [
              "{'learning_rate': 0.15,\n",
              " 'n_estimators': 300,\n",
              " 'num_leaves': 50,\n",
              " 'objective': 'regression',\n",
              " 'random_state': 12345}"
            ]
          },
          "metadata": {},
          "execution_count": 49
        }
      ],
      "source": [
        "model_LGBMR.best_params_"
      ]
    },
    {
      "cell_type": "code",
      "execution_count": null,
      "metadata": {
        "id": "A4MV4NPWe-eQ",
        "colab": {
          "base_uri": "https://localhost:8080/"
        },
        "outputId": "9af5a5da-5d0c-4140-d112-8394a165afdf"
      },
      "outputs": [
        {
          "output_type": "stream",
          "name": "stdout",
          "text": [
            "Execution time is: 0.7196335792541504\n",
            "\n"
          ]
        }
      ],
      "source": [
        "start = time.time()\n",
        "\n",
        "predictions_valid = model_LGBMR.predict(features_valid) # получим предсказания модели на валидационной выборке\n",
        "\n",
        "end = time.time()\n",
        "time_predict = end - start\n",
        "print('Execution time is:', end - start)\n",
        "print()"
      ]
    },
    {
      "cell_type": "code",
      "execution_count": null,
      "metadata": {
        "id": "_pcXc2NCe-eQ",
        "colab": {
          "base_uri": "https://localhost:8080/"
        },
        "outputId": "a7c2770c-2ec0-4d8d-d077-a7312b3dac53"
      },
      "outputs": [
        {
          "output_type": "stream",
          "name": "stdout",
          "text": [
            "RMSE модели LightGBMRegressor на валидационной выборке: 1615.2481962988584\n"
          ]
        }
      ],
      "source": [
        "result = RMSE(target_valid, predictions_valid) # значение метрики RMSE на валидационной выборке\n",
        "\n",
        "print(\"RMSE модели LightGBMRegressor на валидационной выборке:\", result)\n",
        "\n",
        "data.append(['LightGBMRegressor', 'valid', result, time_search, time_fit, time_predict])"
      ]
    },
    {
      "cell_type": "markdown",
      "metadata": {
        "id": "x4qZNea0e-eS"
      },
      "source": [
        "---------"
      ]
    },
    {
      "cell_type": "markdown",
      "metadata": {
        "id": "7ekjLbg3e-eS"
      },
      "source": [
        "Для обработки данных моделями дерева решений, случайного леса и линейной регрессии применим прямое кодирование категориальных признаков (One-Hot Encoding, OHE). "
      ]
    },
    {
      "cell_type": "code",
      "execution_count": null,
      "metadata": {
        "id": "U62_RZ74e-eS"
      },
      "outputs": [],
      "source": [
        "features_train_enc = deepcopy(features_train)\n",
        "features_valid_enc = deepcopy(features_valid)\n",
        "features_test_enc = deepcopy(features_test)"
      ]
    },
    {
      "cell_type": "code",
      "source": [
        "cat_features"
      ],
      "metadata": {
        "id": "xaofbQmn6Ysl",
        "colab": {
          "base_uri": "https://localhost:8080/"
        },
        "outputId": "f0a272ea-0516-4d1b-aa4d-258989f305ee"
      },
      "execution_count": null,
      "outputs": [
        {
          "output_type": "execute_result",
          "data": {
            "text/plain": [
              "['VehicleType', 'Gearbox', 'Model', 'FuelType', 'Brand', 'NotRepaired']"
            ]
          },
          "metadata": {},
          "execution_count": 53
        }
      ]
    },
    {
      "cell_type": "code",
      "source": [
        "col = ['VehicleType', 'Gearbox', 'Model', 'FuelType', 'Brand', 'NotRepaired']"
      ],
      "metadata": {
        "id": "OD_U-jBOzE3_"
      },
      "execution_count": null,
      "outputs": []
    },
    {
      "cell_type": "code",
      "source": [
        "features_train_enc = pd.get_dummies(features_train_enc, columns = col, drop_first=True)\n",
        "features_valid_enc = pd.get_dummies(features_valid_enc, columns = col, drop_first=True)\n",
        "features_test_enc = pd.get_dummies(features_test_enc, columns = col, drop_first=True)"
      ],
      "metadata": {
        "id": "rMiFAIhb1_tL"
      },
      "execution_count": null,
      "outputs": []
    },
    {
      "cell_type": "code",
      "source": [
        "features_train_enc.shape"
      ],
      "metadata": {
        "id": "7wn3yl6AIqgQ",
        "colab": {
          "base_uri": "https://localhost:8080/"
        },
        "outputId": "37977fbb-a67a-45fd-9169-61383fff61ec"
      },
      "execution_count": null,
      "outputs": [
        {
          "output_type": "execute_result",
          "data": {
            "text/plain": [
              "(160450, 310)"
            ]
          },
          "metadata": {},
          "execution_count": 56
        }
      ]
    },
    {
      "cell_type": "markdown",
      "source": [
        "-----"
      ],
      "metadata": {
        "id": "rANal1v6rV-u"
      }
    },
    {
      "cell_type": "markdown",
      "metadata": {
        "id": "86Fr_I8ve-eS"
      },
      "source": [
        "### DecisionTreeRegressor"
      ]
    },
    {
      "cell_type": "code",
      "execution_count": null,
      "metadata": {
        "id": "uApqvfjRe-eT"
      },
      "outputs": [],
      "source": [
        "scoring = make_scorer(RMSE, greater_is_better=False) # scoring=scoring для cross_val_score"
      ]
    },
    {
      "cell_type": "code",
      "execution_count": null,
      "metadata": {
        "id": "AYc8DXW7e-eT",
        "colab": {
          "base_uri": "https://localhost:8080/"
        },
        "outputId": "82393528-3846-4f91-e5be-90c9c6fda724"
      },
      "outputs": [
        {
          "output_type": "stream",
          "name": "stdout",
          "text": [
            "Модель 'Дерево решений', глубина дерева: 14\n",
            "Execution time is: 120.63101243972778\n",
            "\n"
          ]
        }
      ],
      "source": [
        "start = time.time()\n",
        "\n",
        "best_modelDTR = None\n",
        "best_depthDTR = 0\n",
        "best_rmseDTR = 10000\n",
        "\n",
        "for depth in range(1, 20): # в цикле меняем гиперпараметр - максимальную глубину дерева\n",
        "\n",
        "    model = DecisionTreeRegressor(random_state=12345, max_depth=depth) # модель - дерево решений, с заданной глубиной дерева\n",
        "    \n",
        "    score = abs(sum(cross_val_score(model, features_train_enc, target_train, scoring=scoring, cv=3)) / 3)\n",
        "    \n",
        "    if score < best_rmseDTR:\n",
        "        best_modelDTR = model\n",
        "        best_depthDTR = depth\n",
        "        best_rmseDTR = score\n",
        "\n",
        "print(\"Модель 'Дерево решений', глубина дерева:\", best_depthDTR)\n",
        "\n",
        "end = time.time()\n",
        "time_search = end - start\n",
        "print('Execution time is:', end - start)\n",
        "print()"
      ]
    },
    {
      "cell_type": "code",
      "execution_count": null,
      "metadata": {
        "id": "9FQYk4ZEe-eT",
        "colab": {
          "base_uri": "https://localhost:8080/"
        },
        "outputId": "721f34d3-6fdf-49c9-8592-339df43f6bce"
      },
      "outputs": [
        {
          "output_type": "stream",
          "name": "stdout",
          "text": [
            "Execution time is: 4.991910457611084\n",
            "\n"
          ]
        }
      ],
      "source": [
        "start = time.time()\n",
        "\n",
        "best_modelDTR.fit(features_train_enc, target_train)\n",
        "\n",
        "end = time.time()\n",
        "time_fit = end - start\n",
        "print('Execution time is:', end - start)\n",
        "print()"
      ]
    },
    {
      "cell_type": "code",
      "execution_count": null,
      "metadata": {
        "id": "_O8NdjT2e-eT",
        "colab": {
          "base_uri": "https://localhost:8080/"
        },
        "outputId": "db0f2f08-f20a-4456-d524-56b1603d4da3"
      },
      "outputs": [
        {
          "output_type": "stream",
          "name": "stdout",
          "text": [
            "Execution time is: 0.0800325870513916\n",
            "\n"
          ]
        }
      ],
      "source": [
        "start = time.time()\n",
        "\n",
        "predictions_valid = best_modelDTR.predict(features_valid_enc) # получим предсказания модели на валидационной выборке\n",
        "\n",
        "end = time.time()\n",
        "time_predict = end - start\n",
        "print('Execution time is:', end - start)\n",
        "print()"
      ]
    },
    {
      "cell_type": "code",
      "execution_count": null,
      "metadata": {
        "id": "OZeEygD9e-eT",
        "colab": {
          "base_uri": "https://localhost:8080/"
        },
        "outputId": "6ae47e2a-7b3d-47a8-ad95-cf09b5c04214"
      },
      "outputs": [
        {
          "output_type": "stream",
          "name": "stdout",
          "text": [
            "RMSE модели DecisionTreeRegressor на валидационной выборке: 1946.9698627632672\n"
          ]
        }
      ],
      "source": [
        "result = RMSE(target_valid, predictions_valid) # значение метрики RMSE на валидационной выборке\n",
        "\n",
        "print(\"RMSE модели DecisionTreeRegressor на валидационной выборке:\", result)\n",
        "\n",
        "data.append(['DecisionTreeRegressor', 'valid', result, time_search, time_fit, time_predict])"
      ]
    },
    {
      "cell_type": "markdown",
      "source": [
        "----------"
      ],
      "metadata": {
        "id": "v3AidYcAYAX9"
      }
    },
    {
      "cell_type": "markdown",
      "metadata": {
        "id": "meuRug0ae-eT"
      },
      "source": [
        "### RandomForestRegressor"
      ]
    },
    {
      "cell_type": "code",
      "execution_count": null,
      "metadata": {
        "scrolled": true,
        "id": "ebjeHl9Ie-eU",
        "colab": {
          "base_uri": "https://localhost:8080/"
        },
        "outputId": "e4dd2c84-baca-4c47-844b-2e49ca3132f7"
      },
      "outputs": [
        {
          "output_type": "stream",
          "name": "stdout",
          "text": [
            "Модель 'Случайный лес', количество деревьев: 9 , глубина дерева: 19\n",
            "Execution time is: 914.797607421875\n",
            "\n"
          ]
        }
      ],
      "source": [
        "start = time.time()\n",
        "\n",
        "best_modelRFR = None\n",
        "best_depthRFR = 0\n",
        "best_est = 0\n",
        "best_rmseRFR = 10000\n",
        "\n",
        "for est in range(1, 11, 2): # в цикле меняем гиперпараметр - максимальное количество деревьев\n",
        "    for depth in range(1, 21, 2): # в цикле меняем гиперпараметр - максимальную глубину дерева\n",
        "\n",
        "        model = RandomForestRegressor(random_state=12345, n_estimators=est, max_depth=depth) # случайный лес\n",
        "    \n",
        "        score = abs(sum(cross_val_score(model, features_train_enc, target_train, scoring=scoring, cv=3)) / 3)\n",
        "    \n",
        "        if score < best_rmseRFR:\n",
        "            best_modelRFR = model\n",
        "            best_depthRFR = depth\n",
        "            best_est = est\n",
        "            best_rmseRFR = score\n",
        "\n",
        "            \n",
        "print(\"Модель 'Случайный лес', количество деревьев:\", best_est, \", глубина дерева:\", best_depthRFR)\n",
        "\n",
        "end = time.time()\n",
        "time_search = end - start\n",
        "print('Execution time is:', end - start)\n",
        "print()"
      ]
    },
    {
      "cell_type": "code",
      "execution_count": null,
      "metadata": {
        "id": "Sy47tbIAe-eU",
        "colab": {
          "base_uri": "https://localhost:8080/"
        },
        "outputId": "be97eeb1-d301-4993-f08c-f74b94f9af31"
      },
      "outputs": [
        {
          "output_type": "stream",
          "name": "stdout",
          "text": [
            "Execution time is: 31.251786947250366\n",
            "\n"
          ]
        }
      ],
      "source": [
        "start = time.time()\n",
        "\n",
        "best_modelRFR.fit(features_train_enc, target_train)\n",
        "\n",
        "end = time.time()\n",
        "time_fit = end - start\n",
        "print('Execution time is:', end - start)\n",
        "print()"
      ]
    },
    {
      "cell_type": "code",
      "execution_count": null,
      "metadata": {
        "id": "UQcXGwEke-eU",
        "colab": {
          "base_uri": "https://localhost:8080/"
        },
        "outputId": "de69986d-c3fa-4c8d-8146-cec3006f852f"
      },
      "outputs": [
        {
          "output_type": "stream",
          "name": "stdout",
          "text": [
            "Execution time is: 0.20589733123779297\n",
            "\n"
          ]
        }
      ],
      "source": [
        "start = time.time()\n",
        "\n",
        "predictions_valid = best_modelRFR.predict(features_valid_enc) # получим предсказания модели на валидационной выборке\n",
        "\n",
        "end = time.time()\n",
        "time_predict = end - start\n",
        "print('Execution time is:', end - start)\n",
        "print()"
      ]
    },
    {
      "cell_type": "code",
      "execution_count": null,
      "metadata": {
        "id": "QITeP_9me-eU",
        "colab": {
          "base_uri": "https://localhost:8080/"
        },
        "outputId": "41f6d121-3049-444a-b045-d56b895d240d"
      },
      "outputs": [
        {
          "output_type": "stream",
          "name": "stdout",
          "text": [
            "RMSE модели RandomForestRegressor на валидационной выборке: 1746.8291833187725\n"
          ]
        }
      ],
      "source": [
        "result = RMSE(target_valid, predictions_valid) # значение метрики RMSE на валидационной выборке\n",
        "\n",
        "print(\"RMSE модели RandomForestRegressor на валидационной выборке:\", result)\n",
        "\n",
        "data.append(['RandomForestRegressor', 'valid', result, time_search, time_fit, time_predict])"
      ]
    },
    {
      "cell_type": "markdown",
      "source": [
        "-----------"
      ],
      "metadata": {
        "id": "l0ql9OS5YDcD"
      }
    },
    {
      "cell_type": "markdown",
      "metadata": {
        "id": "UW8UhTNqe-eU"
      },
      "source": [
        "### LinearRegression"
      ]
    },
    {
      "cell_type": "code",
      "execution_count": null,
      "metadata": {
        "id": "5Mc8SBSle-eU"
      },
      "outputs": [],
      "source": [
        "modelLinR = LinearRegression() # инициализируем модель LinearRegression"
      ]
    },
    {
      "cell_type": "code",
      "execution_count": null,
      "metadata": {
        "id": "4eYrtEoUe-eV",
        "colab": {
          "base_uri": "https://localhost:8080/"
        },
        "outputId": "e7595fd1-06de-4881-9d97-604f242fef52"
      },
      "outputs": [
        {
          "output_type": "stream",
          "name": "stdout",
          "text": [
            "Execution time is: 4.98356556892395\n",
            "\n"
          ]
        }
      ],
      "source": [
        "start = time.time()\n",
        "\n",
        "modelLinR.fit(features_train_enc, target_train)\n",
        "\n",
        "end = time.time()\n",
        "time_fit = end - start\n",
        "print('Execution time is:', end - start)\n",
        "print()"
      ]
    },
    {
      "cell_type": "code",
      "execution_count": null,
      "metadata": {
        "id": "QKOZe1xje-eV",
        "colab": {
          "base_uri": "https://localhost:8080/"
        },
        "outputId": "f35e6778-e162-4fd0-b5c3-a139a6af4d9c"
      },
      "outputs": [
        {
          "output_type": "stream",
          "name": "stdout",
          "text": [
            "Execution time is: 0.11739587783813477\n",
            "\n"
          ]
        }
      ],
      "source": [
        "start = time.time()\n",
        "\n",
        "predictions_valid = modelLinR.predict(features_valid_enc) # получим предсказания модели на валидационной выборке\n",
        "\n",
        "end = time.time()\n",
        "time_predict = end - start\n",
        "print('Execution time is:', end - start)\n",
        "print()"
      ]
    },
    {
      "cell_type": "code",
      "execution_count": null,
      "metadata": {
        "id": "26RnjRe0e-eV",
        "colab": {
          "base_uri": "https://localhost:8080/"
        },
        "outputId": "81285df1-8dbd-4758-eba8-4a70fd43b4a7"
      },
      "outputs": [
        {
          "output_type": "stream",
          "name": "stdout",
          "text": [
            "RMSE модели LinearRegression на валидационной выборке: 2842.541853861626\n"
          ]
        }
      ],
      "source": [
        "result = RMSE(target_valid, predictions_valid) # значение метрики RMSE на валидационной выборке\n",
        "\n",
        "print(\"RMSE модели LinearRegression на валидационной выборке:\", result)\n",
        "\n",
        "data.append(['LinearRegression', 'valid', result, '-', time_fit, time_predict])"
      ]
    },
    {
      "cell_type": "markdown",
      "metadata": {
        "id": "wk2mDeCJe-eV"
      },
      "source": [
        "## Анализ моделей"
      ]
    },
    {
      "cell_type": "markdown",
      "metadata": {
        "id": "7htNIQmLe-eV"
      },
      "source": [
        "Заказчику важны:\n",
        "\n",
        "- качество предсказания;\n",
        "- скорость предсказания;\n",
        "- время обучения."
      ]
    },
    {
      "cell_type": "code",
      "execution_count": null,
      "metadata": {
        "id": "v1EjS4Q4e-eV"
      },
      "outputs": [],
      "source": [
        "df_result = pd.DataFrame(data=data , columns=col_data) # таблица с результатами"
      ]
    },
    {
      "cell_type": "code",
      "execution_count": null,
      "metadata": {
        "scrolled": true,
        "id": "Pih0rQcSe-eW",
        "colab": {
          "base_uri": "https://localhost:8080/",
          "height": 206
        },
        "outputId": "54f5725f-57a7-4db0-d8d3-7be924f56c56"
      },
      "outputs": [
        {
          "output_type": "execute_result",
          "data": {
            "text/plain": [
              "                   model   type         RMSE  time_search   time_fit  \\\n",
              "0      CatBoostRegressor  valid  1607.817587  1891.652939          -   \n",
              "1      LightGBMRegressor  valid  1615.248196     0.000201  49.028576   \n",
              "2  DecisionTreeRegressor  valid  1946.969863   120.631012    4.99191   \n",
              "3  RandomForestRegressor  valid  1746.829183   914.797607  31.251787   \n",
              "4       LinearRegression  valid  2842.541854            -   4.983566   \n",
              "\n",
              "   time_predict  \n",
              "0      1.315933  \n",
              "1      0.719634  \n",
              "2      0.080033  \n",
              "3      0.205897  \n",
              "4      0.117396  "
            ],
            "text/html": [
              "\n",
              "  <div id=\"df-d572bb1b-fcac-460b-a016-97b1df149f6d\">\n",
              "    <div class=\"colab-df-container\">\n",
              "      <div>\n",
              "<style scoped>\n",
              "    .dataframe tbody tr th:only-of-type {\n",
              "        vertical-align: middle;\n",
              "    }\n",
              "\n",
              "    .dataframe tbody tr th {\n",
              "        vertical-align: top;\n",
              "    }\n",
              "\n",
              "    .dataframe thead th {\n",
              "        text-align: right;\n",
              "    }\n",
              "</style>\n",
              "<table border=\"1\" class=\"dataframe\">\n",
              "  <thead>\n",
              "    <tr style=\"text-align: right;\">\n",
              "      <th></th>\n",
              "      <th>model</th>\n",
              "      <th>type</th>\n",
              "      <th>RMSE</th>\n",
              "      <th>time_search</th>\n",
              "      <th>time_fit</th>\n",
              "      <th>time_predict</th>\n",
              "    </tr>\n",
              "  </thead>\n",
              "  <tbody>\n",
              "    <tr>\n",
              "      <th>0</th>\n",
              "      <td>CatBoostRegressor</td>\n",
              "      <td>valid</td>\n",
              "      <td>1607.817587</td>\n",
              "      <td>1891.652939</td>\n",
              "      <td>-</td>\n",
              "      <td>1.315933</td>\n",
              "    </tr>\n",
              "    <tr>\n",
              "      <th>1</th>\n",
              "      <td>LightGBMRegressor</td>\n",
              "      <td>valid</td>\n",
              "      <td>1615.248196</td>\n",
              "      <td>0.000201</td>\n",
              "      <td>49.028576</td>\n",
              "      <td>0.719634</td>\n",
              "    </tr>\n",
              "    <tr>\n",
              "      <th>2</th>\n",
              "      <td>DecisionTreeRegressor</td>\n",
              "      <td>valid</td>\n",
              "      <td>1946.969863</td>\n",
              "      <td>120.631012</td>\n",
              "      <td>4.99191</td>\n",
              "      <td>0.080033</td>\n",
              "    </tr>\n",
              "    <tr>\n",
              "      <th>3</th>\n",
              "      <td>RandomForestRegressor</td>\n",
              "      <td>valid</td>\n",
              "      <td>1746.829183</td>\n",
              "      <td>914.797607</td>\n",
              "      <td>31.251787</td>\n",
              "      <td>0.205897</td>\n",
              "    </tr>\n",
              "    <tr>\n",
              "      <th>4</th>\n",
              "      <td>LinearRegression</td>\n",
              "      <td>valid</td>\n",
              "      <td>2842.541854</td>\n",
              "      <td>-</td>\n",
              "      <td>4.983566</td>\n",
              "      <td>0.117396</td>\n",
              "    </tr>\n",
              "  </tbody>\n",
              "</table>\n",
              "</div>\n",
              "      <button class=\"colab-df-convert\" onclick=\"convertToInteractive('df-d572bb1b-fcac-460b-a016-97b1df149f6d')\"\n",
              "              title=\"Convert this dataframe to an interactive table.\"\n",
              "              style=\"display:none;\">\n",
              "        \n",
              "  <svg xmlns=\"http://www.w3.org/2000/svg\" height=\"24px\"viewBox=\"0 0 24 24\"\n",
              "       width=\"24px\">\n",
              "    <path d=\"M0 0h24v24H0V0z\" fill=\"none\"/>\n",
              "    <path d=\"M18.56 5.44l.94 2.06.94-2.06 2.06-.94-2.06-.94-.94-2.06-.94 2.06-2.06.94zm-11 1L8.5 8.5l.94-2.06 2.06-.94-2.06-.94L8.5 2.5l-.94 2.06-2.06.94zm10 10l.94 2.06.94-2.06 2.06-.94-2.06-.94-.94-2.06-.94 2.06-2.06.94z\"/><path d=\"M17.41 7.96l-1.37-1.37c-.4-.4-.92-.59-1.43-.59-.52 0-1.04.2-1.43.59L10.3 9.45l-7.72 7.72c-.78.78-.78 2.05 0 2.83L4 21.41c.39.39.9.59 1.41.59.51 0 1.02-.2 1.41-.59l7.78-7.78 2.81-2.81c.8-.78.8-2.07 0-2.86zM5.41 20L4 18.59l7.72-7.72 1.47 1.35L5.41 20z\"/>\n",
              "  </svg>\n",
              "      </button>\n",
              "      \n",
              "  <style>\n",
              "    .colab-df-container {\n",
              "      display:flex;\n",
              "      flex-wrap:wrap;\n",
              "      gap: 12px;\n",
              "    }\n",
              "\n",
              "    .colab-df-convert {\n",
              "      background-color: #E8F0FE;\n",
              "      border: none;\n",
              "      border-radius: 50%;\n",
              "      cursor: pointer;\n",
              "      display: none;\n",
              "      fill: #1967D2;\n",
              "      height: 32px;\n",
              "      padding: 0 0 0 0;\n",
              "      width: 32px;\n",
              "    }\n",
              "\n",
              "    .colab-df-convert:hover {\n",
              "      background-color: #E2EBFA;\n",
              "      box-shadow: 0px 1px 2px rgba(60, 64, 67, 0.3), 0px 1px 3px 1px rgba(60, 64, 67, 0.15);\n",
              "      fill: #174EA6;\n",
              "    }\n",
              "\n",
              "    [theme=dark] .colab-df-convert {\n",
              "      background-color: #3B4455;\n",
              "      fill: #D2E3FC;\n",
              "    }\n",
              "\n",
              "    [theme=dark] .colab-df-convert:hover {\n",
              "      background-color: #434B5C;\n",
              "      box-shadow: 0px 1px 3px 1px rgba(0, 0, 0, 0.15);\n",
              "      filter: drop-shadow(0px 1px 2px rgba(0, 0, 0, 0.3));\n",
              "      fill: #FFFFFF;\n",
              "    }\n",
              "  </style>\n",
              "\n",
              "      <script>\n",
              "        const buttonEl =\n",
              "          document.querySelector('#df-d572bb1b-fcac-460b-a016-97b1df149f6d button.colab-df-convert');\n",
              "        buttonEl.style.display =\n",
              "          google.colab.kernel.accessAllowed ? 'block' : 'none';\n",
              "\n",
              "        async function convertToInteractive(key) {\n",
              "          const element = document.querySelector('#df-d572bb1b-fcac-460b-a016-97b1df149f6d');\n",
              "          const dataTable =\n",
              "            await google.colab.kernel.invokeFunction('convertToInteractive',\n",
              "                                                     [key], {});\n",
              "          if (!dataTable) return;\n",
              "\n",
              "          const docLinkHtml = 'Like what you see? Visit the ' +\n",
              "            '<a target=\"_blank\" href=https://colab.research.google.com/notebooks/data_table.ipynb>data table notebook</a>'\n",
              "            + ' to learn more about interactive tables.';\n",
              "          element.innerHTML = '';\n",
              "          dataTable['output_type'] = 'display_data';\n",
              "          await google.colab.output.renderOutput(dataTable, element);\n",
              "          const docLink = document.createElement('div');\n",
              "          docLink.innerHTML = docLinkHtml;\n",
              "          element.appendChild(docLink);\n",
              "        }\n",
              "      </script>\n",
              "    </div>\n",
              "  </div>\n",
              "  "
            ]
          },
          "metadata": {},
          "execution_count": 71
        }
      ],
      "source": [
        "df_result"
      ]
    },
    {
      "cell_type": "markdown",
      "metadata": {
        "id": "Uu04uEFoe-eW"
      },
      "source": [
        "Проведем тестирование на модели CatBoostRegressor, показавшей лучшие результаты на валидационной выборке:"
      ]
    },
    {
      "cell_type": "code",
      "execution_count": null,
      "metadata": {
        "id": "TcI87vB0e-eW",
        "colab": {
          "base_uri": "https://localhost:8080/"
        },
        "outputId": "6407fb2a-7a28-4c96-c511-e3ef50f34a9d"
      },
      "outputs": [
        {
          "output_type": "stream",
          "name": "stdout",
          "text": [
            "Execution time is: 1.3114981651306152\n",
            "\n"
          ]
        }
      ],
      "source": [
        "start = time.time()\n",
        "\n",
        "predictions_test = model_CBR.predict(features_test) # получим предсказания модели на тестовой выборке\n",
        "\n",
        "end = time.time()\n",
        "time_predict = end - start\n",
        "print('Execution time is:', end - start)\n",
        "print()"
      ]
    },
    {
      "cell_type": "code",
      "execution_count": null,
      "metadata": {
        "id": "lkiHDQ7Ae-eW",
        "colab": {
          "base_uri": "https://localhost:8080/"
        },
        "outputId": "9af2e1fb-053e-4222-d2cc-dacd2c70896e"
      },
      "outputs": [
        {
          "output_type": "stream",
          "name": "stdout",
          "text": [
            "RMSE модели CatBoostRegressor на тестовой выборке: 1620.1674034073635\n"
          ]
        }
      ],
      "source": [
        "result = RMSE(target_test, predictions_test) # значение метрики RMSE на тестовой выборке\n",
        "\n",
        "print(\"RMSE модели CatBoostRegressor на тестовой выборке:\", result)\n",
        "\n",
        "data.append(['-', '-', '-','-', '-','-'])\n",
        "data.append(['CatBoostRegressor', 'test', result, '-','-', time_predict])"
      ]
    },
    {
      "cell_type": "code",
      "source": [
        "df_result = pd.DataFrame(data=data , columns=col_data) # таблица с результатами"
      ],
      "metadata": {
        "id": "FTqKPwYBbRzY"
      },
      "execution_count": null,
      "outputs": []
    },
    {
      "cell_type": "code",
      "execution_count": null,
      "metadata": {
        "id": "Jasdb9n7e-eW",
        "colab": {
          "base_uri": "https://localhost:8080/",
          "height": 269
        },
        "outputId": "ca72f0b7-c115-4c9b-ac97-80bbbe817929"
      },
      "outputs": [
        {
          "output_type": "execute_result",
          "data": {
            "text/plain": [
              "                   model   type         RMSE  time_search   time_fit  \\\n",
              "0      CatBoostRegressor  valid  1607.817587  1891.652939          -   \n",
              "1      LightGBMRegressor  valid  1615.248196     0.000201  49.028576   \n",
              "2  DecisionTreeRegressor  valid  1946.969863   120.631012    4.99191   \n",
              "3  RandomForestRegressor  valid  1746.829183   914.797607  31.251787   \n",
              "4       LinearRegression  valid  2842.541854            -   4.983566   \n",
              "5                      -      -            -            -          -   \n",
              "6      CatBoostRegressor   test  1620.167403            -          -   \n",
              "\n",
              "  time_predict  \n",
              "0     1.315933  \n",
              "1     0.719634  \n",
              "2     0.080033  \n",
              "3     0.205897  \n",
              "4     0.117396  \n",
              "5            -  \n",
              "6     1.311498  "
            ],
            "text/html": [
              "\n",
              "  <div id=\"df-06a7a3d0-8d1c-4a4b-b18e-a4f2252a44ce\">\n",
              "    <div class=\"colab-df-container\">\n",
              "      <div>\n",
              "<style scoped>\n",
              "    .dataframe tbody tr th:only-of-type {\n",
              "        vertical-align: middle;\n",
              "    }\n",
              "\n",
              "    .dataframe tbody tr th {\n",
              "        vertical-align: top;\n",
              "    }\n",
              "\n",
              "    .dataframe thead th {\n",
              "        text-align: right;\n",
              "    }\n",
              "</style>\n",
              "<table border=\"1\" class=\"dataframe\">\n",
              "  <thead>\n",
              "    <tr style=\"text-align: right;\">\n",
              "      <th></th>\n",
              "      <th>model</th>\n",
              "      <th>type</th>\n",
              "      <th>RMSE</th>\n",
              "      <th>time_search</th>\n",
              "      <th>time_fit</th>\n",
              "      <th>time_predict</th>\n",
              "    </tr>\n",
              "  </thead>\n",
              "  <tbody>\n",
              "    <tr>\n",
              "      <th>0</th>\n",
              "      <td>CatBoostRegressor</td>\n",
              "      <td>valid</td>\n",
              "      <td>1607.817587</td>\n",
              "      <td>1891.652939</td>\n",
              "      <td>-</td>\n",
              "      <td>1.315933</td>\n",
              "    </tr>\n",
              "    <tr>\n",
              "      <th>1</th>\n",
              "      <td>LightGBMRegressor</td>\n",
              "      <td>valid</td>\n",
              "      <td>1615.248196</td>\n",
              "      <td>0.000201</td>\n",
              "      <td>49.028576</td>\n",
              "      <td>0.719634</td>\n",
              "    </tr>\n",
              "    <tr>\n",
              "      <th>2</th>\n",
              "      <td>DecisionTreeRegressor</td>\n",
              "      <td>valid</td>\n",
              "      <td>1946.969863</td>\n",
              "      <td>120.631012</td>\n",
              "      <td>4.99191</td>\n",
              "      <td>0.080033</td>\n",
              "    </tr>\n",
              "    <tr>\n",
              "      <th>3</th>\n",
              "      <td>RandomForestRegressor</td>\n",
              "      <td>valid</td>\n",
              "      <td>1746.829183</td>\n",
              "      <td>914.797607</td>\n",
              "      <td>31.251787</td>\n",
              "      <td>0.205897</td>\n",
              "    </tr>\n",
              "    <tr>\n",
              "      <th>4</th>\n",
              "      <td>LinearRegression</td>\n",
              "      <td>valid</td>\n",
              "      <td>2842.541854</td>\n",
              "      <td>-</td>\n",
              "      <td>4.983566</td>\n",
              "      <td>0.117396</td>\n",
              "    </tr>\n",
              "    <tr>\n",
              "      <th>5</th>\n",
              "      <td>-</td>\n",
              "      <td>-</td>\n",
              "      <td>-</td>\n",
              "      <td>-</td>\n",
              "      <td>-</td>\n",
              "      <td>-</td>\n",
              "    </tr>\n",
              "    <tr>\n",
              "      <th>6</th>\n",
              "      <td>CatBoostRegressor</td>\n",
              "      <td>test</td>\n",
              "      <td>1620.167403</td>\n",
              "      <td>-</td>\n",
              "      <td>-</td>\n",
              "      <td>1.311498</td>\n",
              "    </tr>\n",
              "  </tbody>\n",
              "</table>\n",
              "</div>\n",
              "      <button class=\"colab-df-convert\" onclick=\"convertToInteractive('df-06a7a3d0-8d1c-4a4b-b18e-a4f2252a44ce')\"\n",
              "              title=\"Convert this dataframe to an interactive table.\"\n",
              "              style=\"display:none;\">\n",
              "        \n",
              "  <svg xmlns=\"http://www.w3.org/2000/svg\" height=\"24px\"viewBox=\"0 0 24 24\"\n",
              "       width=\"24px\">\n",
              "    <path d=\"M0 0h24v24H0V0z\" fill=\"none\"/>\n",
              "    <path d=\"M18.56 5.44l.94 2.06.94-2.06 2.06-.94-2.06-.94-.94-2.06-.94 2.06-2.06.94zm-11 1L8.5 8.5l.94-2.06 2.06-.94-2.06-.94L8.5 2.5l-.94 2.06-2.06.94zm10 10l.94 2.06.94-2.06 2.06-.94-2.06-.94-.94-2.06-.94 2.06-2.06.94z\"/><path d=\"M17.41 7.96l-1.37-1.37c-.4-.4-.92-.59-1.43-.59-.52 0-1.04.2-1.43.59L10.3 9.45l-7.72 7.72c-.78.78-.78 2.05 0 2.83L4 21.41c.39.39.9.59 1.41.59.51 0 1.02-.2 1.41-.59l7.78-7.78 2.81-2.81c.8-.78.8-2.07 0-2.86zM5.41 20L4 18.59l7.72-7.72 1.47 1.35L5.41 20z\"/>\n",
              "  </svg>\n",
              "      </button>\n",
              "      \n",
              "  <style>\n",
              "    .colab-df-container {\n",
              "      display:flex;\n",
              "      flex-wrap:wrap;\n",
              "      gap: 12px;\n",
              "    }\n",
              "\n",
              "    .colab-df-convert {\n",
              "      background-color: #E8F0FE;\n",
              "      border: none;\n",
              "      border-radius: 50%;\n",
              "      cursor: pointer;\n",
              "      display: none;\n",
              "      fill: #1967D2;\n",
              "      height: 32px;\n",
              "      padding: 0 0 0 0;\n",
              "      width: 32px;\n",
              "    }\n",
              "\n",
              "    .colab-df-convert:hover {\n",
              "      background-color: #E2EBFA;\n",
              "      box-shadow: 0px 1px 2px rgba(60, 64, 67, 0.3), 0px 1px 3px 1px rgba(60, 64, 67, 0.15);\n",
              "      fill: #174EA6;\n",
              "    }\n",
              "\n",
              "    [theme=dark] .colab-df-convert {\n",
              "      background-color: #3B4455;\n",
              "      fill: #D2E3FC;\n",
              "    }\n",
              "\n",
              "    [theme=dark] .colab-df-convert:hover {\n",
              "      background-color: #434B5C;\n",
              "      box-shadow: 0px 1px 3px 1px rgba(0, 0, 0, 0.15);\n",
              "      filter: drop-shadow(0px 1px 2px rgba(0, 0, 0, 0.3));\n",
              "      fill: #FFFFFF;\n",
              "    }\n",
              "  </style>\n",
              "\n",
              "      <script>\n",
              "        const buttonEl =\n",
              "          document.querySelector('#df-06a7a3d0-8d1c-4a4b-b18e-a4f2252a44ce button.colab-df-convert');\n",
              "        buttonEl.style.display =\n",
              "          google.colab.kernel.accessAllowed ? 'block' : 'none';\n",
              "\n",
              "        async function convertToInteractive(key) {\n",
              "          const element = document.querySelector('#df-06a7a3d0-8d1c-4a4b-b18e-a4f2252a44ce');\n",
              "          const dataTable =\n",
              "            await google.colab.kernel.invokeFunction('convertToInteractive',\n",
              "                                                     [key], {});\n",
              "          if (!dataTable) return;\n",
              "\n",
              "          const docLinkHtml = 'Like what you see? Visit the ' +\n",
              "            '<a target=\"_blank\" href=https://colab.research.google.com/notebooks/data_table.ipynb>data table notebook</a>'\n",
              "            + ' to learn more about interactive tables.';\n",
              "          element.innerHTML = '';\n",
              "          dataTable['output_type'] = 'display_data';\n",
              "          await google.colab.output.renderOutput(dataTable, element);\n",
              "          const docLink = document.createElement('div');\n",
              "          docLink.innerHTML = docLinkHtml;\n",
              "          element.appendChild(docLink);\n",
              "        }\n",
              "      </script>\n",
              "    </div>\n",
              "  </div>\n",
              "  "
            ]
          },
          "metadata": {},
          "execution_count": 75
        }
      ],
      "source": [
        "df_result"
      ]
    },
    {
      "cell_type": "markdown",
      "metadata": {
        "id": "wvvFTBgIe-eW"
      },
      "source": [
        "Важность признаков:"
      ]
    },
    {
      "cell_type": "code",
      "execution_count": null,
      "metadata": {
        "id": "D7468ejIe-eX",
        "colab": {
          "base_uri": "https://localhost:8080/",
          "height": 624
        },
        "outputId": "f2b69ea0-b384-483c-e0a4-83dcb8cc5859"
      },
      "outputs": [
        {
          "output_type": "execute_result",
          "data": {
            "text/plain": [
              "<matplotlib.axes._subplots.AxesSubplot at 0x7fc9ff493fd0>"
            ]
          },
          "metadata": {},
          "execution_count": 76
        },
        {
          "output_type": "display_data",
          "data": {
            "text/plain": [
              "<Figure size 576x720 with 1 Axes>"
            ],
            "image/png": "[encoded data removed]"
          },
          "metadata": {
            "needs_background": "light"
          }
        }
      ],
      "source": [
        "feat_imp = pd.Series(model_CBR.feature_importances_, index=features_train.columns)\n",
        "feat_imp.nlargest(30).plot(\n",
        "    kind='barh', title='CatBoostRegressor', figsize=(8,10))"
      ]
    },
    {
      "cell_type": "markdown",
      "metadata": {
        "id": "d9qXFw82e-eX"
      },
      "source": [
        "**Выводы:**\n",
        "\n",
        "* Подбор гиперпараметров модели CatBoostRegressor, а также модели Случайный лес выполняется очень долго.\n",
        "\n",
        "* Модель CatBoostRegressor быстрее и точнее предсказывает, чем модель LightGBMRegressor.\n",
        "\n",
        "* Модели Решающее дерево и Линейная регрессия обучаются и предсказывают быстро, но качество предсказаний хуже, чем у бустинговых моделей и модели Случайного леса.\n",
        "\n",
        "* Лучшее качество показала модель CatBoostRegressor: \n",
        "\n",
        "RMSE модели CatBoostRegressor на валидационной выборке: 1607.817586782856\n",
        "\n",
        "* Наиболее важные признаки для CatBoostRegressor Год регистрации автомобиля и Мощность."
      ]
    },
    {
      "cell_type": "code",
      "source": [
        ""
      ],
      "metadata": {
        "id": "HAPBZqMcfm0R"
      },
      "execution_count": null,
      "outputs": []
    }
  ],
  "metadata": {
    "ExecuteTimeLog": [
      {
        "duration": 3268,
        "start_time": "2022-04-07T10:44:22.580Z"
      },
      {
        "duration": 1098,
        "start_time": "2022-04-07T10:44:29.175Z"
      },
      {
        "duration": 166,
        "start_time": "2022-04-07T10:44:43.587Z"
      },
      {
        "duration": 38,
        "start_time": "2022-04-07T10:46:33.968Z"
      },
      {
        "duration": 702,
        "start_time": "2022-04-07T10:48:19.133Z"
      },
      {
        "duration": 161,
        "start_time": "2022-04-07T10:48:58.986Z"
      },
      {
        "duration": 20,
        "start_time": "2022-04-07T10:49:35.810Z"
      },
      {
        "duration": 106,
        "start_time": "2022-04-07T10:52:41.685Z"
      },
      {
        "duration": 43,
        "start_time": "2022-04-07T10:56:24.494Z"
      },
      {
        "duration": 47,
        "start_time": "2022-04-07T10:59:57.713Z"
      },
      {
        "duration": 41,
        "start_time": "2022-04-07T11:02:44.783Z"
      },
      {
        "duration": 44,
        "start_time": "2022-04-07T11:03:37.549Z"
      },
      {
        "duration": 750,
        "start_time": "2022-04-07T11:04:58.060Z"
      },
      {
        "duration": 609,
        "start_time": "2022-04-07T11:05:00.217Z"
      },
      {
        "duration": 154,
        "start_time": "2022-04-07T11:05:05.001Z"
      },
      {
        "duration": 1016,
        "start_time": "2022-04-07T11:05:22.276Z"
      },
      {
        "duration": 566,
        "start_time": "2022-04-07T11:05:28.035Z"
      },
      {
        "duration": 153,
        "start_time": "2022-04-07T11:05:31.923Z"
      },
      {
        "duration": 562,
        "start_time": "2022-04-07T11:05:37.155Z"
      },
      {
        "duration": 697,
        "start_time": "2022-04-07T11:05:39.345Z"
      },
      {
        "duration": 554,
        "start_time": "2022-04-07T11:05:41.250Z"
      },
      {
        "duration": 44,
        "start_time": "2022-04-07T11:07:38.388Z"
      },
      {
        "duration": 42,
        "start_time": "2022-04-07T11:08:56.556Z"
      },
      {
        "duration": 47,
        "start_time": "2022-04-07T11:25:42.652Z"
      },
      {
        "duration": 43,
        "start_time": "2022-04-07T11:25:44.286Z"
      },
      {
        "duration": 32,
        "start_time": "2022-04-07T11:27:18.030Z"
      },
      {
        "duration": 30,
        "start_time": "2022-04-07T11:27:20.028Z"
      },
      {
        "duration": 28,
        "start_time": "2022-04-07T11:27:22.012Z"
      },
      {
        "duration": 29,
        "start_time": "2022-04-07T11:27:25.662Z"
      },
      {
        "duration": 637,
        "start_time": "2022-04-07T11:27:27.276Z"
      },
      {
        "duration": 1986,
        "start_time": "2022-04-07T11:27:43.963Z"
      },
      {
        "duration": 1093,
        "start_time": "2022-04-07T11:27:45.952Z"
      },
      {
        "duration": 189,
        "start_time": "2022-04-07T11:27:47.047Z"
      },
      {
        "duration": 48,
        "start_time": "2022-04-07T11:27:47.243Z"
      },
      {
        "duration": 136,
        "start_time": "2022-04-07T11:27:47.293Z"
      },
      {
        "duration": 182,
        "start_time": "2022-04-07T11:27:47.432Z"
      },
      {
        "duration": 72,
        "start_time": "2022-04-07T11:27:47.616Z"
      },
      {
        "duration": 37,
        "start_time": "2022-04-07T11:27:47.690Z"
      },
      {
        "duration": 62,
        "start_time": "2022-04-07T11:27:47.729Z"
      },
      {
        "duration": 58,
        "start_time": "2022-04-07T11:27:47.797Z"
      },
      {
        "duration": 72,
        "start_time": "2022-04-07T11:27:47.857Z"
      },
      {
        "duration": 40,
        "start_time": "2022-04-07T11:27:47.932Z"
      },
      {
        "duration": 72,
        "start_time": "2022-04-07T11:27:47.974Z"
      },
      {
        "duration": 30,
        "start_time": "2022-04-07T11:27:48.049Z"
      },
      {
        "duration": 70,
        "start_time": "2022-04-07T11:27:48.082Z"
      },
      {
        "duration": 30,
        "start_time": "2022-04-07T11:27:48.158Z"
      },
      {
        "duration": 733,
        "start_time": "2022-04-07T11:27:48.191Z"
      },
      {
        "duration": 1008,
        "start_time": "2022-04-07T11:27:48.927Z"
      },
      {
        "duration": 10,
        "start_time": "2022-04-07T11:27:49.937Z"
      },
      {
        "duration": 1687,
        "start_time": "2022-04-08T03:35:09.305Z"
      },
      {
        "duration": 860,
        "start_time": "2022-04-08T03:35:10.994Z"
      },
      {
        "duration": 148,
        "start_time": "2022-04-08T03:35:11.856Z"
      },
      {
        "duration": 24,
        "start_time": "2022-04-08T03:35:12.010Z"
      },
      {
        "duration": 118,
        "start_time": "2022-04-08T03:35:12.036Z"
      },
      {
        "duration": 133,
        "start_time": "2022-04-08T03:35:12.155Z"
      },
      {
        "duration": 48,
        "start_time": "2022-04-08T03:35:12.290Z"
      },
      {
        "duration": 20,
        "start_time": "2022-04-08T03:35:12.340Z"
      },
      {
        "duration": 52,
        "start_time": "2022-04-08T03:35:12.362Z"
      },
      {
        "duration": 22,
        "start_time": "2022-04-08T03:35:12.416Z"
      },
      {
        "duration": 36,
        "start_time": "2022-04-08T03:35:12.440Z"
      },
      {
        "duration": 40,
        "start_time": "2022-04-08T03:35:12.478Z"
      },
      {
        "duration": 37,
        "start_time": "2022-04-08T03:35:12.520Z"
      },
      {
        "duration": 22,
        "start_time": "2022-04-08T03:35:12.558Z"
      },
      {
        "duration": 60,
        "start_time": "2022-04-08T03:35:12.581Z"
      },
      {
        "duration": 23,
        "start_time": "2022-04-08T03:35:12.642Z"
      },
      {
        "duration": 503,
        "start_time": "2022-04-08T03:35:12.667Z"
      },
      {
        "duration": 608,
        "start_time": "2022-04-08T03:35:13.172Z"
      },
      {
        "duration": 3,
        "start_time": "2022-04-08T03:35:13.782Z"
      },
      {
        "duration": 5,
        "start_time": "2022-04-08T03:36:19.518Z"
      },
      {
        "duration": 3,
        "start_time": "2022-04-08T03:37:41.508Z"
      },
      {
        "duration": 3,
        "start_time": "2022-04-08T03:37:57.331Z"
      },
      {
        "duration": 81,
        "start_time": "2022-04-08T03:38:49.366Z"
      },
      {
        "duration": 772,
        "start_time": "2022-04-08T03:39:01.597Z"
      },
      {
        "duration": 126,
        "start_time": "2022-04-08T03:39:07.733Z"
      },
      {
        "duration": 3,
        "start_time": "2022-04-08T03:39:09.933Z"
      },
      {
        "duration": 96,
        "start_time": "2022-04-08T03:39:13.743Z"
      },
      {
        "duration": 35,
        "start_time": "2022-04-08T03:39:18.037Z"
      },
      {
        "duration": 36,
        "start_time": "2022-04-08T03:40:07.365Z"
      },
      {
        "duration": 38,
        "start_time": "2022-04-08T03:40:13.474Z"
      },
      {
        "duration": 37,
        "start_time": "2022-04-08T03:40:19.618Z"
      },
      {
        "duration": 34,
        "start_time": "2022-04-08T03:40:32.099Z"
      },
      {
        "duration": 1471,
        "start_time": "2022-04-08T03:41:29.398Z"
      },
      {
        "duration": 807,
        "start_time": "2022-04-08T03:41:30.870Z"
      },
      {
        "duration": 143,
        "start_time": "2022-04-08T03:41:31.679Z"
      },
      {
        "duration": 23,
        "start_time": "2022-04-08T03:41:31.824Z"
      },
      {
        "duration": 111,
        "start_time": "2022-04-08T03:41:31.848Z"
      },
      {
        "duration": 127,
        "start_time": "2022-04-08T03:41:31.961Z"
      },
      {
        "duration": 3,
        "start_time": "2022-04-08T03:41:32.090Z"
      },
      {
        "duration": 99,
        "start_time": "2022-04-08T03:41:32.094Z"
      },
      {
        "duration": 42,
        "start_time": "2022-04-08T03:41:32.194Z"
      },
      {
        "duration": 35,
        "start_time": "2022-04-08T03:41:32.238Z"
      },
      {
        "duration": 54,
        "start_time": "2022-04-08T03:41:32.275Z"
      },
      {
        "duration": 35,
        "start_time": "2022-04-08T03:41:32.330Z"
      },
      {
        "duration": 47,
        "start_time": "2022-04-08T03:41:32.367Z"
      },
      {
        "duration": 432,
        "start_time": "2022-04-08T03:41:32.416Z"
      },
      {
        "duration": 511,
        "start_time": "2022-04-08T03:41:32.850Z"
      },
      {
        "duration": 3,
        "start_time": "2022-04-08T03:41:33.362Z"
      },
      {
        "duration": 37,
        "start_time": "2022-04-08T03:46:00.370Z"
      },
      {
        "duration": 4,
        "start_time": "2022-04-08T03:46:14.447Z"
      },
      {
        "duration": 4,
        "start_time": "2022-04-08T03:46:16.166Z"
      },
      {
        "duration": 168,
        "start_time": "2022-04-08T03:59:03.272Z"
      },
      {
        "duration": 134,
        "start_time": "2022-04-08T03:59:04.623Z"
      },
      {
        "duration": 3,
        "start_time": "2022-04-08T04:00:07.508Z"
      },
      {
        "duration": 3,
        "start_time": "2022-04-08T04:00:09.185Z"
      },
      {
        "duration": 4,
        "start_time": "2022-04-08T04:00:10.728Z"
      },
      {
        "duration": 4,
        "start_time": "2022-04-08T04:00:12.401Z"
      },
      {
        "duration": 4,
        "start_time": "2022-04-08T04:00:13.745Z"
      },
      {
        "duration": 5,
        "start_time": "2022-04-08T04:00:15.000Z"
      },
      {
        "duration": 102,
        "start_time": "2022-04-08T04:00:36.498Z"
      },
      {
        "duration": 15,
        "start_time": "2022-04-08T04:15:47.403Z"
      },
      {
        "duration": 172,
        "start_time": "2022-04-08T04:16:12.044Z"
      },
      {
        "duration": 544,
        "start_time": "2022-04-08T04:16:52.789Z"
      },
      {
        "duration": 154,
        "start_time": "2022-04-08T04:17:05.971Z"
      },
      {
        "duration": 10,
        "start_time": "2022-04-08T04:17:25.370Z"
      },
      {
        "duration": 203,
        "start_time": "2022-04-08T04:17:34.596Z"
      },
      {
        "duration": 121,
        "start_time": "2022-04-08T04:18:14.443Z"
      },
      {
        "duration": 9,
        "start_time": "2022-04-08T04:18:21.979Z"
      },
      {
        "duration": 9,
        "start_time": "2022-04-08T04:19:01.753Z"
      },
      {
        "duration": 155,
        "start_time": "2022-04-08T04:19:15.611Z"
      },
      {
        "duration": 9,
        "start_time": "2022-04-08T04:19:55.715Z"
      },
      {
        "duration": 3,
        "start_time": "2022-04-08T04:21:31.706Z"
      },
      {
        "duration": 152,
        "start_time": "2022-04-08T04:25:08.034Z"
      },
      {
        "duration": 10,
        "start_time": "2022-04-08T04:25:54.339Z"
      },
      {
        "duration": 3,
        "start_time": "2022-04-08T04:26:44.875Z"
      },
      {
        "duration": 156,
        "start_time": "2022-04-08T04:26:52.140Z"
      },
      {
        "duration": 4,
        "start_time": "2022-04-08T04:41:23.420Z"
      },
      {
        "duration": 29,
        "start_time": "2022-04-08T04:43:32.032Z"
      },
      {
        "duration": 19,
        "start_time": "2022-04-08T04:43:33.606Z"
      },
      {
        "duration": 825,
        "start_time": "2022-04-08T04:43:47.818Z"
      },
      {
        "duration": 42,
        "start_time": "2022-04-08T04:43:59.861Z"
      },
      {
        "duration": 755,
        "start_time": "2022-04-08T04:44:31.279Z"
      },
      {
        "duration": 223,
        "start_time": "2022-04-08T04:45:56.701Z"
      },
      {
        "duration": 4,
        "start_time": "2022-04-08T04:45:58.266Z"
      },
      {
        "duration": 4,
        "start_time": "2022-04-08T04:45:59.945Z"
      },
      {
        "duration": 365,
        "start_time": "2022-04-08T04:46:01.362Z"
      },
      {
        "duration": 272,
        "start_time": "2022-04-08T04:46:02.981Z"
      },
      {
        "duration": 4,
        "start_time": "2022-04-08T04:46:04.563Z"
      },
      {
        "duration": 4,
        "start_time": "2022-04-08T04:46:06.003Z"
      },
      {
        "duration": 4,
        "start_time": "2022-04-08T04:46:07.618Z"
      },
      {
        "duration": 5,
        "start_time": "2022-04-08T04:46:08.698Z"
      },
      {
        "duration": 5,
        "start_time": "2022-04-08T04:46:09.786Z"
      },
      {
        "duration": 4,
        "start_time": "2022-04-08T04:46:11.259Z"
      },
      {
        "duration": 3,
        "start_time": "2022-04-08T04:46:16.596Z"
      },
      {
        "duration": 18601,
        "start_time": "2022-04-08T04:46:19.309Z"
      },
      {
        "duration": 1423,
        "start_time": "2022-04-08T04:47:28.359Z"
      },
      {
        "duration": 840,
        "start_time": "2022-04-08T04:47:29.784Z"
      },
      {
        "duration": 140,
        "start_time": "2022-04-08T04:47:30.626Z"
      },
      {
        "duration": 24,
        "start_time": "2022-04-08T04:47:30.768Z"
      },
      {
        "duration": 154,
        "start_time": "2022-04-08T04:47:30.794Z"
      },
      {
        "duration": 136,
        "start_time": "2022-04-08T04:47:30.949Z"
      },
      {
        "duration": 4,
        "start_time": "2022-04-08T04:47:31.086Z"
      },
      {
        "duration": 108,
        "start_time": "2022-04-08T04:47:31.092Z"
      },
      {
        "duration": 38,
        "start_time": "2022-04-08T04:47:31.201Z"
      },
      {
        "duration": 46,
        "start_time": "2022-04-08T04:47:31.242Z"
      },
      {
        "duration": 49,
        "start_time": "2022-04-08T04:47:31.290Z"
      },
      {
        "duration": 41,
        "start_time": "2022-04-08T04:47:31.341Z"
      },
      {
        "duration": 44,
        "start_time": "2022-04-08T04:47:31.384Z"
      },
      {
        "duration": 481,
        "start_time": "2022-04-08T04:47:31.429Z"
      },
      {
        "duration": 550,
        "start_time": "2022-04-08T04:47:31.912Z"
      },
      {
        "duration": 30,
        "start_time": "2022-04-08T04:47:32.464Z"
      },
      {
        "duration": 42,
        "start_time": "2022-04-08T04:47:32.496Z"
      },
      {
        "duration": 799,
        "start_time": "2022-04-08T04:47:32.540Z"
      },
      {
        "duration": 42,
        "start_time": "2022-04-08T04:47:33.341Z"
      },
      {
        "duration": 225,
        "start_time": "2022-04-08T04:47:33.385Z"
      },
      {
        "duration": 4,
        "start_time": "2022-04-08T04:47:33.611Z"
      },
      {
        "duration": 5,
        "start_time": "2022-04-08T04:47:33.617Z"
      },
      {
        "duration": 362,
        "start_time": "2022-04-08T04:47:33.624Z"
      },
      {
        "duration": 272,
        "start_time": "2022-04-08T04:47:33.987Z"
      },
      {
        "duration": 4,
        "start_time": "2022-04-08T04:47:34.261Z"
      },
      {
        "duration": 6,
        "start_time": "2022-04-08T04:47:34.266Z"
      },
      {
        "duration": 5,
        "start_time": "2022-04-08T04:47:34.273Z"
      },
      {
        "duration": 4,
        "start_time": "2022-04-08T04:47:34.281Z"
      },
      {
        "duration": 23,
        "start_time": "2022-04-08T04:47:34.286Z"
      },
      {
        "duration": 5,
        "start_time": "2022-04-08T04:47:34.311Z"
      },
      {
        "duration": 4,
        "start_time": "2022-04-08T04:47:34.317Z"
      },
      {
        "duration": 18790,
        "start_time": "2022-04-08T04:47:34.323Z"
      },
      {
        "duration": 1413,
        "start_time": "2022-04-08T04:48:46.857Z"
      },
      {
        "duration": 811,
        "start_time": "2022-04-08T04:48:48.273Z"
      },
      {
        "duration": 135,
        "start_time": "2022-04-08T04:48:49.086Z"
      },
      {
        "duration": 25,
        "start_time": "2022-04-08T04:48:49.223Z"
      },
      {
        "duration": 163,
        "start_time": "2022-04-08T04:48:49.250Z"
      },
      {
        "duration": 135,
        "start_time": "2022-04-08T04:48:49.414Z"
      },
      {
        "duration": 2,
        "start_time": "2022-04-08T04:48:49.551Z"
      },
      {
        "duration": 102,
        "start_time": "2022-04-08T04:48:49.555Z"
      },
      {
        "duration": 38,
        "start_time": "2022-04-08T04:48:49.659Z"
      },
      {
        "duration": 36,
        "start_time": "2022-04-08T04:48:49.710Z"
      },
      {
        "duration": 37,
        "start_time": "2022-04-08T04:48:49.747Z"
      },
      {
        "duration": 53,
        "start_time": "2022-04-08T04:48:49.786Z"
      },
      {
        "duration": 35,
        "start_time": "2022-04-08T04:48:49.841Z"
      },
      {
        "duration": 472,
        "start_time": "2022-04-08T04:48:49.878Z"
      },
      {
        "duration": 540,
        "start_time": "2022-04-08T04:48:50.351Z"
      },
      {
        "duration": 30,
        "start_time": "2022-04-08T04:48:50.892Z"
      },
      {
        "duration": 19,
        "start_time": "2022-04-08T04:48:50.925Z"
      },
      {
        "duration": 4,
        "start_time": "2022-04-08T04:48:50.945Z"
      },
      {
        "duration": 19,
        "start_time": "2022-04-08T04:48:50.950Z"
      },
      {
        "duration": 52,
        "start_time": "2022-04-08T04:48:50.971Z"
      },
      {
        "duration": 3,
        "start_time": "2022-04-08T04:48:51.025Z"
      },
      {
        "duration": 5,
        "start_time": "2022-04-08T04:48:51.030Z"
      },
      {
        "duration": 101,
        "start_time": "2022-04-08T04:48:51.036Z"
      },
      {
        "duration": 80,
        "start_time": "2022-04-08T04:48:51.138Z"
      },
      {
        "duration": 3,
        "start_time": "2022-04-08T04:48:51.220Z"
      },
      {
        "duration": 5,
        "start_time": "2022-04-08T04:48:51.225Z"
      },
      {
        "duration": 5,
        "start_time": "2022-04-08T04:48:51.231Z"
      },
      {
        "duration": 3,
        "start_time": "2022-04-08T04:48:51.239Z"
      },
      {
        "duration": 5,
        "start_time": "2022-04-08T04:48:51.244Z"
      },
      {
        "duration": 5,
        "start_time": "2022-04-08T04:48:51.250Z"
      },
      {
        "duration": 4,
        "start_time": "2022-04-08T04:48:51.256Z"
      },
      {
        "duration": 234,
        "start_time": "2022-04-08T04:48:51.262Z"
      },
      {
        "duration": 0,
        "start_time": "2022-04-08T04:48:51.497Z"
      },
      {
        "duration": 0,
        "start_time": "2022-04-08T04:48:51.498Z"
      },
      {
        "duration": 0,
        "start_time": "2022-04-08T04:48:51.499Z"
      },
      {
        "duration": 72,
        "start_time": "2022-04-08T04:51:38.685Z"
      },
      {
        "duration": 71,
        "start_time": "2022-04-08T04:59:17.564Z"
      },
      {
        "duration": 901,
        "start_time": "2022-04-08T04:59:33.426Z"
      },
      {
        "duration": 42,
        "start_time": "2022-04-08T04:59:37.533Z"
      },
      {
        "duration": 223,
        "start_time": "2022-04-08T04:59:40.002Z"
      },
      {
        "duration": 1485,
        "start_time": "2022-04-08T04:59:46.886Z"
      },
      {
        "duration": 794,
        "start_time": "2022-04-08T04:59:48.373Z"
      },
      {
        "duration": 131,
        "start_time": "2022-04-08T04:59:49.169Z"
      },
      {
        "duration": 24,
        "start_time": "2022-04-08T04:59:49.309Z"
      },
      {
        "duration": 112,
        "start_time": "2022-04-08T04:59:49.334Z"
      },
      {
        "duration": 130,
        "start_time": "2022-04-08T04:59:49.448Z"
      },
      {
        "duration": 3,
        "start_time": "2022-04-08T04:59:49.580Z"
      },
      {
        "duration": 101,
        "start_time": "2022-04-08T04:59:49.585Z"
      },
      {
        "duration": 43,
        "start_time": "2022-04-08T04:59:49.687Z"
      },
      {
        "duration": 33,
        "start_time": "2022-04-08T04:59:49.734Z"
      },
      {
        "duration": 58,
        "start_time": "2022-04-08T04:59:49.769Z"
      },
      {
        "duration": 35,
        "start_time": "2022-04-08T04:59:49.829Z"
      },
      {
        "duration": 47,
        "start_time": "2022-04-08T04:59:49.866Z"
      },
      {
        "duration": 449,
        "start_time": "2022-04-08T04:59:49.915Z"
      },
      {
        "duration": 560,
        "start_time": "2022-04-08T04:59:50.365Z"
      },
      {
        "duration": 24,
        "start_time": "2022-04-08T04:59:50.927Z"
      },
      {
        "duration": 20,
        "start_time": "2022-04-08T04:59:50.953Z"
      },
      {
        "duration": 831,
        "start_time": "2022-04-08T04:59:50.974Z"
      },
      {
        "duration": 41,
        "start_time": "2022-04-08T04:59:51.806Z"
      },
      {
        "duration": 232,
        "start_time": "2022-04-08T04:59:51.849Z"
      },
      {
        "duration": 4,
        "start_time": "2022-04-08T04:59:52.083Z"
      },
      {
        "duration": 9,
        "start_time": "2022-04-08T04:59:52.088Z"
      },
      {
        "duration": 349,
        "start_time": "2022-04-08T04:59:52.099Z"
      },
      {
        "duration": 268,
        "start_time": "2022-04-08T04:59:52.450Z"
      },
      {
        "duration": 3,
        "start_time": "2022-04-08T04:59:52.720Z"
      },
      {
        "duration": 6,
        "start_time": "2022-04-08T04:59:52.725Z"
      },
      {
        "duration": 5,
        "start_time": "2022-04-08T04:59:52.733Z"
      },
      {
        "duration": 4,
        "start_time": "2022-04-08T04:59:52.742Z"
      },
      {
        "duration": 5,
        "start_time": "2022-04-08T04:59:52.748Z"
      },
      {
        "duration": 4,
        "start_time": "2022-04-08T04:59:52.755Z"
      },
      {
        "duration": 3,
        "start_time": "2022-04-08T04:59:52.761Z"
      },
      {
        "duration": 19201,
        "start_time": "2022-04-08T04:59:52.809Z"
      },
      {
        "duration": 28051,
        "start_time": "2022-04-08T05:00:12.013Z"
      },
      {
        "duration": 4,
        "start_time": "2022-04-08T05:00:40.066Z"
      },
      {
        "duration": 11,
        "start_time": "2022-04-08T05:00:40.072Z"
      },
      {
        "duration": 28006,
        "start_time": "2022-04-08T05:04:21.559Z"
      },
      {
        "duration": 101,
        "start_time": "2022-04-08T05:06:26.945Z"
      },
      {
        "duration": 1190,
        "start_time": "2022-04-08T05:07:20.425Z"
      },
      {
        "duration": 1652,
        "start_time": "2022-04-08T05:08:02.272Z"
      },
      {
        "duration": 1458,
        "start_time": "2022-04-08T05:09:28.648Z"
      },
      {
        "duration": 835,
        "start_time": "2022-04-08T05:09:30.108Z"
      },
      {
        "duration": 145,
        "start_time": "2022-04-08T05:09:30.944Z"
      },
      {
        "duration": 35,
        "start_time": "2022-04-08T05:09:31.092Z"
      },
      {
        "duration": 114,
        "start_time": "2022-04-08T05:09:31.129Z"
      },
      {
        "duration": 133,
        "start_time": "2022-04-08T05:09:31.245Z"
      },
      {
        "duration": 3,
        "start_time": "2022-04-08T05:09:31.379Z"
      },
      {
        "duration": 106,
        "start_time": "2022-04-08T05:09:31.384Z"
      },
      {
        "duration": 41,
        "start_time": "2022-04-08T05:09:31.492Z"
      },
      {
        "duration": 36,
        "start_time": "2022-04-08T05:09:31.535Z"
      },
      {
        "duration": 54,
        "start_time": "2022-04-08T05:09:31.573Z"
      },
      {
        "duration": 39,
        "start_time": "2022-04-08T05:09:31.629Z"
      },
      {
        "duration": 47,
        "start_time": "2022-04-08T05:09:31.669Z"
      },
      {
        "duration": 459,
        "start_time": "2022-04-08T05:09:31.717Z"
      },
      {
        "duration": 569,
        "start_time": "2022-04-08T05:09:32.178Z"
      },
      {
        "duration": 3,
        "start_time": "2022-04-08T05:09:32.749Z"
      },
      {
        "duration": 6,
        "start_time": "2022-04-08T05:09:32.754Z"
      },
      {
        "duration": 4,
        "start_time": "2022-04-08T05:09:32.762Z"
      },
      {
        "duration": 5,
        "start_time": "2022-04-08T05:09:32.768Z"
      },
      {
        "duration": 51,
        "start_time": "2022-04-08T05:09:32.775Z"
      },
      {
        "duration": 4,
        "start_time": "2022-04-08T05:09:32.828Z"
      },
      {
        "duration": 5,
        "start_time": "2022-04-08T05:09:32.834Z"
      },
      {
        "duration": 186,
        "start_time": "2022-04-08T05:09:32.840Z"
      },
      {
        "duration": 140,
        "start_time": "2022-04-08T05:09:33.028Z"
      },
      {
        "duration": 5,
        "start_time": "2022-04-08T05:09:33.170Z"
      },
      {
        "duration": 9,
        "start_time": "2022-04-08T05:09:33.177Z"
      },
      {
        "duration": 22,
        "start_time": "2022-04-08T05:09:33.188Z"
      },
      {
        "duration": 7,
        "start_time": "2022-04-08T05:09:33.214Z"
      },
      {
        "duration": 24,
        "start_time": "2022-04-08T05:09:33.222Z"
      },
      {
        "duration": 8,
        "start_time": "2022-04-08T05:09:33.248Z"
      },
      {
        "duration": 11,
        "start_time": "2022-04-08T05:09:33.258Z"
      },
      {
        "duration": 7,
        "start_time": "2022-04-08T05:09:33.270Z"
      },
      {
        "duration": 9,
        "start_time": "2022-04-08T05:09:33.278Z"
      },
      {
        "duration": 8,
        "start_time": "2022-04-08T05:09:33.289Z"
      },
      {
        "duration": 2,
        "start_time": "2022-04-08T05:09:43.551Z"
      },
      {
        "duration": 5,
        "start_time": "2022-04-08T05:09:46.222Z"
      },
      {
        "duration": 6,
        "start_time": "2022-04-08T05:09:47.271Z"
      },
      {
        "duration": 140,
        "start_time": "2022-04-08T05:17:57.585Z"
      },
      {
        "duration": 4,
        "start_time": "2022-04-08T05:18:25.920Z"
      },
      {
        "duration": 113,
        "start_time": "2022-04-08T05:21:22.242Z"
      },
      {
        "duration": 3,
        "start_time": "2022-04-08T05:21:37.187Z"
      },
      {
        "duration": 2404,
        "start_time": "2022-04-08T05:21:46.949Z"
      },
      {
        "duration": 4,
        "start_time": "2022-04-08T05:22:17.811Z"
      },
      {
        "duration": 13,
        "start_time": "2022-04-08T05:22:38.467Z"
      },
      {
        "duration": 4255,
        "start_time": "2022-04-08T05:23:18.016Z"
      },
      {
        "duration": 3,
        "start_time": "2022-04-08T05:24:06.300Z"
      },
      {
        "duration": 3404,
        "start_time": "2022-04-08T05:24:40.355Z"
      },
      {
        "duration": 4,
        "start_time": "2022-04-08T05:27:19.799Z"
      },
      {
        "duration": 22,
        "start_time": "2022-04-08T05:27:55.463Z"
      },
      {
        "duration": 136,
        "start_time": "2022-04-08T05:28:02.739Z"
      },
      {
        "duration": 7937,
        "start_time": "2022-04-08T05:31:10.647Z"
      },
      {
        "duration": 12795,
        "start_time": "2022-04-08T05:31:48.200Z"
      },
      {
        "duration": 2,
        "start_time": "2022-04-08T05:34:19.745Z"
      },
      {
        "duration": 12940,
        "start_time": "2022-04-08T05:34:40.701Z"
      },
      {
        "duration": 200,
        "start_time": "2022-04-08T05:35:42.528Z"
      },
      {
        "duration": 3,
        "start_time": "2022-04-08T05:35:52.744Z"
      },
      {
        "duration": 7,
        "start_time": "2022-04-08T05:35:53.808Z"
      },
      {
        "duration": 2,
        "start_time": "2022-04-08T05:36:18.748Z"
      },
      {
        "duration": 13000,
        "start_time": "2022-04-08T05:36:30.056Z"
      },
      {
        "duration": 204,
        "start_time": "2022-04-08T05:37:02.312Z"
      },
      {
        "duration": 3,
        "start_time": "2022-04-08T05:37:09.664Z"
      },
      {
        "duration": 8,
        "start_time": "2022-04-08T05:37:10.639Z"
      },
      {
        "duration": 7547,
        "start_time": "2022-04-08T05:39:24.781Z"
      },
      {
        "duration": 189,
        "start_time": "2022-04-08T05:39:36.069Z"
      },
      {
        "duration": 90447,
        "start_time": "2022-04-08T05:39:47.647Z"
      },
      {
        "duration": 481,
        "start_time": "2022-04-08T05:41:25.014Z"
      },
      {
        "duration": 3,
        "start_time": "2022-04-08T05:53:32.059Z"
      },
      {
        "duration": 256,
        "start_time": "2022-04-08T05:56:17.846Z"
      },
      {
        "duration": 3,
        "start_time": "2022-04-08T06:15:25.198Z"
      },
      {
        "duration": 145,
        "start_time": "2022-04-08T06:15:53.634Z"
      },
      {
        "duration": 106,
        "start_time": "2022-04-08T06:16:50.018Z"
      },
      {
        "duration": 128,
        "start_time": "2022-04-08T06:17:03.465Z"
      },
      {
        "duration": 156,
        "start_time": "2022-04-08T06:27:43.900Z"
      },
      {
        "duration": 135,
        "start_time": "2022-04-08T06:31:11.819Z"
      },
      {
        "duration": 152,
        "start_time": "2022-04-08T06:31:48.203Z"
      },
      {
        "duration": 1286,
        "start_time": "2022-04-08T06:40:42.001Z"
      },
      {
        "duration": 2413,
        "start_time": "2022-04-08T06:40:55.960Z"
      },
      {
        "duration": 145,
        "start_time": "2022-04-08T06:41:25.708Z"
      },
      {
        "duration": 17,
        "start_time": "2022-04-08T06:42:02.168Z"
      },
      {
        "duration": 70,
        "start_time": "2022-04-08T06:42:04.183Z"
      },
      {
        "duration": 47,
        "start_time": "2022-04-08T06:42:05.223Z"
      },
      {
        "duration": 3,
        "start_time": "2022-04-08T06:42:18.018Z"
      },
      {
        "duration": 9,
        "start_time": "2022-04-08T06:42:18.993Z"
      },
      {
        "duration": 88047,
        "start_time": "2022-04-08T06:42:28.312Z"
      },
      {
        "duration": 681,
        "start_time": "2022-04-08T06:44:20.505Z"
      },
      {
        "duration": 12375,
        "start_time": "2022-04-08T06:44:27.642Z"
      },
      {
        "duration": 2126,
        "start_time": "2022-04-08T06:45:11.092Z"
      },
      {
        "duration": 4,
        "start_time": "2022-04-08T06:45:18.268Z"
      },
      {
        "duration": 9,
        "start_time": "2022-04-08T06:45:19.193Z"
      },
      {
        "duration": 1203,
        "start_time": "2022-04-08T06:49:58.144Z"
      },
      {
        "duration": 826,
        "start_time": "2022-04-08T06:49:59.349Z"
      },
      {
        "duration": 138,
        "start_time": "2022-04-08T06:50:00.177Z"
      },
      {
        "duration": 27,
        "start_time": "2022-04-08T06:50:00.316Z"
      },
      {
        "duration": 117,
        "start_time": "2022-04-08T06:50:00.345Z"
      },
      {
        "duration": 128,
        "start_time": "2022-04-08T06:50:00.464Z"
      },
      {
        "duration": 9,
        "start_time": "2022-04-08T06:50:00.594Z"
      },
      {
        "duration": 100,
        "start_time": "2022-04-08T06:50:00.609Z"
      },
      {
        "duration": 38,
        "start_time": "2022-04-08T06:50:00.710Z"
      },
      {
        "duration": 44,
        "start_time": "2022-04-08T06:50:00.750Z"
      },
      {
        "duration": 48,
        "start_time": "2022-04-08T06:50:00.796Z"
      },
      {
        "duration": 39,
        "start_time": "2022-04-08T06:50:00.846Z"
      },
      {
        "duration": 46,
        "start_time": "2022-04-08T06:50:00.887Z"
      },
      {
        "duration": 468,
        "start_time": "2022-04-08T06:50:00.934Z"
      },
      {
        "duration": 567,
        "start_time": "2022-04-08T06:50:01.404Z"
      },
      {
        "duration": 1389,
        "start_time": "2022-04-08T06:50:01.973Z"
      },
      {
        "duration": 3,
        "start_time": "2022-04-08T06:50:03.363Z"
      },
      {
        "duration": 26,
        "start_time": "2022-04-08T06:50:03.368Z"
      },
      {
        "duration": 19,
        "start_time": "2022-04-08T06:50:03.396Z"
      },
      {
        "duration": 25,
        "start_time": "2022-04-08T06:50:03.416Z"
      },
      {
        "duration": 73,
        "start_time": "2022-04-08T06:50:03.442Z"
      },
      {
        "duration": 54,
        "start_time": "2022-04-08T06:50:03.517Z"
      },
      {
        "duration": 3,
        "start_time": "2022-04-08T06:50:03.573Z"
      },
      {
        "duration": 29,
        "start_time": "2022-04-08T06:50:03.578Z"
      },
      {
        "duration": 20,
        "start_time": "2022-04-08T06:50:03.608Z"
      },
      {
        "duration": 29,
        "start_time": "2022-04-08T06:50:03.629Z"
      },
      {
        "duration": 7,
        "start_time": "2022-04-08T06:50:03.660Z"
      },
      {
        "duration": 20,
        "start_time": "2022-04-08T06:50:03.670Z"
      },
      {
        "duration": 90622,
        "start_time": "2022-04-08T06:50:03.692Z"
      },
      {
        "duration": 697,
        "start_time": "2022-04-08T06:51:34.316Z"
      },
      {
        "duration": 15210,
        "start_time": "2022-04-08T06:51:35.015Z"
      },
      {
        "duration": 2186,
        "start_time": "2022-04-08T06:51:50.228Z"
      },
      {
        "duration": 4,
        "start_time": "2022-04-08T06:51:52.416Z"
      },
      {
        "duration": 10,
        "start_time": "2022-04-08T06:51:52.422Z"
      },
      {
        "duration": 538109,
        "start_time": "2022-04-08T08:11:34.579Z"
      },
      {
        "duration": 90,
        "start_time": "2022-04-08T08:20:32.690Z"
      },
      {
        "duration": 3,
        "start_time": "2022-04-08T08:21:35.079Z"
      },
      {
        "duration": 3,
        "start_time": "2022-04-08T08:22:17.016Z"
      },
      {
        "duration": 3,
        "start_time": "2022-04-08T08:25:50.782Z"
      },
      {
        "duration": 3,
        "start_time": "2022-04-08T08:25:52.421Z"
      },
      {
        "duration": 536934,
        "start_time": "2022-04-08T08:25:53.709Z"
      },
      {
        "duration": 2,
        "start_time": "2022-04-08T08:34:50.645Z"
      },
      {
        "duration": 3,
        "start_time": "2022-04-08T08:36:04.061Z"
      },
      {
        "duration": 3,
        "start_time": "2022-04-08T08:36:04.761Z"
      },
      {
        "duration": 107910,
        "start_time": "2022-04-08T08:36:05.396Z"
      },
      {
        "duration": 103,
        "start_time": "2022-04-08T08:39:18.268Z"
      },
      {
        "duration": 3,
        "start_time": "2022-04-08T08:39:23.904Z"
      },
      {
        "duration": 2,
        "start_time": "2022-04-08T08:39:25.368Z"
      },
      {
        "duration": 261615,
        "start_time": "2022-04-08T08:39:27.999Z"
      },
      {
        "duration": 3,
        "start_time": "2022-04-08T08:45:31.738Z"
      },
      {
        "duration": 2,
        "start_time": "2022-04-08T08:45:33.432Z"
      },
      {
        "duration": 530810,
        "start_time": "2022-04-08T08:45:36.720Z"
      },
      {
        "duration": 4,
        "start_time": "2022-04-08T08:55:04.418Z"
      },
      {
        "duration": 3,
        "start_time": "2022-04-08T08:55:05.835Z"
      },
      {
        "duration": 524410,
        "start_time": "2022-04-08T08:55:09.922Z"
      },
      {
        "duration": 3,
        "start_time": "2022-04-08T09:04:36.143Z"
      },
      {
        "duration": 3,
        "start_time": "2022-04-08T09:04:37.837Z"
      },
      {
        "duration": 530322,
        "start_time": "2022-04-08T09:04:39.148Z"
      },
      {
        "duration": 3,
        "start_time": "2022-04-08T09:20:13.875Z"
      },
      {
        "duration": 2300,
        "start_time": "2022-04-08T09:21:24.005Z"
      },
      {
        "duration": 2268,
        "start_time": "2022-04-08T09:21:58.279Z"
      },
      {
        "duration": 4,
        "start_time": "2022-04-08T09:22:43.314Z"
      },
      {
        "duration": 4,
        "start_time": "2022-04-08T09:23:52.482Z"
      },
      {
        "duration": 8,
        "start_time": "2022-04-08T09:23:54.137Z"
      },
      {
        "duration": 4,
        "start_time": "2022-04-08T09:32:05.290Z"
      },
      {
        "duration": 4,
        "start_time": "2022-04-08T09:32:11.026Z"
      },
      {
        "duration": 17048,
        "start_time": "2022-04-08T09:32:24.321Z"
      },
      {
        "duration": 3,
        "start_time": "2022-04-08T09:35:26.837Z"
      },
      {
        "duration": 112,
        "start_time": "2022-04-08T09:35:47.112Z"
      },
      {
        "duration": 10,
        "start_time": "2022-04-08T09:36:12.524Z"
      },
      {
        "duration": 4,
        "start_time": "2022-04-08T09:38:14.474Z"
      },
      {
        "duration": 4,
        "start_time": "2022-04-08T09:38:25.830Z"
      },
      {
        "duration": 15483,
        "start_time": "2022-04-08T09:38:36.827Z"
      },
      {
        "duration": 2089,
        "start_time": "2022-04-08T09:39:29.627Z"
      },
      {
        "duration": 2154,
        "start_time": "2022-04-08T09:39:52.756Z"
      },
      {
        "duration": 5,
        "start_time": "2022-04-08T09:40:00.180Z"
      },
      {
        "duration": 9,
        "start_time": "2022-04-08T09:40:01.910Z"
      },
      {
        "duration": 3,
        "start_time": "2022-04-08T09:42:45.275Z"
      },
      {
        "duration": 463,
        "start_time": "2022-04-08T09:49:14.067Z"
      },
      {
        "duration": 3,
        "start_time": "2022-04-08T09:59:19.877Z"
      },
      {
        "duration": 4,
        "start_time": "2022-04-08T09:59:24.279Z"
      },
      {
        "duration": 14311,
        "start_time": "2022-04-08T09:59:33.326Z"
      },
      {
        "duration": 3,
        "start_time": "2022-04-08T10:00:06.996Z"
      },
      {
        "duration": 2101,
        "start_time": "2022-04-08T10:00:27.033Z"
      },
      {
        "duration": 2058,
        "start_time": "2022-04-08T10:00:33.074Z"
      },
      {
        "duration": 4,
        "start_time": "2022-04-08T10:00:49.601Z"
      },
      {
        "duration": 9,
        "start_time": "2022-04-08T10:00:51.001Z"
      },
      {
        "duration": 4,
        "start_time": "2022-04-08T10:01:34.455Z"
      },
      {
        "duration": 3,
        "start_time": "2022-04-08T10:01:36.266Z"
      },
      {
        "duration": 2,
        "start_time": "2022-04-08T10:02:08.372Z"
      },
      {
        "duration": 1258,
        "start_time": "2022-04-08T10:05:53.185Z"
      },
      {
        "duration": 823,
        "start_time": "2022-04-08T10:05:54.445Z"
      },
      {
        "duration": 129,
        "start_time": "2022-04-08T10:05:55.270Z"
      },
      {
        "duration": 26,
        "start_time": "2022-04-08T10:05:55.409Z"
      },
      {
        "duration": 101,
        "start_time": "2022-04-08T10:05:55.436Z"
      },
      {
        "duration": 127,
        "start_time": "2022-04-08T10:05:55.538Z"
      },
      {
        "duration": 2,
        "start_time": "2022-04-08T10:05:55.667Z"
      },
      {
        "duration": 99,
        "start_time": "2022-04-08T10:05:55.670Z"
      },
      {
        "duration": 39,
        "start_time": "2022-04-08T10:05:55.771Z"
      },
      {
        "duration": 35,
        "start_time": "2022-04-08T10:05:55.812Z"
      },
      {
        "duration": 39,
        "start_time": "2022-04-08T10:05:55.848Z"
      },
      {
        "duration": 47,
        "start_time": "2022-04-08T10:05:55.889Z"
      },
      {
        "duration": 33,
        "start_time": "2022-04-08T10:05:55.938Z"
      },
      {
        "duration": 470,
        "start_time": "2022-04-08T10:05:55.973Z"
      },
      {
        "duration": 546,
        "start_time": "2022-04-08T10:05:56.445Z"
      },
      {
        "duration": 1366,
        "start_time": "2022-04-08T10:05:56.992Z"
      },
      {
        "duration": 3,
        "start_time": "2022-04-08T10:05:58.359Z"
      },
      {
        "duration": 10,
        "start_time": "2022-04-08T10:05:58.364Z"
      },
      {
        "duration": 7,
        "start_time": "2022-04-08T10:05:58.375Z"
      },
      {
        "duration": 5,
        "start_time": "2022-04-08T10:05:58.384Z"
      },
      {
        "duration": 70,
        "start_time": "2022-04-08T10:05:58.391Z"
      },
      {
        "duration": 64,
        "start_time": "2022-04-08T10:05:58.463Z"
      },
      {
        "duration": 4,
        "start_time": "2022-04-08T10:05:58.529Z"
      },
      {
        "duration": 10,
        "start_time": "2022-04-08T10:05:58.534Z"
      },
      {
        "duration": 5,
        "start_time": "2022-04-08T10:05:58.546Z"
      },
      {
        "duration": 8,
        "start_time": "2022-04-08T10:05:58.552Z"
      },
      {
        "duration": 9,
        "start_time": "2022-04-08T10:05:58.562Z"
      },
      {
        "duration": 3,
        "start_time": "2022-04-08T10:05:58.575Z"
      },
      {
        "duration": 7,
        "start_time": "2022-04-08T10:05:58.580Z"
      },
      {
        "duration": 12,
        "start_time": "2022-04-08T10:05:58.610Z"
      },
      {
        "duration": 4,
        "start_time": "2022-04-08T10:05:58.624Z"
      },
      {
        "duration": 533302,
        "start_time": "2022-04-08T10:05:58.630Z"
      },
      {
        "duration": 4,
        "start_time": "2022-04-08T10:14:51.933Z"
      },
      {
        "duration": 2168,
        "start_time": "2022-04-08T10:14:51.939Z"
      },
      {
        "duration": 2244,
        "start_time": "2022-04-08T10:14:54.109Z"
      },
      {
        "duration": 388,
        "start_time": "2022-04-08T10:14:56.354Z"
      },
      {
        "duration": 2,
        "start_time": "2022-04-08T10:14:56.744Z"
      },
      {
        "duration": 6,
        "start_time": "2022-04-08T10:14:56.747Z"
      },
      {
        "duration": 13560,
        "start_time": "2022-04-08T10:14:56.754Z"
      },
      {
        "duration": 119,
        "start_time": "2022-04-08T10:15:10.315Z"
      },
      {
        "duration": 0,
        "start_time": "2022-04-08T10:15:10.435Z"
      },
      {
        "duration": 0,
        "start_time": "2022-04-08T10:15:10.436Z"
      },
      {
        "duration": 0,
        "start_time": "2022-04-08T10:15:10.438Z"
      },
      {
        "duration": 0,
        "start_time": "2022-04-08T10:15:10.439Z"
      },
      {
        "duration": 2099,
        "start_time": "2022-04-08T10:17:17.627Z"
      },
      {
        "duration": 2054,
        "start_time": "2022-04-08T10:17:21.175Z"
      },
      {
        "duration": 200,
        "start_time": "2022-04-08T10:17:24.800Z"
      },
      {
        "duration": 181,
        "start_time": "2022-04-08T10:17:55.147Z"
      },
      {
        "duration": 207,
        "start_time": "2022-04-08T10:17:59.584Z"
      },
      {
        "duration": 298,
        "start_time": "2022-04-08T10:18:23.273Z"
      },
      {
        "duration": 213,
        "start_time": "2022-04-08T10:18:57.959Z"
      },
      {
        "duration": 3,
        "start_time": "2022-04-08T10:19:46.273Z"
      },
      {
        "duration": 8,
        "start_time": "2022-04-08T10:19:47.012Z"
      },
      {
        "duration": 2,
        "start_time": "2022-04-08T11:21:10.595Z"
      },
      {
        "duration": 2,
        "start_time": "2022-04-08T11:21:12.529Z"
      },
      {
        "duration": 17455,
        "start_time": "2022-04-08T11:21:16.776Z"
      },
      {
        "duration": 2099,
        "start_time": "2022-04-08T11:21:51.914Z"
      },
      {
        "duration": 3,
        "start_time": "2022-04-08T11:22:01.914Z"
      },
      {
        "duration": 3,
        "start_time": "2022-04-08T11:22:03.183Z"
      },
      {
        "duration": 88245,
        "start_time": "2022-04-08T11:22:04.480Z"
      },
      {
        "duration": 11426,
        "start_time": "2022-04-08T11:23:32.727Z"
      },
      {
        "duration": 11568,
        "start_time": "2022-04-08T11:23:54.858Z"
      },
      {
        "duration": 4,
        "start_time": "2022-04-08T11:24:12.529Z"
      },
      {
        "duration": 9,
        "start_time": "2022-04-08T11:24:13.726Z"
      },
      {
        "duration": 7,
        "start_time": "2022-04-08T11:28:54.092Z"
      },
      {
        "duration": 6,
        "start_time": "2022-04-08T11:31:40.649Z"
      },
      {
        "duration": 4,
        "start_time": "2022-04-08T11:31:43.409Z"
      },
      {
        "duration": 49,
        "start_time": "2022-04-08T11:31:46.733Z"
      },
      {
        "duration": 44,
        "start_time": "2022-04-08T11:31:47.705Z"
      },
      {
        "duration": 4,
        "start_time": "2022-04-08T11:33:43.996Z"
      },
      {
        "duration": 715,
        "start_time": "2022-04-08T11:33:54.385Z"
      },
      {
        "duration": 36,
        "start_time": "2022-04-08T11:34:02.099Z"
      },
      {
        "duration": 3,
        "start_time": "2022-04-08T11:35:07.297Z"
      },
      {
        "duration": 90,
        "start_time": "2022-04-08T11:35:08.394Z"
      },
      {
        "duration": 281,
        "start_time": "2022-04-08T11:35:14.602Z"
      },
      {
        "duration": 348,
        "start_time": "2022-04-08T11:36:23.456Z"
      },
      {
        "duration": 606,
        "start_time": "2022-04-08T11:36:26.633Z"
      },
      {
        "duration": 3,
        "start_time": "2022-04-08T11:36:37.298Z"
      },
      {
        "duration": 8,
        "start_time": "2022-04-08T11:38:49.754Z"
      },
      {
        "duration": 4,
        "start_time": "2022-04-08T11:38:51.528Z"
      },
      {
        "duration": 724,
        "start_time": "2022-04-08T11:46:21.697Z"
      },
      {
        "duration": 28,
        "start_time": "2022-04-08T11:46:44.577Z"
      },
      {
        "duration": 26,
        "start_time": "2022-04-08T11:48:23.610Z"
      },
      {
        "duration": 133,
        "start_time": "2022-04-08T11:48:44.050Z"
      },
      {
        "duration": 4,
        "start_time": "2022-04-08T11:48:50.394Z"
      },
      {
        "duration": 212,
        "start_time": "2022-04-08T11:49:29.680Z"
      },
      {
        "duration": 125,
        "start_time": "2022-04-08T11:49:36.712Z"
      },
      {
        "duration": 3,
        "start_time": "2022-04-08T11:52:25.481Z"
      },
      {
        "duration": 3,
        "start_time": "2022-04-08T11:52:26.840Z"
      },
      {
        "duration": 85795,
        "start_time": "2022-04-08T11:52:27.952Z"
      },
      {
        "duration": 11120,
        "start_time": "2022-04-08T11:54:13.116Z"
      },
      {
        "duration": 3,
        "start_time": "2022-04-08T11:54:43.889Z"
      },
      {
        "duration": 3,
        "start_time": "2022-04-08T11:54:46.720Z"
      },
      {
        "duration": 92942,
        "start_time": "2022-04-08T11:54:48.507Z"
      },
      {
        "duration": 3,
        "start_time": "2022-04-08T11:56:42.579Z"
      },
      {
        "duration": 11383,
        "start_time": "2022-04-08T11:56:48.048Z"
      },
      {
        "duration": 3,
        "start_time": "2022-04-08T11:57:19.865Z"
      },
      {
        "duration": 3,
        "start_time": "2022-04-08T11:57:25.866Z"
      },
      {
        "duration": 80760,
        "start_time": "2022-04-08T11:57:26.590Z"
      },
      {
        "duration": 11536,
        "start_time": "2022-04-08T12:00:31.610Z"
      },
      {
        "duration": 11523,
        "start_time": "2022-04-08T12:00:46.725Z"
      },
      {
        "duration": 178,
        "start_time": "2022-04-08T12:01:06.124Z"
      },
      {
        "duration": 15,
        "start_time": "2022-04-08T12:01:28.928Z"
      },
      {
        "duration": 2,
        "start_time": "2022-04-08T12:02:24.049Z"
      },
      {
        "duration": 4,
        "start_time": "2022-04-08T12:02:34.547Z"
      },
      {
        "duration": 6,
        "start_time": "2022-04-08T12:02:37.337Z"
      },
      {
        "duration": 11392,
        "start_time": "2022-04-08T12:02:51.961Z"
      },
      {
        "duration": 11610,
        "start_time": "2022-04-08T12:03:07.840Z"
      },
      {
        "duration": 4,
        "start_time": "2022-04-08T12:04:04.897Z"
      },
      {
        "duration": 7,
        "start_time": "2022-04-08T12:04:06.001Z"
      },
      {
        "duration": 4,
        "start_time": "2022-04-08T12:04:33.436Z"
      },
      {
        "duration": 2,
        "start_time": "2022-04-08T12:04:34.228Z"
      },
      {
        "duration": 86902,
        "start_time": "2022-04-08T12:04:34.844Z"
      },
      {
        "duration": 11475,
        "start_time": "2022-04-08T12:06:01.748Z"
      },
      {
        "duration": 11346,
        "start_time": "2022-04-08T12:06:13.225Z"
      },
      {
        "duration": 36,
        "start_time": "2022-04-08T12:06:24.573Z"
      },
      {
        "duration": 7,
        "start_time": "2022-04-08T12:06:24.611Z"
      },
      {
        "duration": 3,
        "start_time": "2022-04-08T12:11:22.052Z"
      },
      {
        "duration": 2,
        "start_time": "2022-04-08T12:11:24.900Z"
      },
      {
        "duration": 13877,
        "start_time": "2022-04-08T12:11:27.165Z"
      },
      {
        "duration": 3,
        "start_time": "2022-04-08T12:19:11.589Z"
      },
      {
        "duration": 3,
        "start_time": "2022-04-08T12:19:12.631Z"
      },
      {
        "duration": 100,
        "start_time": "2022-04-08T12:19:13.316Z"
      },
      {
        "duration": 3,
        "start_time": "2022-04-08T12:19:57.857Z"
      },
      {
        "duration": 3,
        "start_time": "2022-04-08T12:19:58.943Z"
      },
      {
        "duration": 13184,
        "start_time": "2022-04-08T12:19:59.653Z"
      },
      {
        "duration": 1384,
        "start_time": "2022-04-08T12:20:12.839Z"
      },
      {
        "duration": 1393,
        "start_time": "2022-04-08T12:20:14.225Z"
      },
      {
        "duration": 4,
        "start_time": "2022-04-08T12:20:44.871Z"
      },
      {
        "duration": 8,
        "start_time": "2022-04-08T12:20:45.490Z"
      },
      {
        "duration": 3,
        "start_time": "2022-04-08T12:21:17.284Z"
      },
      {
        "duration": 3,
        "start_time": "2022-04-08T12:21:17.964Z"
      },
      {
        "duration": 12363,
        "start_time": "2022-04-08T12:21:18.677Z"
      },
      {
        "duration": 1368,
        "start_time": "2022-04-08T12:21:31.042Z"
      },
      {
        "duration": 1310,
        "start_time": "2022-04-08T12:21:32.412Z"
      },
      {
        "duration": 4,
        "start_time": "2022-04-08T12:21:33.724Z"
      },
      {
        "duration": 10,
        "start_time": "2022-04-08T12:21:33.730Z"
      },
      {
        "duration": 3,
        "start_time": "2022-04-08T12:22:11.308Z"
      },
      {
        "duration": 3,
        "start_time": "2022-04-08T12:22:12.340Z"
      },
      {
        "duration": 12583,
        "start_time": "2022-04-08T12:22:12.954Z"
      },
      {
        "duration": 1282,
        "start_time": "2022-04-08T12:22:25.539Z"
      },
      {
        "duration": 1297,
        "start_time": "2022-04-08T12:22:26.824Z"
      },
      {
        "duration": 4,
        "start_time": "2022-04-08T12:22:28.123Z"
      },
      {
        "duration": 11,
        "start_time": "2022-04-08T12:22:28.128Z"
      },
      {
        "duration": 89,
        "start_time": "2022-04-08T12:23:06.143Z"
      },
      {
        "duration": 3,
        "start_time": "2022-04-08T12:23:11.904Z"
      },
      {
        "duration": 3,
        "start_time": "2022-04-08T12:23:13.097Z"
      },
      {
        "duration": 13210,
        "start_time": "2022-04-08T12:23:14.230Z"
      },
      {
        "duration": 1286,
        "start_time": "2022-04-08T12:23:27.442Z"
      },
      {
        "duration": 1293,
        "start_time": "2022-04-08T12:23:28.730Z"
      },
      {
        "duration": 4,
        "start_time": "2022-04-08T12:23:30.109Z"
      },
      {
        "duration": 21,
        "start_time": "2022-04-08T12:23:30.115Z"
      },
      {
        "duration": 3,
        "start_time": "2022-04-08T12:28:36.439Z"
      },
      {
        "duration": 2,
        "start_time": "2022-04-08T12:28:37.469Z"
      },
      {
        "duration": 650,
        "start_time": "2022-04-08T12:28:38.544Z"
      },
      {
        "duration": 3,
        "start_time": "2022-04-08T12:28:56.861Z"
      },
      {
        "duration": 3,
        "start_time": "2022-04-08T12:28:57.699Z"
      },
      {
        "duration": 64479,
        "start_time": "2022-04-08T12:28:58.359Z"
      },
      {
        "duration": 2,
        "start_time": "2022-04-08T12:30:02.840Z"
      },
      {
        "duration": 1045,
        "start_time": "2022-04-08T12:30:59.070Z"
      },
      {
        "duration": 1078,
        "start_time": "2022-04-08T12:31:00.332Z"
      },
      {
        "duration": 4,
        "start_time": "2022-04-08T12:31:02.271Z"
      },
      {
        "duration": 8,
        "start_time": "2022-04-08T12:31:03.373Z"
      },
      {
        "duration": 3,
        "start_time": "2022-04-08T12:32:31.782Z"
      },
      {
        "duration": 3,
        "start_time": "2022-04-08T12:32:32.557Z"
      },
      {
        "duration": 85837,
        "start_time": "2022-04-08T12:32:33.213Z"
      },
      {
        "duration": 1194,
        "start_time": "2022-04-08T12:35:44.547Z"
      },
      {
        "duration": 1158,
        "start_time": "2022-04-08T12:35:57.776Z"
      },
      {
        "duration": 4,
        "start_time": "2022-04-08T12:36:02.361Z"
      },
      {
        "duration": 3,
        "start_time": "2022-04-08T12:36:03.507Z"
      },
      {
        "duration": 10,
        "start_time": "2022-04-08T12:36:05.025Z"
      },
      {
        "duration": 84,
        "start_time": "2022-04-08T12:37:25.812Z"
      },
      {
        "duration": 4,
        "start_time": "2022-04-08T12:38:00.603Z"
      },
      {
        "duration": 3,
        "start_time": "2022-04-08T12:38:36.277Z"
      },
      {
        "duration": 2,
        "start_time": "2022-04-08T12:38:38.909Z"
      },
      {
        "duration": 90236,
        "start_time": "2022-04-08T12:38:39.812Z"
      },
      {
        "duration": 6024,
        "start_time": "2022-04-08T12:40:10.109Z"
      },
      {
        "duration": 6084,
        "start_time": "2022-04-08T12:40:16.134Z"
      },
      {
        "duration": 4,
        "start_time": "2022-04-08T12:40:22.220Z"
      },
      {
        "duration": 26,
        "start_time": "2022-04-08T12:40:22.226Z"
      },
      {
        "duration": 3,
        "start_time": "2022-04-08T12:41:22.054Z"
      },
      {
        "duration": 2,
        "start_time": "2022-04-08T12:41:22.870Z"
      },
      {
        "duration": 18312,
        "start_time": "2022-04-08T12:41:24.927Z"
      },
      {
        "duration": 1339,
        "start_time": "2022-04-08T12:41:55.470Z"
      },
      {
        "duration": 1313,
        "start_time": "2022-04-08T12:41:56.811Z"
      },
      {
        "duration": 4,
        "start_time": "2022-04-08T12:42:12.646Z"
      },
      {
        "duration": 9,
        "start_time": "2022-04-08T12:42:13.269Z"
      },
      {
        "duration": 3,
        "start_time": "2022-04-08T12:43:12.534Z"
      },
      {
        "duration": 3,
        "start_time": "2022-04-08T12:43:13.476Z"
      },
      {
        "duration": 47761,
        "start_time": "2022-04-08T12:43:14.285Z"
      },
      {
        "duration": 90,
        "start_time": "2022-04-08T12:44:13.492Z"
      },
      {
        "duration": 3,
        "start_time": "2022-04-08T12:44:36.853Z"
      },
      {
        "duration": 3,
        "start_time": "2022-04-08T12:44:38.012Z"
      },
      {
        "duration": 57703,
        "start_time": "2022-04-08T12:44:38.709Z"
      },
      {
        "duration": 1417,
        "start_time": "2022-04-08T12:49:21.599Z"
      },
      {
        "duration": 1408,
        "start_time": "2022-04-08T12:49:23.018Z"
      },
      {
        "duration": 4,
        "start_time": "2022-04-08T12:49:27.228Z"
      },
      {
        "duration": 9,
        "start_time": "2022-04-08T12:49:27.829Z"
      },
      {
        "duration": 3,
        "start_time": "2022-04-08T12:50:07.518Z"
      },
      {
        "duration": 3,
        "start_time": "2022-04-08T12:50:08.319Z"
      },
      {
        "duration": 15204,
        "start_time": "2022-04-08T12:50:08.929Z"
      },
      {
        "duration": 2,
        "start_time": "2022-04-08T12:51:06.881Z"
      },
      {
        "duration": 3,
        "start_time": "2022-04-08T12:51:07.484Z"
      },
      {
        "duration": 75060,
        "start_time": "2022-04-08T12:51:08.079Z"
      },
      {
        "duration": 11686,
        "start_time": "2022-04-08T12:52:23.142Z"
      },
      {
        "duration": 11715,
        "start_time": "2022-04-08T12:52:34.830Z"
      },
      {
        "duration": 3,
        "start_time": "2022-04-08T12:52:46.547Z"
      },
      {
        "duration": 58,
        "start_time": "2022-04-08T12:52:46.552Z"
      },
      {
        "duration": 3,
        "start_time": "2022-04-08T12:55:27.442Z"
      },
      {
        "duration": 3,
        "start_time": "2022-04-08T12:55:28.876Z"
      },
      {
        "duration": 82811,
        "start_time": "2022-04-08T12:55:29.638Z"
      },
      {
        "duration": 11501,
        "start_time": "2022-04-08T12:57:33.654Z"
      },
      {
        "duration": 11499,
        "start_time": "2022-04-08T12:57:45.157Z"
      },
      {
        "duration": 4,
        "start_time": "2022-04-08T12:57:56.657Z"
      },
      {
        "duration": 52,
        "start_time": "2022-04-08T12:57:56.662Z"
      },
      {
        "duration": 94,
        "start_time": "2022-04-08T13:12:59.254Z"
      },
      {
        "duration": 3,
        "start_time": "2022-04-08T13:15:15.743Z"
      },
      {
        "duration": 20,
        "start_time": "2022-04-08T13:15:16.501Z"
      },
      {
        "duration": 2,
        "start_time": "2022-04-08T13:16:00.400Z"
      },
      {
        "duration": 3,
        "start_time": "2022-04-08T13:17:02.977Z"
      },
      {
        "duration": 2,
        "start_time": "2022-04-08T13:17:03.710Z"
      },
      {
        "duration": 130,
        "start_time": "2022-04-08T13:17:04.399Z"
      },
      {
        "duration": 3,
        "start_time": "2022-04-08T13:23:44.143Z"
      },
      {
        "duration": 3,
        "start_time": "2022-04-08T13:23:45.709Z"
      },
      {
        "duration": 150,
        "start_time": "2022-04-08T13:23:46.690Z"
      },
      {
        "duration": 4,
        "start_time": "2022-04-08T13:24:19.359Z"
      },
      {
        "duration": 3,
        "start_time": "2022-04-08T13:24:20.349Z"
      },
      {
        "duration": 117,
        "start_time": "2022-04-08T13:24:21.204Z"
      },
      {
        "duration": 1474,
        "start_time": "2022-04-08T13:36:35.091Z"
      },
      {
        "duration": 770,
        "start_time": "2022-04-08T13:36:36.567Z"
      },
      {
        "duration": 132,
        "start_time": "2022-04-08T13:36:37.339Z"
      },
      {
        "duration": 40,
        "start_time": "2022-04-08T13:36:37.473Z"
      },
      {
        "duration": 101,
        "start_time": "2022-04-08T13:36:37.515Z"
      },
      {
        "duration": 36,
        "start_time": "2022-04-08T13:36:37.617Z"
      },
      {
        "duration": 122,
        "start_time": "2022-04-08T13:36:37.655Z"
      },
      {
        "duration": 202,
        "start_time": "2022-04-08T13:36:37.778Z"
      },
      {
        "duration": 3,
        "start_time": "2022-04-08T13:36:37.982Z"
      },
      {
        "duration": 42,
        "start_time": "2022-04-08T13:36:37.988Z"
      },
      {
        "duration": 31,
        "start_time": "2022-04-08T13:36:38.032Z"
      },
      {
        "duration": 50,
        "start_time": "2022-04-08T13:36:38.065Z"
      },
      {
        "duration": 36,
        "start_time": "2022-04-08T13:36:38.116Z"
      },
      {
        "duration": 34,
        "start_time": "2022-04-08T13:36:38.153Z"
      },
      {
        "duration": 329,
        "start_time": "2022-04-08T13:36:38.188Z"
      },
      {
        "duration": 399,
        "start_time": "2022-04-08T13:36:38.518Z"
      },
      {
        "duration": 655,
        "start_time": "2022-04-08T13:36:38.919Z"
      },
      {
        "duration": 4,
        "start_time": "2022-04-08T13:36:39.576Z"
      },
      {
        "duration": 10,
        "start_time": "2022-04-08T13:36:39.582Z"
      },
      {
        "duration": 17,
        "start_time": "2022-04-08T13:36:39.594Z"
      },
      {
        "duration": 11,
        "start_time": "2022-04-08T13:36:39.613Z"
      },
      {
        "duration": 21,
        "start_time": "2022-04-08T13:36:39.626Z"
      },
      {
        "duration": 71,
        "start_time": "2022-04-08T13:36:39.649Z"
      },
      {
        "duration": 48,
        "start_time": "2022-04-08T13:36:39.722Z"
      },
      {
        "duration": 4,
        "start_time": "2022-04-08T13:36:39.771Z"
      },
      {
        "duration": 29,
        "start_time": "2022-04-08T13:36:39.777Z"
      },
      {
        "duration": 12,
        "start_time": "2022-04-08T13:36:39.808Z"
      },
      {
        "duration": 11,
        "start_time": "2022-04-08T13:36:39.824Z"
      },
      {
        "duration": 12,
        "start_time": "2022-04-08T13:36:39.837Z"
      },
      {
        "duration": 15,
        "start_time": "2022-04-08T13:36:39.851Z"
      },
      {
        "duration": 37,
        "start_time": "2022-04-08T13:36:39.868Z"
      },
      {
        "duration": 21,
        "start_time": "2022-04-08T13:36:39.907Z"
      },
      {
        "duration": 415791,
        "start_time": "2022-04-08T13:36:39.931Z"
      },
      {
        "duration": 3,
        "start_time": "2022-04-08T13:43:35.724Z"
      },
      {
        "duration": 2052,
        "start_time": "2022-04-08T13:43:35.729Z"
      },
      {
        "duration": 2101,
        "start_time": "2022-04-08T13:43:37.783Z"
      },
      {
        "duration": 309,
        "start_time": "2022-04-08T13:43:39.886Z"
      },
      {
        "duration": 2,
        "start_time": "2022-04-08T13:43:40.197Z"
      },
      {
        "duration": 9,
        "start_time": "2022-04-08T13:43:40.201Z"
      },
      {
        "duration": 42437,
        "start_time": "2022-04-08T13:43:40.211Z"
      },
      {
        "duration": 5116,
        "start_time": "2022-04-08T13:44:22.708Z"
      },
      {
        "duration": 5205,
        "start_time": "2022-04-08T13:44:27.826Z"
      },
      {
        "duration": 217,
        "start_time": "2022-04-08T13:44:33.033Z"
      },
      {
        "duration": 3,
        "start_time": "2022-04-08T13:44:33.251Z"
      },
      {
        "duration": 18,
        "start_time": "2022-04-08T13:44:33.255Z"
      },
      {
        "duration": 85186,
        "start_time": "2022-04-08T13:44:33.274Z"
      },
      {
        "duration": 11187,
        "start_time": "2022-04-08T13:45:58.461Z"
      },
      {
        "duration": 11097,
        "start_time": "2022-04-08T13:46:09.650Z"
      },
      {
        "duration": 4,
        "start_time": "2022-04-08T13:46:20.748Z"
      },
      {
        "duration": 10,
        "start_time": "2022-04-08T13:46:20.754Z"
      },
      {
        "duration": 3,
        "start_time": "2022-04-08T13:53:52.193Z"
      },
      {
        "duration": 3,
        "start_time": "2022-04-08T13:53:53.207Z"
      },
      {
        "duration": 409035,
        "start_time": "2022-04-08T13:53:54.082Z"
      },
      {
        "duration": 3,
        "start_time": "2022-04-08T14:01:22.336Z"
      },
      {
        "duration": 3,
        "start_time": "2022-04-08T14:01:23.006Z"
      },
      {
        "duration": 398448,
        "start_time": "2022-04-08T14:01:23.718Z"
      },
      {
        "duration": 4,
        "start_time": "2022-04-08T14:08:02.168Z"
      },
      {
        "duration": 3,
        "start_time": "2022-04-08T14:08:37.972Z"
      },
      {
        "duration": 1875,
        "start_time": "2022-04-08T14:09:39.482Z"
      },
      {
        "duration": 1923,
        "start_time": "2022-04-08T14:09:43.112Z"
      },
      {
        "duration": 5227,
        "start_time": "2022-04-08T14:10:50.597Z"
      },
      {
        "duration": 2058,
        "start_time": "2022-04-08T14:11:08.524Z"
      },
      {
        "duration": 10768,
        "start_time": "2022-04-08T14:11:50.043Z"
      },
      {
        "duration": 10996,
        "start_time": "2022-04-08T14:12:00.813Z"
      },
      {
        "duration": 4,
        "start_time": "2022-04-08T14:12:11.811Z"
      },
      {
        "duration": 11,
        "start_time": "2022-04-08T14:12:11.817Z"
      },
      {
        "duration": 1422,
        "start_time": "2022-04-08T14:12:37.733Z"
      },
      {
        "duration": 783,
        "start_time": "2022-04-08T14:12:39.157Z"
      },
      {
        "duration": 126,
        "start_time": "2022-04-08T14:12:39.942Z"
      },
      {
        "duration": 45,
        "start_time": "2022-04-08T14:12:40.069Z"
      },
      {
        "duration": 100,
        "start_time": "2022-04-08T14:12:40.117Z"
      },
      {
        "duration": 35,
        "start_time": "2022-04-08T14:12:40.218Z"
      },
      {
        "duration": 113,
        "start_time": "2022-04-08T14:12:40.255Z"
      },
      {
        "duration": 192,
        "start_time": "2022-04-08T14:12:40.370Z"
      },
      {
        "duration": 3,
        "start_time": "2022-04-08T14:12:40.564Z"
      },
      {
        "duration": 44,
        "start_time": "2022-04-08T14:12:40.569Z"
      },
      {
        "duration": 33,
        "start_time": "2022-04-08T14:12:40.615Z"
      },
      {
        "duration": 37,
        "start_time": "2022-04-08T14:12:40.650Z"
      },
      {
        "duration": 47,
        "start_time": "2022-04-08T14:12:40.689Z"
      },
      {
        "duration": 32,
        "start_time": "2022-04-08T14:12:40.739Z"
      },
      {
        "duration": 319,
        "start_time": "2022-04-08T14:12:40.773Z"
      },
      {
        "duration": 415,
        "start_time": "2022-04-08T14:12:41.094Z"
      },
      {
        "duration": 651,
        "start_time": "2022-04-08T14:12:41.511Z"
      },
      {
        "duration": 3,
        "start_time": "2022-04-08T14:12:42.164Z"
      },
      {
        "duration": 4,
        "start_time": "2022-04-08T14:12:42.169Z"
      },
      {
        "duration": 8,
        "start_time": "2022-04-08T14:12:42.174Z"
      },
      {
        "duration": 6,
        "start_time": "2022-04-08T14:12:42.183Z"
      },
      {
        "duration": 19,
        "start_time": "2022-04-08T14:12:42.191Z"
      },
      {
        "duration": 47,
        "start_time": "2022-04-08T14:12:42.212Z"
      },
      {
        "duration": 56,
        "start_time": "2022-04-08T14:12:42.261Z"
      },
      {
        "duration": 4,
        "start_time": "2022-04-08T14:12:42.318Z"
      },
      {
        "duration": 9,
        "start_time": "2022-04-08T14:12:42.323Z"
      },
      {
        "duration": 7,
        "start_time": "2022-04-08T14:12:42.333Z"
      },
      {
        "duration": 4,
        "start_time": "2022-04-08T14:12:42.342Z"
      },
      {
        "duration": 4,
        "start_time": "2022-04-08T14:12:42.348Z"
      },
      {
        "duration": 5,
        "start_time": "2022-04-08T14:12:42.353Z"
      },
      {
        "duration": 4,
        "start_time": "2022-04-08T14:12:42.359Z"
      },
      {
        "duration": 7,
        "start_time": "2022-04-08T14:12:42.365Z"
      },
      {
        "duration": 413349,
        "start_time": "2022-04-08T14:12:42.374Z"
      },
      {
        "duration": 4,
        "start_time": "2022-04-08T14:19:35.725Z"
      },
      {
        "duration": 1857,
        "start_time": "2022-04-08T14:19:35.730Z"
      },
      {
        "duration": 1884,
        "start_time": "2022-04-08T14:19:37.589Z"
      },
      {
        "duration": 319,
        "start_time": "2022-04-08T14:19:39.475Z"
      },
      {
        "duration": 2,
        "start_time": "2022-04-08T14:19:39.796Z"
      },
      {
        "duration": 9,
        "start_time": "2022-04-08T14:19:39.800Z"
      },
      {
        "duration": 56439,
        "start_time": "2022-04-08T14:19:39.810Z"
      },
      {
        "duration": 5907,
        "start_time": "2022-04-08T14:20:36.253Z"
      },
      {
        "duration": 5848,
        "start_time": "2022-04-08T14:20:42.162Z"
      },
      {
        "duration": 230,
        "start_time": "2022-04-08T14:20:48.012Z"
      },
      {
        "duration": 4,
        "start_time": "2022-04-08T14:20:48.244Z"
      },
      {
        "duration": 6,
        "start_time": "2022-04-08T14:20:48.250Z"
      },
      {
        "duration": 100352,
        "start_time": "2022-04-08T14:20:48.258Z"
      },
      {
        "duration": 11740,
        "start_time": "2022-04-08T14:22:28.611Z"
      },
      {
        "duration": 11576,
        "start_time": "2022-04-08T14:22:40.353Z"
      },
      {
        "duration": 4,
        "start_time": "2022-04-08T14:22:51.930Z"
      },
      {
        "duration": 29,
        "start_time": "2022-04-08T14:22:51.936Z"
      },
      {
        "duration": 1410,
        "start_time": "2022-04-08T14:31:43.096Z"
      },
      {
        "duration": 769,
        "start_time": "2022-04-08T14:31:44.508Z"
      },
      {
        "duration": 129,
        "start_time": "2022-04-08T14:31:45.279Z"
      },
      {
        "duration": 25,
        "start_time": "2022-04-08T14:31:45.410Z"
      },
      {
        "duration": 106,
        "start_time": "2022-04-08T14:31:45.436Z"
      },
      {
        "duration": 36,
        "start_time": "2022-04-08T14:31:45.544Z"
      },
      {
        "duration": 115,
        "start_time": "2022-04-08T14:31:45.582Z"
      },
      {
        "duration": 199,
        "start_time": "2022-04-08T14:31:45.698Z"
      },
      {
        "duration": 11,
        "start_time": "2022-04-08T14:31:45.898Z"
      },
      {
        "duration": 34,
        "start_time": "2022-04-08T14:31:45.912Z"
      },
      {
        "duration": 33,
        "start_time": "2022-04-08T14:31:45.948Z"
      },
      {
        "duration": 51,
        "start_time": "2022-04-08T14:31:45.983Z"
      },
      {
        "duration": 33,
        "start_time": "2022-04-08T14:31:46.035Z"
      },
      {
        "duration": 51,
        "start_time": "2022-04-08T14:31:46.070Z"
      },
      {
        "duration": 314,
        "start_time": "2022-04-08T14:31:46.122Z"
      },
      {
        "duration": 386,
        "start_time": "2022-04-08T14:31:46.438Z"
      },
      {
        "duration": 624,
        "start_time": "2022-04-08T14:31:46.826Z"
      },
      {
        "duration": 4,
        "start_time": "2022-04-08T14:31:47.451Z"
      },
      {
        "duration": 5,
        "start_time": "2022-04-08T14:31:47.456Z"
      },
      {
        "duration": 8,
        "start_time": "2022-04-08T14:31:47.463Z"
      },
      {
        "duration": 6,
        "start_time": "2022-04-08T14:31:47.473Z"
      },
      {
        "duration": 5,
        "start_time": "2022-04-08T14:31:47.481Z"
      },
      {
        "duration": 62,
        "start_time": "2022-04-08T14:31:47.488Z"
      },
      {
        "duration": 41,
        "start_time": "2022-04-08T14:31:47.552Z"
      },
      {
        "duration": 14,
        "start_time": "2022-04-08T14:31:47.595Z"
      },
      {
        "duration": 4,
        "start_time": "2022-04-08T14:31:47.611Z"
      },
      {
        "duration": 5,
        "start_time": "2022-04-08T14:31:47.617Z"
      },
      {
        "duration": 4,
        "start_time": "2022-04-08T14:31:47.625Z"
      },
      {
        "duration": 6,
        "start_time": "2022-04-08T14:31:47.630Z"
      },
      {
        "duration": 6,
        "start_time": "2022-04-08T14:31:47.637Z"
      },
      {
        "duration": 4,
        "start_time": "2022-04-08T14:31:47.644Z"
      },
      {
        "duration": 5,
        "start_time": "2022-04-08T14:31:47.649Z"
      },
      {
        "duration": 408838,
        "start_time": "2022-04-08T14:31:47.655Z"
      },
      {
        "duration": 3,
        "start_time": "2022-04-08T14:38:36.495Z"
      },
      {
        "duration": 1887,
        "start_time": "2022-04-08T14:38:36.500Z"
      },
      {
        "duration": 2009,
        "start_time": "2022-04-08T14:38:38.389Z"
      },
      {
        "duration": 327,
        "start_time": "2022-04-08T14:38:40.400Z"
      },
      {
        "duration": 3,
        "start_time": "2022-04-08T14:38:40.728Z"
      },
      {
        "duration": 8,
        "start_time": "2022-04-08T14:38:40.733Z"
      },
      {
        "duration": 558292,
        "start_time": "2022-04-08T14:38:40.742Z"
      },
      {
        "duration": 5185,
        "start_time": "2022-04-08T14:47:59.035Z"
      },
      {
        "duration": 5220,
        "start_time": "2022-04-08T14:48:04.221Z"
      },
      {
        "duration": 259,
        "start_time": "2022-04-08T14:48:09.442Z"
      },
      {
        "duration": 6,
        "start_time": "2022-04-08T14:48:09.702Z"
      },
      {
        "duration": 3,
        "start_time": "2022-04-08T14:48:09.710Z"
      },
      {
        "duration": 82433,
        "start_time": "2022-04-08T14:48:09.714Z"
      },
      {
        "duration": 10785,
        "start_time": "2022-04-08T14:49:32.149Z"
      },
      {
        "duration": 10895,
        "start_time": "2022-04-08T14:49:42.936Z"
      },
      {
        "duration": 3,
        "start_time": "2022-04-08T14:49:53.833Z"
      },
      {
        "duration": 10,
        "start_time": "2022-04-08T14:49:53.838Z"
      },
      {
        "duration": 187,
        "start_time": "2022-04-08T15:20:26.220Z"
      },
      {
        "duration": 3,
        "start_time": "2022-04-08T15:33:52.704Z"
      },
      {
        "duration": 3,
        "start_time": "2022-04-08T15:33:53.894Z"
      },
      {
        "duration": 56591,
        "start_time": "2022-04-08T15:33:55.862Z"
      },
      {
        "duration": 5745,
        "start_time": "2022-04-08T15:35:12.488Z"
      },
      {
        "duration": 3,
        "start_time": "2022-04-08T15:35:48.672Z"
      },
      {
        "duration": 2,
        "start_time": "2022-04-08T15:35:49.783Z"
      },
      {
        "duration": 53387,
        "start_time": "2022-04-08T15:35:50.461Z"
      },
      {
        "duration": 5853,
        "start_time": "2022-04-08T15:36:54.858Z"
      },
      {
        "duration": 2,
        "start_time": "2022-04-08T15:42:23.390Z"
      },
      {
        "duration": 98,
        "start_time": "2022-04-09T08:52:54.088Z"
      },
      {
        "duration": 45,
        "start_time": "2022-04-09T08:57:45.654Z"
      },
      {
        "duration": 1347,
        "start_time": "2022-04-09T08:57:54.157Z"
      },
      {
        "duration": 764,
        "start_time": "2022-04-09T08:57:57.206Z"
      },
      {
        "duration": 132,
        "start_time": "2022-04-09T08:57:58.006Z"
      },
      {
        "duration": 26,
        "start_time": "2022-04-09T08:58:01.846Z"
      },
      {
        "duration": 92,
        "start_time": "2022-04-09T08:58:12.487Z"
      },
      {
        "duration": 75,
        "start_time": "2022-04-09T08:58:17.397Z"
      },
      {
        "duration": 1469,
        "start_time": "2022-04-09T08:58:25.549Z"
      },
      {
        "duration": 38,
        "start_time": "2022-04-09T08:58:41.563Z"
      },
      {
        "duration": 25,
        "start_time": "2022-04-09T09:00:49.191Z"
      },
      {
        "duration": 15,
        "start_time": "2022-04-09T09:01:06.688Z"
      },
      {
        "duration": 15,
        "start_time": "2022-04-09T09:01:26.907Z"
      },
      {
        "duration": 32,
        "start_time": "2022-04-09T09:01:33.184Z"
      },
      {
        "duration": 13,
        "start_time": "2022-04-09T09:08:17.832Z"
      },
      {
        "duration": 60,
        "start_time": "2022-04-09T09:08:37.646Z"
      },
      {
        "duration": 60,
        "start_time": "2022-04-09T09:16:10.393Z"
      },
      {
        "duration": 22,
        "start_time": "2022-04-09T09:16:15.399Z"
      },
      {
        "duration": 17,
        "start_time": "2022-04-09T09:16:41.020Z"
      },
      {
        "duration": 47,
        "start_time": "2022-04-09T09:16:57.610Z"
      },
      {
        "duration": 75,
        "start_time": "2022-04-09T09:17:28.443Z"
      },
      {
        "duration": 21,
        "start_time": "2022-04-09T09:18:08.833Z"
      },
      {
        "duration": 3,
        "start_time": "2022-04-09T09:20:17.662Z"
      },
      {
        "duration": 5,
        "start_time": "2022-04-09T09:21:46.062Z"
      },
      {
        "duration": 89,
        "start_time": "2022-04-09T09:21:53.831Z"
      },
      {
        "duration": 8,
        "start_time": "2022-04-09T09:23:54.059Z"
      },
      {
        "duration": 10,
        "start_time": "2022-04-09T09:24:05.095Z"
      },
      {
        "duration": 8,
        "start_time": "2022-04-09T09:24:18.444Z"
      },
      {
        "duration": 7,
        "start_time": "2022-04-09T09:24:26.518Z"
      },
      {
        "duration": 8,
        "start_time": "2022-04-09T09:24:34.378Z"
      },
      {
        "duration": 6,
        "start_time": "2022-04-09T09:30:11.817Z"
      },
      {
        "duration": 9,
        "start_time": "2022-04-09T09:33:30.785Z"
      },
      {
        "duration": 218,
        "start_time": "2022-04-09T09:33:38.488Z"
      },
      {
        "duration": 9,
        "start_time": "2022-04-09T09:33:40.716Z"
      },
      {
        "duration": 20,
        "start_time": "2022-04-09T09:35:09.647Z"
      },
      {
        "duration": 139,
        "start_time": "2022-04-09T09:38:45.365Z"
      },
      {
        "duration": 24,
        "start_time": "2022-04-09T09:38:48.422Z"
      },
      {
        "duration": 124,
        "start_time": "2022-04-09T09:39:54.849Z"
      },
      {
        "duration": 22,
        "start_time": "2022-04-09T09:39:55.977Z"
      },
      {
        "duration": 38,
        "start_time": "2022-04-09T09:40:09.364Z"
      },
      {
        "duration": 49,
        "start_time": "2022-04-09T09:40:21.553Z"
      },
      {
        "duration": 21,
        "start_time": "2022-04-09T09:40:23.343Z"
      },
      {
        "duration": 794,
        "start_time": "2022-04-09T09:40:37.655Z"
      },
      {
        "duration": 21,
        "start_time": "2022-04-09T09:40:44.837Z"
      },
      {
        "duration": 86,
        "start_time": "2022-04-09T09:40:49.095Z"
      },
      {
        "duration": 12,
        "start_time": "2022-04-09T09:40:54.657Z"
      },
      {
        "duration": 46,
        "start_time": "2022-04-09T09:40:56.591Z"
      },
      {
        "duration": 22,
        "start_time": "2022-04-09T09:40:59.352Z"
      },
      {
        "duration": 18,
        "start_time": "2022-04-09T09:42:15.512Z"
      },
      {
        "duration": 16,
        "start_time": "2022-04-09T09:42:58.276Z"
      },
      {
        "duration": 16,
        "start_time": "2022-04-09T09:46:16.633Z"
      },
      {
        "duration": 16,
        "start_time": "2022-04-09T09:46:26.621Z"
      },
      {
        "duration": 5,
        "start_time": "2022-04-09T09:46:37.692Z"
      },
      {
        "duration": 15,
        "start_time": "2022-04-09T09:46:41.391Z"
      },
      {
        "duration": 15,
        "start_time": "2022-04-09T09:46:44.448Z"
      },
      {
        "duration": 1431,
        "start_time": "2022-04-09T09:47:54.182Z"
      },
      {
        "duration": 754,
        "start_time": "2022-04-09T09:47:55.615Z"
      },
      {
        "duration": 138,
        "start_time": "2022-04-09T09:47:56.371Z"
      },
      {
        "duration": 29,
        "start_time": "2022-04-09T09:47:56.511Z"
      },
      {
        "duration": 107,
        "start_time": "2022-04-09T09:47:56.542Z"
      },
      {
        "duration": 14,
        "start_time": "2022-04-09T09:47:56.651Z"
      },
      {
        "duration": 74,
        "start_time": "2022-04-09T09:47:56.667Z"
      },
      {
        "duration": 15,
        "start_time": "2022-04-09T09:47:56.743Z"
      },
      {
        "duration": 14,
        "start_time": "2022-04-09T09:47:56.760Z"
      },
      {
        "duration": 53,
        "start_time": "2022-04-09T09:47:56.777Z"
      },
      {
        "duration": 116,
        "start_time": "2022-04-09T09:47:56.832Z"
      },
      {
        "duration": 190,
        "start_time": "2022-04-09T09:47:56.950Z"
      },
      {
        "duration": 14,
        "start_time": "2022-04-09T09:47:57.142Z"
      },
      {
        "duration": 30,
        "start_time": "2022-04-09T09:47:57.158Z"
      },
      {
        "duration": 45,
        "start_time": "2022-04-09T09:47:57.190Z"
      },
      {
        "duration": 36,
        "start_time": "2022-04-09T09:47:57.236Z"
      },
      {
        "duration": 46,
        "start_time": "2022-04-09T09:47:57.274Z"
      },
      {
        "duration": 33,
        "start_time": "2022-04-09T09:47:57.321Z"
      },
      {
        "duration": 288,
        "start_time": "2022-04-09T09:47:57.355Z"
      },
      {
        "duration": 326,
        "start_time": "2022-04-09T09:47:57.644Z"
      },
      {
        "duration": 578,
        "start_time": "2022-04-09T09:47:57.972Z"
      },
      {
        "duration": 4,
        "start_time": "2022-04-09T09:47:58.551Z"
      },
      {
        "duration": 4,
        "start_time": "2022-04-09T09:47:58.556Z"
      },
      {
        "duration": 7,
        "start_time": "2022-04-09T09:47:58.562Z"
      },
      {
        "duration": 5,
        "start_time": "2022-04-09T09:47:58.571Z"
      },
      {
        "duration": 4,
        "start_time": "2022-04-09T09:47:58.578Z"
      },
      {
        "duration": 67,
        "start_time": "2022-04-09T09:47:58.584Z"
      },
      {
        "duration": 35,
        "start_time": "2022-04-09T09:47:58.655Z"
      },
      {
        "duration": 17,
        "start_time": "2022-04-09T09:47:58.691Z"
      },
      {
        "duration": 3,
        "start_time": "2022-04-09T09:47:58.710Z"
      },
      {
        "duration": 4,
        "start_time": "2022-04-09T09:47:58.715Z"
      },
      {
        "duration": 5,
        "start_time": "2022-04-09T09:47:58.721Z"
      },
      {
        "duration": 5,
        "start_time": "2022-04-09T09:47:58.727Z"
      },
      {
        "duration": 4,
        "start_time": "2022-04-09T09:47:58.734Z"
      },
      {
        "duration": 3,
        "start_time": "2022-04-09T09:47:58.740Z"
      },
      {
        "duration": 5,
        "start_time": "2022-04-09T09:47:58.744Z"
      },
      {
        "duration": 380908,
        "start_time": "2022-04-09T09:47:58.751Z"
      },
      {
        "duration": 4,
        "start_time": "2022-04-09T09:54:19.660Z"
      },
      {
        "duration": 1603,
        "start_time": "2022-04-09T09:54:19.666Z"
      },
      {
        "duration": 5,
        "start_time": "2022-04-09T09:54:21.271Z"
      },
      {
        "duration": 1852,
        "start_time": "2022-04-09T09:54:21.278Z"
      },
      {
        "duration": 5,
        "start_time": "2022-04-09T09:54:23.132Z"
      },
      {
        "duration": 4,
        "start_time": "2022-04-09T09:54:23.139Z"
      },
      {
        "duration": 5,
        "start_time": "2022-04-09T09:54:23.144Z"
      },
      {
        "duration": 55495,
        "start_time": "2022-04-09T09:54:23.150Z"
      },
      {
        "duration": 2,
        "start_time": "2022-04-09T09:55:18.647Z"
      },
      {
        "duration": 4674,
        "start_time": "2022-04-09T09:55:18.651Z"
      },
      {
        "duration": 4619,
        "start_time": "2022-04-09T09:55:23.327Z"
      },
      {
        "duration": 3,
        "start_time": "2022-04-09T09:55:28.008Z"
      },
      {
        "duration": 5,
        "start_time": "2022-04-09T09:55:28.013Z"
      },
      {
        "duration": 74991,
        "start_time": "2022-04-09T09:55:28.019Z"
      },
      {
        "duration": 10518,
        "start_time": "2022-04-09T09:56:43.011Z"
      },
      {
        "duration": 10679,
        "start_time": "2022-04-09T09:56:53.530Z"
      },
      {
        "duration": 4,
        "start_time": "2022-04-09T09:57:04.211Z"
      },
      {
        "duration": 9,
        "start_time": "2022-04-09T09:57:04.217Z"
      },
      {
        "duration": 86,
        "start_time": "2022-04-09T09:57:04.228Z"
      },
      {
        "duration": 0,
        "start_time": "2022-04-09T09:57:04.316Z"
      },
      {
        "duration": 0,
        "start_time": "2022-04-09T09:57:04.317Z"
      },
      {
        "duration": 0,
        "start_time": "2022-04-09T09:57:04.318Z"
      },
      {
        "duration": 534,
        "start_time": "2022-04-09T10:01:35.211Z"
      },
      {
        "duration": 178,
        "start_time": "2022-04-09T10:01:44.212Z"
      },
      {
        "duration": 556,
        "start_time": "2022-04-09T10:03:14.708Z"
      },
      {
        "duration": 98,
        "start_time": "2022-04-09T10:04:03.369Z"
      },
      {
        "duration": 190,
        "start_time": "2022-04-09T10:04:10.784Z"
      },
      {
        "duration": 180,
        "start_time": "2022-04-09T10:05:44.389Z"
      },
      {
        "duration": 1396,
        "start_time": "2022-04-09T10:06:40.859Z"
      },
      {
        "duration": 823,
        "start_time": "2022-04-09T10:06:42.257Z"
      },
      {
        "duration": 140,
        "start_time": "2022-04-09T10:06:43.082Z"
      },
      {
        "duration": 29,
        "start_time": "2022-04-09T10:06:43.225Z"
      },
      {
        "duration": 111,
        "start_time": "2022-04-09T10:06:43.256Z"
      },
      {
        "duration": 14,
        "start_time": "2022-04-09T10:06:43.369Z"
      },
      {
        "duration": 76,
        "start_time": "2022-04-09T10:06:43.385Z"
      },
      {
        "duration": 18,
        "start_time": "2022-04-09T10:06:43.462Z"
      },
      {
        "duration": 29,
        "start_time": "2022-04-09T10:06:43.481Z"
      },
      {
        "duration": 42,
        "start_time": "2022-04-09T10:06:43.513Z"
      },
      {
        "duration": 113,
        "start_time": "2022-04-09T10:06:43.557Z"
      },
      {
        "duration": 209,
        "start_time": "2022-04-09T10:06:43.672Z"
      },
      {
        "duration": 16,
        "start_time": "2022-04-09T10:06:43.882Z"
      },
      {
        "duration": 52,
        "start_time": "2022-04-09T10:06:43.900Z"
      },
      {
        "duration": 73,
        "start_time": "2022-04-09T10:06:43.954Z"
      },
      {
        "duration": 76,
        "start_time": "2022-04-09T10:06:44.028Z"
      },
      {
        "duration": 82,
        "start_time": "2022-04-09T10:06:44.106Z"
      },
      {
        "duration": 74,
        "start_time": "2022-04-09T10:06:44.189Z"
      },
      {
        "duration": 338,
        "start_time": "2022-04-09T10:06:44.265Z"
      },
      {
        "duration": 347,
        "start_time": "2022-04-09T10:06:44.605Z"
      },
      {
        "duration": 602,
        "start_time": "2022-04-09T10:06:44.953Z"
      },
      {
        "duration": 4,
        "start_time": "2022-04-09T10:06:45.557Z"
      },
      {
        "duration": 11,
        "start_time": "2022-04-09T10:06:45.563Z"
      },
      {
        "duration": 12,
        "start_time": "2022-04-09T10:06:45.576Z"
      },
      {
        "duration": 16,
        "start_time": "2022-04-09T10:06:45.590Z"
      },
      {
        "duration": 6,
        "start_time": "2022-04-09T10:06:45.608Z"
      },
      {
        "duration": 49,
        "start_time": "2022-04-09T10:06:45.617Z"
      },
      {
        "duration": 49,
        "start_time": "2022-04-09T10:06:45.671Z"
      },
      {
        "duration": 4,
        "start_time": "2022-04-09T10:06:45.722Z"
      },
      {
        "duration": 10,
        "start_time": "2022-04-09T10:06:45.727Z"
      },
      {
        "duration": 6,
        "start_time": "2022-04-09T10:06:45.738Z"
      },
      {
        "duration": 17,
        "start_time": "2022-04-09T10:06:45.746Z"
      },
      {
        "duration": 5,
        "start_time": "2022-04-09T10:06:45.766Z"
      },
      {
        "duration": 6,
        "start_time": "2022-04-09T10:06:45.773Z"
      },
      {
        "duration": 10,
        "start_time": "2022-04-09T10:06:45.781Z"
      },
      {
        "duration": 17,
        "start_time": "2022-04-09T10:06:45.792Z"
      },
      {
        "duration": 383733,
        "start_time": "2022-04-09T10:06:45.811Z"
      },
      {
        "duration": 4,
        "start_time": "2022-04-09T10:13:09.546Z"
      },
      {
        "duration": 1815,
        "start_time": "2022-04-09T10:13:09.552Z"
      },
      {
        "duration": 5,
        "start_time": "2022-04-09T10:13:11.369Z"
      },
      {
        "duration": 1715,
        "start_time": "2022-04-09T10:13:11.375Z"
      },
      {
        "duration": 5,
        "start_time": "2022-04-09T10:13:13.092Z"
      },
      {
        "duration": 12,
        "start_time": "2022-04-09T10:13:13.098Z"
      },
      {
        "duration": 8,
        "start_time": "2022-04-09T10:13:13.112Z"
      },
      {
        "duration": 46511,
        "start_time": "2022-04-09T10:13:13.122Z"
      },
      {
        "duration": 2,
        "start_time": "2022-04-09T10:13:59.634Z"
      },
      {
        "duration": 4588,
        "start_time": "2022-04-09T10:13:59.638Z"
      },
      {
        "duration": 4623,
        "start_time": "2022-04-09T10:14:04.227Z"
      },
      {
        "duration": 2,
        "start_time": "2022-04-09T10:14:08.852Z"
      },
      {
        "duration": 9,
        "start_time": "2022-04-09T10:14:08.909Z"
      },
      {
        "duration": 84804,
        "start_time": "2022-04-09T10:14:08.920Z"
      },
      {
        "duration": 10224,
        "start_time": "2022-04-09T10:15:33.726Z"
      },
      {
        "duration": 10260,
        "start_time": "2022-04-09T10:15:43.952Z"
      },
      {
        "duration": 3,
        "start_time": "2022-04-09T10:15:54.214Z"
      },
      {
        "duration": 12,
        "start_time": "2022-04-09T10:15:54.219Z"
      },
      {
        "duration": 348,
        "start_time": "2022-04-09T10:15:54.233Z"
      },
      {
        "duration": 195,
        "start_time": "2022-04-09T10:15:54.583Z"
      },
      {
        "duration": 266,
        "start_time": "2022-04-09T10:15:54.779Z"
      },
      {
        "duration": 343,
        "start_time": "2022-04-09T10:15:55.046Z"
      },
      {
        "duration": 111,
        "start_time": "2022-04-09T10:28:48.738Z"
      },
      {
        "duration": 15,
        "start_time": "2022-04-09T10:29:29.759Z"
      },
      {
        "duration": 155,
        "start_time": "2022-04-09T10:29:51.905Z"
      },
      {
        "duration": 196,
        "start_time": "2022-04-09T10:30:02.944Z"
      },
      {
        "duration": 332,
        "start_time": "2022-04-09T10:33:55.780Z"
      },
      {
        "duration": 4,
        "start_time": "2022-04-09T10:33:58.484Z"
      },
      {
        "duration": 11,
        "start_time": "2022-04-09T10:46:02.736Z"
      },
      {
        "duration": 8,
        "start_time": "2022-04-09T10:46:08.935Z"
      },
      {
        "duration": 6,
        "start_time": "2022-04-09T10:47:36.838Z"
      },
      {
        "duration": 7,
        "start_time": "2022-04-09T10:48:07.634Z"
      },
      {
        "duration": 7,
        "start_time": "2022-04-09T10:48:19.488Z"
      },
      {
        "duration": 8,
        "start_time": "2022-04-09T10:48:46.293Z"
      },
      {
        "duration": 8,
        "start_time": "2022-04-09T10:49:07.559Z"
      },
      {
        "duration": 11,
        "start_time": "2022-04-09T10:49:18.318Z"
      },
      {
        "duration": 8,
        "start_time": "2022-04-09T10:49:44.285Z"
      },
      {
        "duration": 5,
        "start_time": "2022-04-09T10:51:42.261Z"
      },
      {
        "duration": 9,
        "start_time": "2022-04-09T10:52:33.525Z"
      },
      {
        "duration": 6,
        "start_time": "2022-04-09T10:53:30.814Z"
      },
      {
        "duration": 13,
        "start_time": "2022-04-09T10:53:42.378Z"
      },
      {
        "duration": 13,
        "start_time": "2022-04-09T10:53:59.489Z"
      },
      {
        "duration": 105,
        "start_time": "2022-04-09T10:54:20.445Z"
      },
      {
        "duration": 9,
        "start_time": "2022-04-09T10:56:03.081Z"
      },
      {
        "duration": 7,
        "start_time": "2022-04-09T10:56:16.750Z"
      },
      {
        "duration": 7,
        "start_time": "2022-04-09T10:56:41.447Z"
      },
      {
        "duration": 32,
        "start_time": "2022-04-09T10:58:37.334Z"
      },
      {
        "duration": 6,
        "start_time": "2022-04-09T10:58:38.838Z"
      },
      {
        "duration": 35,
        "start_time": "2022-04-09T10:59:05.415Z"
      },
      {
        "duration": 9,
        "start_time": "2022-04-09T10:59:08.045Z"
      },
      {
        "duration": 7,
        "start_time": "2022-04-09T11:01:52.503Z"
      },
      {
        "duration": 6,
        "start_time": "2022-04-09T11:02:07.593Z"
      },
      {
        "duration": 7,
        "start_time": "2022-04-09T11:02:10.846Z"
      },
      {
        "duration": 30,
        "start_time": "2022-04-09T11:03:11.774Z"
      },
      {
        "duration": 8,
        "start_time": "2022-04-09T11:03:13.900Z"
      },
      {
        "duration": 337,
        "start_time": "2022-04-09T11:04:50.006Z"
      },
      {
        "duration": 383,
        "start_time": "2022-04-09T11:04:56.163Z"
      },
      {
        "duration": 737,
        "start_time": "2022-04-09T11:05:53.077Z"
      },
      {
        "duration": 31,
        "start_time": "2022-04-09T11:05:59.652Z"
      },
      {
        "duration": 121,
        "start_time": "2022-04-09T11:07:32.707Z"
      },
      {
        "duration": 200,
        "start_time": "2022-04-09T11:07:59.194Z"
      },
      {
        "duration": 16,
        "start_time": "2022-04-09T11:08:17.055Z"
      },
      {
        "duration": 3,
        "start_time": "2022-04-09T11:39:00.528Z"
      },
      {
        "duration": 3,
        "start_time": "2022-04-09T11:39:03.878Z"
      },
      {
        "duration": 3,
        "start_time": "2022-04-09T11:39:04.669Z"
      },
      {
        "duration": 4,
        "start_time": "2022-04-09T11:39:59.723Z"
      },
      {
        "duration": 5,
        "start_time": "2022-04-09T11:39:59.728Z"
      },
      {
        "duration": 3,
        "start_time": "2022-04-09T11:45:20.829Z"
      },
      {
        "duration": 10,
        "start_time": "2022-04-09T11:45:20.834Z"
      },
      {
        "duration": 75893,
        "start_time": "2022-04-09T11:45:20.846Z"
      },
      {
        "duration": 3,
        "start_time": "2022-04-09T11:52:35.175Z"
      },
      {
        "duration": 3,
        "start_time": "2022-04-09T11:52:36.151Z"
      },
      {
        "duration": 85632,
        "start_time": "2022-04-09T11:52:37.079Z"
      },
      {
        "duration": 3,
        "start_time": "2022-04-09T11:54:02.713Z"
      },
      {
        "duration": 5,
        "start_time": "2022-04-09T11:54:02.717Z"
      },
      {
        "duration": 603,
        "start_time": "2022-04-09T11:54:05.698Z"
      },
      {
        "duration": 3,
        "start_time": "2022-04-09T11:54:18.045Z"
      },
      {
        "duration": 2,
        "start_time": "2022-04-09T11:54:19.982Z"
      },
      {
        "duration": 3,
        "start_time": "2022-04-09T11:54:30.808Z"
      },
      {
        "duration": 2,
        "start_time": "2022-04-09T11:54:31.607Z"
      },
      {
        "duration": 94847,
        "start_time": "2022-04-09T11:54:32.380Z"
      },
      {
        "duration": 3,
        "start_time": "2022-04-09T11:57:15.112Z"
      },
      {
        "duration": 3,
        "start_time": "2022-04-09T11:57:15.896Z"
      },
      {
        "duration": 80926,
        "start_time": "2022-04-09T11:57:16.598Z"
      },
      {
        "duration": 11249,
        "start_time": "2022-04-09T11:59:00.184Z"
      },
      {
        "duration": 5,
        "start_time": "2022-04-09T11:59:15.029Z"
      },
      {
        "duration": 11089,
        "start_time": "2022-04-09T11:59:17.974Z"
      },
      {
        "duration": 5,
        "start_time": "2022-04-09T11:59:31.616Z"
      },
      {
        "duration": 10999,
        "start_time": "2022-04-09T11:59:42.910Z"
      },
      {
        "duration": 4,
        "start_time": "2022-04-09T12:00:00.575Z"
      },
      {
        "duration": 11313,
        "start_time": "2022-04-09T12:00:07.529Z"
      },
      {
        "duration": 5,
        "start_time": "2022-04-09T12:00:20.100Z"
      },
      {
        "duration": 3,
        "start_time": "2022-04-09T12:04:22.114Z"
      },
      {
        "duration": 3,
        "start_time": "2022-04-09T12:04:23.559Z"
      },
      {
        "duration": 11902,
        "start_time": "2022-04-09T12:04:24.225Z"
      },
      {
        "duration": 3,
        "start_time": "2022-04-09T12:05:50.834Z"
      },
      {
        "duration": 2,
        "start_time": "2022-04-09T12:05:51.487Z"
      },
      {
        "duration": 11621,
        "start_time": "2022-04-09T12:05:52.031Z"
      },
      {
        "duration": 3,
        "start_time": "2022-04-09T12:08:28.466Z"
      },
      {
        "duration": 3,
        "start_time": "2022-04-09T12:08:29.128Z"
      },
      {
        "duration": 7220,
        "start_time": "2022-04-09T12:08:29.701Z"
      },
      {
        "duration": 896,
        "start_time": "2022-04-09T12:09:01.226Z"
      },
      {
        "duration": 5,
        "start_time": "2022-04-09T12:09:06.186Z"
      },
      {
        "duration": 858,
        "start_time": "2022-04-09T12:09:08.663Z"
      },
      {
        "duration": 4,
        "start_time": "2022-04-09T12:09:11.155Z"
      },
      {
        "duration": 3,
        "start_time": "2022-04-09T12:10:24.369Z"
      },
      {
        "duration": 2,
        "start_time": "2022-04-09T12:10:25.199Z"
      },
      {
        "duration": 59994,
        "start_time": "2022-04-09T12:10:25.855Z"
      },
      {
        "duration": 2,
        "start_time": "2022-04-09T12:11:55.915Z"
      },
      {
        "duration": 2,
        "start_time": "2022-04-09T12:11:56.707Z"
      },
      {
        "duration": 46110,
        "start_time": "2022-04-09T12:11:57.335Z"
      },
      {
        "duration": 15662,
        "start_time": "2022-04-09T12:13:37.266Z"
      },
      {
        "duration": 5,
        "start_time": "2022-04-09T12:13:54.097Z"
      },
      {
        "duration": 15827,
        "start_time": "2022-04-09T12:13:56.913Z"
      },
      {
        "duration": 4,
        "start_time": "2022-04-09T12:14:19.968Z"
      },
      {
        "duration": 8427,
        "start_time": "2022-04-09T12:14:28.048Z"
      },
      {
        "duration": 5,
        "start_time": "2022-04-09T12:14:37.440Z"
      },
      {
        "duration": 8439,
        "start_time": "2022-04-09T12:14:38.474Z"
      },
      {
        "duration": 5,
        "start_time": "2022-04-09T12:14:48.642Z"
      },
      {
        "duration": 2373,
        "start_time": "2022-04-09T12:18:06.678Z"
      },
      {
        "duration": 833,
        "start_time": "2022-04-09T12:18:09.053Z"
      },
      {
        "duration": 168,
        "start_time": "2022-04-09T12:18:09.888Z"
      },
      {
        "duration": 31,
        "start_time": "2022-04-09T12:18:10.058Z"
      },
      {
        "duration": 122,
        "start_time": "2022-04-09T12:18:10.091Z"
      },
      {
        "duration": 16,
        "start_time": "2022-04-09T12:18:10.214Z"
      },
      {
        "duration": 93,
        "start_time": "2022-04-09T12:18:10.232Z"
      },
      {
        "duration": 18,
        "start_time": "2022-04-09T12:18:10.327Z"
      },
      {
        "duration": 104,
        "start_time": "2022-04-09T12:18:10.346Z"
      },
      {
        "duration": 15,
        "start_time": "2022-04-09T12:18:10.453Z"
      },
      {
        "duration": 88,
        "start_time": "2022-04-09T12:18:10.470Z"
      },
      {
        "duration": 6,
        "start_time": "2022-04-09T12:18:10.560Z"
      },
      {
        "duration": 68,
        "start_time": "2022-04-09T12:18:10.568Z"
      },
      {
        "duration": 26,
        "start_time": "2022-04-09T12:18:10.638Z"
      },
      {
        "duration": 103,
        "start_time": "2022-04-09T12:18:10.666Z"
      },
      {
        "duration": 24,
        "start_time": "2022-04-09T12:18:10.770Z"
      },
      {
        "duration": 166,
        "start_time": "2022-04-09T12:18:10.809Z"
      },
      {
        "duration": 15,
        "start_time": "2022-04-09T12:18:10.976Z"
      },
      {
        "duration": 24,
        "start_time": "2022-04-09T12:18:10.992Z"
      },
      {
        "duration": 30,
        "start_time": "2022-04-09T12:18:11.017Z"
      },
      {
        "duration": 31,
        "start_time": "2022-04-09T12:18:11.048Z"
      },
      {
        "duration": 56,
        "start_time": "2022-04-09T12:18:11.081Z"
      },
      {
        "duration": 40,
        "start_time": "2022-04-09T12:18:11.138Z"
      },
      {
        "duration": 52,
        "start_time": "2022-04-09T12:18:11.180Z"
      },
      {
        "duration": 239,
        "start_time": "2022-04-09T12:18:11.234Z"
      },
      {
        "duration": 293,
        "start_time": "2022-04-09T12:18:11.475Z"
      },
      {
        "duration": 562,
        "start_time": "2022-04-09T12:18:11.769Z"
      },
      {
        "duration": 4,
        "start_time": "2022-04-09T12:18:12.336Z"
      },
      {
        "duration": 5,
        "start_time": "2022-04-09T12:18:12.341Z"
      },
      {
        "duration": 9,
        "start_time": "2022-04-09T12:18:12.347Z"
      },
      {
        "duration": 5,
        "start_time": "2022-04-09T12:18:12.357Z"
      },
      {
        "duration": 5,
        "start_time": "2022-04-09T12:18:12.363Z"
      },
      {
        "duration": 65,
        "start_time": "2022-04-09T12:18:12.370Z"
      },
      {
        "duration": 33,
        "start_time": "2022-04-09T12:18:12.437Z"
      },
      {
        "duration": 5,
        "start_time": "2022-04-09T12:18:12.471Z"
      },
      {
        "duration": 5,
        "start_time": "2022-04-09T12:18:12.477Z"
      },
      {
        "duration": 26,
        "start_time": "2022-04-09T12:18:12.484Z"
      },
      {
        "duration": 4,
        "start_time": "2022-04-09T12:18:12.511Z"
      },
      {
        "duration": 20,
        "start_time": "2022-04-09T12:18:12.517Z"
      },
      {
        "duration": 6,
        "start_time": "2022-04-09T12:18:12.539Z"
      },
      {
        "duration": 4,
        "start_time": "2022-04-09T12:18:12.546Z"
      },
      {
        "duration": 5,
        "start_time": "2022-04-09T12:18:12.551Z"
      },
      {
        "duration": 326792,
        "start_time": "2022-04-09T12:18:12.558Z"
      },
      {
        "duration": 3,
        "start_time": "2022-04-09T12:23:39.352Z"
      },
      {
        "duration": 1308,
        "start_time": "2022-04-09T12:23:39.356Z"
      },
      {
        "duration": 4,
        "start_time": "2022-04-09T12:23:40.666Z"
      },
      {
        "duration": 1376,
        "start_time": "2022-04-09T12:23:40.671Z"
      },
      {
        "duration": 5,
        "start_time": "2022-04-09T12:23:42.048Z"
      },
      {
        "duration": 4,
        "start_time": "2022-04-09T12:23:42.054Z"
      },
      {
        "duration": 4,
        "start_time": "2022-04-09T12:23:42.060Z"
      },
      {
        "duration": 50265,
        "start_time": "2022-04-09T12:23:42.065Z"
      },
      {
        "duration": 3515,
        "start_time": "2022-04-09T12:24:32.331Z"
      },
      {
        "duration": 4,
        "start_time": "2022-04-09T12:24:35.848Z"
      },
      {
        "duration": 3526,
        "start_time": "2022-04-09T12:24:35.910Z"
      },
      {
        "duration": 72,
        "start_time": "2022-04-09T12:24:39.437Z"
      },
      {
        "duration": 5,
        "start_time": "2022-04-09T12:24:39.511Z"
      },
      {
        "duration": 4,
        "start_time": "2022-04-09T12:24:39.518Z"
      },
      {
        "duration": 57819,
        "start_time": "2022-04-09T12:24:39.524Z"
      },
      {
        "duration": 5110,
        "start_time": "2022-04-09T12:25:37.345Z"
      },
      {
        "duration": 6,
        "start_time": "2022-04-09T12:25:42.456Z"
      },
      {
        "duration": 5063,
        "start_time": "2022-04-09T12:25:42.463Z"
      },
      {
        "duration": 5,
        "start_time": "2022-04-09T12:25:47.528Z"
      },
      {
        "duration": 7,
        "start_time": "2022-04-09T12:25:47.534Z"
      },
      {
        "duration": 4,
        "start_time": "2022-04-09T12:25:47.543Z"
      },
      {
        "duration": 45293,
        "start_time": "2022-04-09T12:25:47.549Z"
      },
      {
        "duration": 6303,
        "start_time": "2022-04-09T12:26:32.844Z"
      },
      {
        "duration": 5,
        "start_time": "2022-04-09T12:26:39.149Z"
      },
      {
        "duration": 6353,
        "start_time": "2022-04-09T12:26:39.155Z"
      },
      {
        "duration": 4,
        "start_time": "2022-04-09T12:26:45.510Z"
      },
      {
        "duration": 4,
        "start_time": "2022-04-09T12:26:45.516Z"
      },
      {
        "duration": 6,
        "start_time": "2022-04-09T12:26:45.521Z"
      },
      {
        "duration": 52213,
        "start_time": "2022-04-09T12:26:45.529Z"
      },
      {
        "duration": 11400,
        "start_time": "2022-04-09T12:27:37.743Z"
      },
      {
        "duration": 5,
        "start_time": "2022-04-09T12:27:49.144Z"
      },
      {
        "duration": 11499,
        "start_time": "2022-04-09T12:27:49.151Z"
      },
      {
        "duration": 6,
        "start_time": "2022-04-09T12:28:00.652Z"
      },
      {
        "duration": 6,
        "start_time": "2022-04-09T12:28:00.660Z"
      },
      {
        "duration": 48,
        "start_time": "2022-04-09T12:28:00.668Z"
      },
      {
        "duration": 364,
        "start_time": "2022-04-09T12:28:00.717Z"
      },
      {
        "duration": 184,
        "start_time": "2022-04-09T12:28:01.083Z"
      },
      {
        "duration": 204,
        "start_time": "2022-04-09T12:28:01.269Z"
      },
      {
        "duration": 1334,
        "start_time": "2022-04-09T14:46:02.809Z"
      },
      {
        "duration": 748,
        "start_time": "2022-04-09T14:46:04.144Z"
      },
      {
        "duration": 128,
        "start_time": "2022-04-09T14:46:04.893Z"
      },
      {
        "duration": 26,
        "start_time": "2022-04-09T14:46:05.024Z"
      },
      {
        "duration": 112,
        "start_time": "2022-04-09T14:46:05.052Z"
      },
      {
        "duration": 15,
        "start_time": "2022-04-09T14:46:05.166Z"
      },
      {
        "duration": 76,
        "start_time": "2022-04-09T14:46:05.183Z"
      },
      {
        "duration": 16,
        "start_time": "2022-04-09T14:46:05.261Z"
      },
      {
        "duration": 96,
        "start_time": "2022-04-09T14:46:05.279Z"
      },
      {
        "duration": 14,
        "start_time": "2022-04-09T14:46:05.378Z"
      },
      {
        "duration": 73,
        "start_time": "2022-04-09T14:46:05.394Z"
      },
      {
        "duration": 7,
        "start_time": "2022-04-09T14:46:05.469Z"
      },
      {
        "duration": 74,
        "start_time": "2022-04-09T14:46:05.478Z"
      },
      {
        "duration": 26,
        "start_time": "2022-04-09T14:46:05.554Z"
      },
      {
        "duration": 103,
        "start_time": "2022-04-09T14:46:05.582Z"
      },
      {
        "duration": 38,
        "start_time": "2022-04-09T14:46:05.687Z"
      },
      {
        "duration": 169,
        "start_time": "2022-04-09T14:46:05.727Z"
      },
      {
        "duration": 15,
        "start_time": "2022-04-09T14:46:05.898Z"
      },
      {
        "duration": 29,
        "start_time": "2022-04-09T14:46:05.915Z"
      },
      {
        "duration": 31,
        "start_time": "2022-04-09T14:46:05.946Z"
      },
      {
        "duration": 54,
        "start_time": "2022-04-09T14:46:05.978Z"
      },
      {
        "duration": 30,
        "start_time": "2022-04-09T14:46:06.033Z"
      },
      {
        "duration": 44,
        "start_time": "2022-04-09T14:46:06.065Z"
      },
      {
        "duration": 218,
        "start_time": "2022-04-09T14:46:06.111Z"
      },
      {
        "duration": 271,
        "start_time": "2022-04-09T14:46:06.330Z"
      },
      {
        "duration": 491,
        "start_time": "2022-04-09T14:46:06.603Z"
      },
      {
        "duration": 4,
        "start_time": "2022-04-09T14:46:07.095Z"
      },
      {
        "duration": 2,
        "start_time": "2022-04-09T14:46:07.112Z"
      },
      {
        "duration": 7,
        "start_time": "2022-04-09T14:46:07.116Z"
      },
      {
        "duration": 5,
        "start_time": "2022-04-09T14:46:07.125Z"
      },
      {
        "duration": 5,
        "start_time": "2022-04-09T14:46:07.132Z"
      },
      {
        "duration": 37,
        "start_time": "2022-04-09T14:46:07.139Z"
      },
      {
        "duration": 52,
        "start_time": "2022-04-09T14:46:07.178Z"
      },
      {
        "duration": 4,
        "start_time": "2022-04-09T14:46:07.231Z"
      },
      {
        "duration": 5,
        "start_time": "2022-04-09T14:46:07.236Z"
      },
      {
        "duration": 5,
        "start_time": "2022-04-09T14:46:07.243Z"
      },
      {
        "duration": 5,
        "start_time": "2022-04-09T14:46:07.249Z"
      },
      {
        "duration": 5,
        "start_time": "2022-04-09T14:46:07.255Z"
      },
      {
        "duration": 5,
        "start_time": "2022-04-09T14:46:07.261Z"
      },
      {
        "duration": 4,
        "start_time": "2022-04-09T14:46:07.267Z"
      },
      {
        "duration": 4,
        "start_time": "2022-04-09T14:46:07.273Z"
      },
      {
        "duration": 317658,
        "start_time": "2022-04-09T14:46:07.278Z"
      },
      {
        "duration": 1320,
        "start_time": "2022-04-09T14:51:24.938Z"
      },
      {
        "duration": 5,
        "start_time": "2022-04-09T14:51:26.259Z"
      },
      {
        "duration": 1350,
        "start_time": "2022-04-09T14:51:26.265Z"
      },
      {
        "duration": 4,
        "start_time": "2022-04-09T14:51:27.617Z"
      },
      {
        "duration": 5,
        "start_time": "2022-04-09T14:51:27.623Z"
      },
      {
        "duration": 5,
        "start_time": "2022-04-09T14:51:27.629Z"
      },
      {
        "duration": 73416,
        "start_time": "2022-04-09T14:51:27.636Z"
      },
      {
        "duration": 229,
        "start_time": "2022-04-09T14:52:41.053Z"
      },
      {
        "duration": 5,
        "start_time": "2022-04-09T14:52:41.283Z"
      },
      {
        "duration": 235,
        "start_time": "2022-04-09T14:52:41.289Z"
      },
      {
        "duration": 5,
        "start_time": "2022-04-09T14:52:41.526Z"
      },
      {
        "duration": 4,
        "start_time": "2022-04-09T14:52:41.532Z"
      },
      {
        "duration": 4,
        "start_time": "2022-04-09T14:52:41.538Z"
      },
      {
        "duration": 46398,
        "start_time": "2022-04-09T14:52:41.543Z"
      },
      {
        "duration": 3576,
        "start_time": "2022-04-09T14:53:27.943Z"
      },
      {
        "duration": 5,
        "start_time": "2022-04-09T14:53:31.521Z"
      },
      {
        "duration": 3589,
        "start_time": "2022-04-09T14:53:31.527Z"
      },
      {
        "duration": 5,
        "start_time": "2022-04-09T14:53:35.117Z"
      },
      {
        "duration": 7,
        "start_time": "2022-04-09T14:53:35.124Z"
      },
      {
        "duration": 7,
        "start_time": "2022-04-09T14:53:35.132Z"
      },
      {
        "duration": 50083,
        "start_time": "2022-04-09T14:53:35.140Z"
      },
      {
        "duration": 5404,
        "start_time": "2022-04-09T14:54:25.225Z"
      },
      {
        "duration": 4,
        "start_time": "2022-04-09T14:54:30.631Z"
      },
      {
        "duration": 5579,
        "start_time": "2022-04-09T14:54:30.637Z"
      },
      {
        "duration": 5,
        "start_time": "2022-04-09T14:54:36.218Z"
      },
      {
        "duration": 15,
        "start_time": "2022-04-09T14:54:36.224Z"
      },
      {
        "duration": 8,
        "start_time": "2022-04-09T14:54:36.241Z"
      },
      {
        "duration": 38493,
        "start_time": "2022-04-09T14:54:36.250Z"
      },
      {
        "duration": 6677,
        "start_time": "2022-04-09T14:55:14.744Z"
      },
      {
        "duration": 5,
        "start_time": "2022-04-09T14:55:21.423Z"
      },
      {
        "duration": 6680,
        "start_time": "2022-04-09T14:55:21.429Z"
      },
      {
        "duration": 5,
        "start_time": "2022-04-09T14:55:28.111Z"
      },
      {
        "duration": 3,
        "start_time": "2022-04-09T14:55:28.118Z"
      },
      {
        "duration": 4,
        "start_time": "2022-04-09T14:55:28.123Z"
      },
      {
        "duration": 75308,
        "start_time": "2022-04-09T14:55:28.129Z"
      },
      {
        "duration": 11570,
        "start_time": "2022-04-09T14:56:43.439Z"
      },
      {
        "duration": 4,
        "start_time": "2022-04-09T14:56:55.011Z"
      },
      {
        "duration": 11818,
        "start_time": "2022-04-09T14:56:55.017Z"
      },
      {
        "duration": 4,
        "start_time": "2022-04-09T14:57:06.838Z"
      },
      {
        "duration": 3,
        "start_time": "2022-04-09T14:57:06.847Z"
      },
      {
        "duration": 59,
        "start_time": "2022-04-09T14:57:06.852Z"
      },
      {
        "duration": 534,
        "start_time": "2022-04-09T14:57:06.913Z"
      },
      {
        "duration": 183,
        "start_time": "2022-04-09T14:57:07.449Z"
      },
      {
        "duration": 276,
        "start_time": "2022-04-09T14:57:07.634Z"
      },
      {
        "duration": 3,
        "start_time": "2022-04-09T15:05:51.800Z"
      },
      {
        "duration": 3,
        "start_time": "2022-04-09T15:05:52.551Z"
      },
      {
        "duration": 3,
        "start_time": "2022-04-09T15:06:11.125Z"
      },
      {
        "duration": 2,
        "start_time": "2022-04-09T15:06:12.173Z"
      },
      {
        "duration": 193421,
        "start_time": "2022-04-09T15:06:13.205Z"
      },
      {
        "duration": 3,
        "start_time": "2022-04-09T15:10:35.353Z"
      },
      {
        "duration": 3,
        "start_time": "2022-04-09T15:10:36.084Z"
      },
      {
        "duration": 765158,
        "start_time": "2022-04-09T15:10:36.662Z"
      },
      {
        "duration": 28327,
        "start_time": "2022-04-09T15:23:21.822Z"
      },
      {
        "duration": 2,
        "start_time": "2022-04-09T15:28:07.027Z"
      },
      {
        "duration": 3,
        "start_time": "2022-04-09T15:28:07.619Z"
      },
      {
        "duration": 266460,
        "start_time": "2022-04-09T15:28:08.279Z"
      },
      {
        "duration": 4,
        "start_time": "2022-04-09T15:41:47.889Z"
      },
      {
        "duration": 3,
        "start_time": "2022-04-09T15:41:49.220Z"
      },
      {
        "duration": 390269,
        "start_time": "2022-04-09T15:41:49.974Z"
      },
      {
        "duration": 4390,
        "start_time": "2022-04-09T15:52:06.344Z"
      },
      {
        "duration": 5,
        "start_time": "2022-04-09T15:52:13.769Z"
      },
      {
        "duration": 4536,
        "start_time": "2022-04-09T15:52:15.983Z"
      },
      {
        "duration": 14,
        "start_time": "2022-04-09T15:52:23.107Z"
      },
      {
        "duration": 1338,
        "start_time": "2022-04-09T15:56:37.903Z"
      },
      {
        "duration": 788,
        "start_time": "2022-04-09T15:56:39.243Z"
      },
      {
        "duration": 124,
        "start_time": "2022-04-09T15:56:40.033Z"
      },
      {
        "duration": 25,
        "start_time": "2022-04-09T15:56:40.159Z"
      },
      {
        "duration": 106,
        "start_time": "2022-04-09T15:56:40.186Z"
      },
      {
        "duration": 25,
        "start_time": "2022-04-09T15:56:40.293Z"
      },
      {
        "duration": 62,
        "start_time": "2022-04-09T15:56:40.319Z"
      },
      {
        "duration": 30,
        "start_time": "2022-04-09T15:56:40.382Z"
      },
      {
        "duration": 95,
        "start_time": "2022-04-09T15:56:40.414Z"
      },
      {
        "duration": 14,
        "start_time": "2022-04-09T15:56:40.512Z"
      },
      {
        "duration": 83,
        "start_time": "2022-04-09T15:56:40.528Z"
      },
      {
        "duration": 6,
        "start_time": "2022-04-09T15:56:40.613Z"
      },
      {
        "duration": 57,
        "start_time": "2022-04-09T15:56:40.621Z"
      },
      {
        "duration": 45,
        "start_time": "2022-04-09T15:56:40.680Z"
      },
      {
        "duration": 107,
        "start_time": "2022-04-09T15:56:40.727Z"
      },
      {
        "duration": 24,
        "start_time": "2022-04-09T15:56:40.835Z"
      },
      {
        "duration": 175,
        "start_time": "2022-04-09T15:56:40.860Z"
      },
      {
        "duration": 14,
        "start_time": "2022-04-09T15:56:41.037Z"
      },
      {
        "duration": 28,
        "start_time": "2022-04-09T15:56:41.053Z"
      },
      {
        "duration": 47,
        "start_time": "2022-04-09T15:56:41.083Z"
      },
      {
        "duration": 30,
        "start_time": "2022-04-09T15:56:41.131Z"
      },
      {
        "duration": 47,
        "start_time": "2022-04-09T15:56:41.163Z"
      },
      {
        "duration": 30,
        "start_time": "2022-04-09T15:56:41.211Z"
      },
      {
        "duration": 242,
        "start_time": "2022-04-09T15:56:41.243Z"
      },
      {
        "duration": 304,
        "start_time": "2022-04-09T15:56:41.488Z"
      },
      {
        "duration": 523,
        "start_time": "2022-04-09T15:56:41.794Z"
      },
      {
        "duration": 5,
        "start_time": "2022-04-09T15:56:42.318Z"
      },
      {
        "duration": 3,
        "start_time": "2022-04-09T15:56:42.328Z"
      },
      {
        "duration": 10,
        "start_time": "2022-04-09T15:56:42.333Z"
      },
      {
        "duration": 8,
        "start_time": "2022-04-09T15:56:42.345Z"
      },
      {
        "duration": 8,
        "start_time": "2022-04-09T15:56:42.355Z"
      },
      {
        "duration": 61,
        "start_time": "2022-04-09T15:56:42.365Z"
      },
      {
        "duration": 33,
        "start_time": "2022-04-09T15:56:42.428Z"
      },
      {
        "duration": 5,
        "start_time": "2022-04-09T15:56:42.462Z"
      },
      {
        "duration": 11,
        "start_time": "2022-04-09T15:56:42.469Z"
      },
      {
        "duration": 5,
        "start_time": "2022-04-09T15:56:42.482Z"
      },
      {
        "duration": 22,
        "start_time": "2022-04-09T15:56:42.489Z"
      },
      {
        "duration": 9,
        "start_time": "2022-04-09T15:56:42.514Z"
      },
      {
        "duration": 22,
        "start_time": "2022-04-09T15:56:42.525Z"
      },
      {
        "duration": 7,
        "start_time": "2022-04-09T15:56:42.548Z"
      },
      {
        "duration": 12,
        "start_time": "2022-04-09T15:56:42.556Z"
      },
      {
        "duration": 361517,
        "start_time": "2022-04-09T15:56:42.570Z"
      },
      {
        "duration": 1688,
        "start_time": "2022-04-09T16:02:44.089Z"
      },
      {
        "duration": 4,
        "start_time": "2022-04-09T16:02:45.779Z"
      },
      {
        "duration": 1640,
        "start_time": "2022-04-09T16:02:45.785Z"
      },
      {
        "duration": 5,
        "start_time": "2022-04-09T16:02:47.426Z"
      },
      {
        "duration": 4,
        "start_time": "2022-04-09T16:02:47.433Z"
      },
      {
        "duration": 5,
        "start_time": "2022-04-09T16:02:47.438Z"
      },
      {
        "duration": 822957,
        "start_time": "2022-04-09T16:02:47.445Z"
      },
      {
        "duration": 2922,
        "start_time": "2022-04-09T16:16:30.404Z"
      },
      {
        "duration": 5,
        "start_time": "2022-04-09T16:16:33.327Z"
      },
      {
        "duration": 3143,
        "start_time": "2022-04-09T16:16:33.333Z"
      },
      {
        "duration": 5,
        "start_time": "2022-04-09T16:16:36.478Z"
      },
      {
        "duration": 4,
        "start_time": "2022-04-09T16:16:36.484Z"
      },
      {
        "duration": 6,
        "start_time": "2022-04-09T16:16:36.489Z"
      },
      {
        "duration": 38133,
        "start_time": "2022-04-09T16:16:36.509Z"
      },
      {
        "duration": 3606,
        "start_time": "2022-04-09T16:17:14.644Z"
      },
      {
        "duration": 5,
        "start_time": "2022-04-09T16:17:18.251Z"
      },
      {
        "duration": 3501,
        "start_time": "2022-04-09T16:17:18.308Z"
      },
      {
        "duration": 5,
        "start_time": "2022-04-09T16:17:21.811Z"
      },
      {
        "duration": 5,
        "start_time": "2022-04-09T16:17:21.818Z"
      },
      {
        "duration": 4,
        "start_time": "2022-04-09T16:17:21.825Z"
      },
      {
        "duration": 167978,
        "start_time": "2022-04-09T16:17:21.831Z"
      },
      {
        "duration": 5129,
        "start_time": "2022-04-09T16:20:09.811Z"
      },
      {
        "duration": 5,
        "start_time": "2022-04-09T16:20:14.942Z"
      },
      {
        "duration": 5095,
        "start_time": "2022-04-09T16:20:14.948Z"
      },
      {
        "duration": 67,
        "start_time": "2022-04-09T16:20:20.044Z"
      },
      {
        "duration": 4,
        "start_time": "2022-04-09T16:20:20.113Z"
      },
      {
        "duration": 10,
        "start_time": "2022-04-09T16:20:20.119Z"
      },
      {
        "duration": 71813,
        "start_time": "2022-04-09T16:20:20.130Z"
      },
      {
        "duration": 6172,
        "start_time": "2022-04-09T16:21:31.944Z"
      },
      {
        "duration": 4,
        "start_time": "2022-04-09T16:21:38.118Z"
      },
      {
        "duration": 6192,
        "start_time": "2022-04-09T16:21:38.124Z"
      },
      {
        "duration": 5,
        "start_time": "2022-04-09T16:21:44.318Z"
      },
      {
        "duration": 4,
        "start_time": "2022-04-09T16:21:44.324Z"
      },
      {
        "duration": 4,
        "start_time": "2022-04-09T16:21:44.329Z"
      },
      {
        "duration": 66078,
        "start_time": "2022-04-09T16:21:44.335Z"
      },
      {
        "duration": 10833,
        "start_time": "2022-04-09T16:22:50.415Z"
      },
      {
        "duration": 5,
        "start_time": "2022-04-09T16:23:01.250Z"
      },
      {
        "duration": 11163,
        "start_time": "2022-04-09T16:23:01.256Z"
      },
      {
        "duration": 5,
        "start_time": "2022-04-09T16:23:12.420Z"
      },
      {
        "duration": 4,
        "start_time": "2022-04-09T16:23:12.430Z"
      },
      {
        "duration": 10,
        "start_time": "2022-04-09T16:23:12.436Z"
      },
      {
        "duration": 384,
        "start_time": "2022-04-09T16:23:12.447Z"
      },
      {
        "duration": 186,
        "start_time": "2022-04-09T16:23:12.833Z"
      },
      {
        "duration": 208,
        "start_time": "2022-04-09T16:23:13.020Z"
      },
      {
        "duration": 50,
        "start_time": "2022-04-10T05:22:00.479Z"
      },
      {
        "duration": 1343,
        "start_time": "2022-04-10T05:34:20.800Z"
      },
      {
        "duration": 735,
        "start_time": "2022-04-10T05:34:22.145Z"
      },
      {
        "duration": 125,
        "start_time": "2022-04-10T05:34:22.881Z"
      },
      {
        "duration": 26,
        "start_time": "2022-04-10T05:34:23.007Z"
      },
      {
        "duration": 105,
        "start_time": "2022-04-10T05:34:23.035Z"
      },
      {
        "duration": 25,
        "start_time": "2022-04-10T05:34:23.141Z"
      },
      {
        "duration": 58,
        "start_time": "2022-04-10T05:34:23.168Z"
      },
      {
        "duration": 34,
        "start_time": "2022-04-10T05:34:23.228Z"
      },
      {
        "duration": 84,
        "start_time": "2022-04-10T05:34:23.263Z"
      },
      {
        "duration": 14,
        "start_time": "2022-04-10T05:34:23.358Z"
      },
      {
        "duration": 86,
        "start_time": "2022-04-10T05:34:23.374Z"
      },
      {
        "duration": 6,
        "start_time": "2022-04-10T05:34:23.462Z"
      },
      {
        "duration": 76,
        "start_time": "2022-04-10T05:34:23.470Z"
      },
      {
        "duration": 30,
        "start_time": "2022-04-10T05:34:23.547Z"
      },
      {
        "duration": 92,
        "start_time": "2022-04-10T05:34:23.578Z"
      },
      {
        "duration": 32,
        "start_time": "2022-04-10T05:34:23.672Z"
      },
      {
        "duration": 156,
        "start_time": "2022-04-10T05:34:23.706Z"
      },
      {
        "duration": 14,
        "start_time": "2022-04-10T05:34:23.863Z"
      },
      {
        "duration": 27,
        "start_time": "2022-04-10T05:34:23.878Z"
      },
      {
        "duration": 37,
        "start_time": "2022-04-10T05:34:23.907Z"
      },
      {
        "duration": 47,
        "start_time": "2022-04-10T05:34:23.946Z"
      },
      {
        "duration": 38,
        "start_time": "2022-04-10T05:34:23.994Z"
      },
      {
        "duration": 42,
        "start_time": "2022-04-10T05:34:24.034Z"
      },
      {
        "duration": 230,
        "start_time": "2022-04-10T05:34:24.078Z"
      },
      {
        "duration": 287,
        "start_time": "2022-04-10T05:34:24.310Z"
      },
      {
        "duration": 496,
        "start_time": "2022-04-10T05:34:24.599Z"
      },
      {
        "duration": 3,
        "start_time": "2022-04-10T05:34:25.097Z"
      },
      {
        "duration": 6,
        "start_time": "2022-04-10T05:34:25.104Z"
      },
      {
        "duration": 8,
        "start_time": "2022-04-10T05:34:25.112Z"
      },
      {
        "duration": 6,
        "start_time": "2022-04-10T05:34:25.121Z"
      },
      {
        "duration": 7,
        "start_time": "2022-04-10T05:34:25.129Z"
      },
      {
        "duration": 49,
        "start_time": "2022-04-10T05:34:25.138Z"
      },
      {
        "duration": 30,
        "start_time": "2022-04-10T05:34:25.189Z"
      },
      {
        "duration": 4,
        "start_time": "2022-04-10T05:34:25.221Z"
      },
      {
        "duration": 7,
        "start_time": "2022-04-10T05:34:25.227Z"
      },
      {
        "duration": 23,
        "start_time": "2022-04-10T05:34:25.236Z"
      },
      {
        "duration": 5,
        "start_time": "2022-04-10T05:34:25.260Z"
      },
      {
        "duration": 5,
        "start_time": "2022-04-10T05:34:25.267Z"
      },
      {
        "duration": 6,
        "start_time": "2022-04-10T05:34:25.273Z"
      },
      {
        "duration": 4,
        "start_time": "2022-04-10T05:34:25.281Z"
      },
      {
        "duration": 9,
        "start_time": "2022-04-10T05:34:25.286Z"
      },
      {
        "duration": 319960,
        "start_time": "2022-04-10T05:34:25.296Z"
      },
      {
        "duration": 1336,
        "start_time": "2022-04-10T05:39:45.258Z"
      },
      {
        "duration": 5,
        "start_time": "2022-04-10T05:39:46.595Z"
      },
      {
        "duration": 1307,
        "start_time": "2022-04-10T05:39:46.601Z"
      },
      {
        "duration": 4,
        "start_time": "2022-04-10T05:39:47.910Z"
      },
      {
        "duration": 7,
        "start_time": "2022-04-10T05:39:47.915Z"
      },
      {
        "duration": 5,
        "start_time": "2022-04-10T05:39:47.923Z"
      },
      {
        "duration": 743203,
        "start_time": "2022-04-10T05:39:47.930Z"
      },
      {
        "duration": 3058,
        "start_time": "2022-04-10T05:52:11.134Z"
      },
      {
        "duration": 5,
        "start_time": "2022-04-10T05:52:14.193Z"
      },
      {
        "duration": 3203,
        "start_time": "2022-04-10T05:52:14.200Z"
      },
      {
        "duration": 4,
        "start_time": "2022-04-10T05:52:17.405Z"
      },
      {
        "duration": 11,
        "start_time": "2022-04-10T05:52:17.411Z"
      },
      {
        "duration": 5,
        "start_time": "2022-04-10T05:52:17.423Z"
      },
      {
        "duration": 39338,
        "start_time": "2022-04-10T05:52:17.429Z"
      },
      {
        "duration": 3521,
        "start_time": "2022-04-10T05:52:56.768Z"
      },
      {
        "duration": 5,
        "start_time": "2022-04-10T05:53:00.290Z"
      },
      {
        "duration": 3681,
        "start_time": "2022-04-10T05:53:00.297Z"
      },
      {
        "duration": 5,
        "start_time": "2022-04-10T05:53:03.980Z"
      },
      {
        "duration": 5,
        "start_time": "2022-04-10T05:53:03.986Z"
      },
      {
        "duration": 5,
        "start_time": "2022-04-10T05:53:03.993Z"
      },
      {
        "duration": 310885,
        "start_time": "2022-04-10T05:53:03.999Z"
      },
      {
        "duration": 5379,
        "start_time": "2022-04-10T05:58:14.886Z"
      },
      {
        "duration": 4,
        "start_time": "2022-04-10T05:58:20.268Z"
      },
      {
        "duration": 5488,
        "start_time": "2022-04-10T05:58:20.274Z"
      },
      {
        "duration": 4,
        "start_time": "2022-04-10T05:58:25.764Z"
      },
      {
        "duration": 4,
        "start_time": "2022-04-10T05:58:25.770Z"
      },
      {
        "duration": 5,
        "start_time": "2022-04-10T05:58:25.775Z"
      },
      {
        "duration": 208,
        "start_time": "2022-04-10T05:58:25.782Z"
      },
      {
        "duration": 225,
        "start_time": "2022-04-10T05:58:25.992Z"
      },
      {
        "duration": 5,
        "start_time": "2022-04-10T05:58:26.218Z"
      },
      {
        "duration": 221,
        "start_time": "2022-04-10T05:58:26.225Z"
      },
      {
        "duration": 4,
        "start_time": "2022-04-10T05:58:26.448Z"
      },
      {
        "duration": 4,
        "start_time": "2022-04-10T05:58:26.454Z"
      },
      {
        "duration": 8,
        "start_time": "2022-04-10T05:58:26.460Z"
      },
      {
        "duration": 105,
        "start_time": "2022-04-10T05:58:26.470Z"
      },
      {
        "duration": 198,
        "start_time": "2022-04-10T05:58:26.577Z"
      },
      {
        "duration": 4,
        "start_time": "2022-04-10T05:58:26.777Z"
      },
      {
        "duration": 208,
        "start_time": "2022-04-10T05:58:26.782Z"
      },
      {
        "duration": 4,
        "start_time": "2022-04-10T05:58:26.992Z"
      },
      {
        "duration": 3,
        "start_time": "2022-04-10T05:58:27.002Z"
      },
      {
        "duration": 10,
        "start_time": "2022-04-10T05:58:27.006Z"
      },
      {
        "duration": 4,
        "start_time": "2022-04-10T05:58:27.018Z"
      },
      {
        "duration": 4,
        "start_time": "2022-04-10T05:58:27.024Z"
      },
      {
        "duration": 13,
        "start_time": "2022-04-10T05:58:27.030Z"
      },
      {
        "duration": 516,
        "start_time": "2022-04-10T05:58:27.044Z"
      },
      {
        "duration": 157,
        "start_time": "2022-04-10T05:58:27.562Z"
      },
      {
        "duration": 22,
        "start_time": "2022-04-10T05:58:27.720Z"
      },
      {
        "duration": 3,
        "start_time": "2022-04-10T06:05:56.776Z"
      },
      {
        "duration": 2,
        "start_time": "2022-04-10T06:05:57.395Z"
      },
      {
        "duration": 262,
        "start_time": "2022-04-10T06:05:58.002Z"
      },
      {
        "duration": 1220,
        "start_time": "2022-04-10T06:17:22.011Z"
      },
      {
        "duration": 752,
        "start_time": "2022-04-10T06:17:23.233Z"
      },
      {
        "duration": 126,
        "start_time": "2022-04-10T06:17:23.986Z"
      },
      {
        "duration": 26,
        "start_time": "2022-04-10T06:17:24.114Z"
      },
      {
        "duration": 97,
        "start_time": "2022-04-10T06:17:24.141Z"
      },
      {
        "duration": 27,
        "start_time": "2022-04-10T06:17:24.240Z"
      },
      {
        "duration": 60,
        "start_time": "2022-04-10T06:17:24.268Z"
      },
      {
        "duration": 35,
        "start_time": "2022-04-10T06:17:24.330Z"
      },
      {
        "duration": 86,
        "start_time": "2022-04-10T06:17:24.366Z"
      },
      {
        "duration": 16,
        "start_time": "2022-04-10T06:17:24.459Z"
      },
      {
        "duration": 86,
        "start_time": "2022-04-10T06:17:24.476Z"
      },
      {
        "duration": 6,
        "start_time": "2022-04-10T06:17:24.563Z"
      },
      {
        "duration": 59,
        "start_time": "2022-04-10T06:17:24.571Z"
      },
      {
        "duration": 43,
        "start_time": "2022-04-10T06:17:24.631Z"
      },
      {
        "duration": 92,
        "start_time": "2022-04-10T06:17:24.676Z"
      },
      {
        "duration": 25,
        "start_time": "2022-04-10T06:17:24.770Z"
      },
      {
        "duration": 164,
        "start_time": "2022-04-10T06:17:24.797Z"
      },
      {
        "duration": 14,
        "start_time": "2022-04-10T06:17:24.963Z"
      },
      {
        "duration": 29,
        "start_time": "2022-04-10T06:17:24.979Z"
      },
      {
        "duration": 50,
        "start_time": "2022-04-10T06:17:25.009Z"
      },
      {
        "duration": 29,
        "start_time": "2022-04-10T06:17:25.060Z"
      },
      {
        "duration": 28,
        "start_time": "2022-04-10T06:17:25.090Z"
      },
      {
        "duration": 45,
        "start_time": "2022-04-10T06:17:25.119Z"
      },
      {
        "duration": 224,
        "start_time": "2022-04-10T06:17:25.165Z"
      },
      {
        "duration": 284,
        "start_time": "2022-04-10T06:17:25.391Z"
      },
      {
        "duration": 492,
        "start_time": "2022-04-10T06:17:25.677Z"
      },
      {
        "duration": 4,
        "start_time": "2022-04-10T06:17:26.170Z"
      },
      {
        "duration": 4,
        "start_time": "2022-04-10T06:17:26.177Z"
      },
      {
        "duration": 8,
        "start_time": "2022-04-10T06:17:26.182Z"
      },
      {
        "duration": 5,
        "start_time": "2022-04-10T06:17:26.191Z"
      },
      {
        "duration": 5,
        "start_time": "2022-04-10T06:17:26.198Z"
      },
      {
        "duration": 62,
        "start_time": "2022-04-10T06:17:26.204Z"
      },
      {
        "duration": 30,
        "start_time": "2022-04-10T06:17:26.268Z"
      },
      {
        "duration": 4,
        "start_time": "2022-04-10T06:17:26.299Z"
      },
      {
        "duration": 10,
        "start_time": "2022-04-10T06:17:26.304Z"
      },
      {
        "duration": 6,
        "start_time": "2022-04-10T06:17:26.316Z"
      },
      {
        "duration": 8,
        "start_time": "2022-04-10T06:17:26.324Z"
      },
      {
        "duration": 7,
        "start_time": "2022-04-10T06:17:26.333Z"
      },
      {
        "duration": 17,
        "start_time": "2022-04-10T06:17:26.341Z"
      },
      {
        "duration": 2,
        "start_time": "2022-04-10T06:17:26.359Z"
      },
      {
        "duration": 4,
        "start_time": "2022-04-10T06:17:26.363Z"
      },
      {
        "duration": 324714,
        "start_time": "2022-04-10T06:17:26.368Z"
      },
      {
        "duration": 1371,
        "start_time": "2022-04-10T06:22:51.083Z"
      },
      {
        "duration": 5,
        "start_time": "2022-04-10T06:22:52.455Z"
      },
      {
        "duration": 1417,
        "start_time": "2022-04-10T06:22:52.462Z"
      },
      {
        "duration": 4,
        "start_time": "2022-04-10T06:22:53.880Z"
      },
      {
        "duration": 8,
        "start_time": "2022-04-10T06:22:53.886Z"
      },
      {
        "duration": 4,
        "start_time": "2022-04-10T06:22:53.895Z"
      },
      {
        "duration": 762500,
        "start_time": "2022-04-10T06:22:53.901Z"
      },
      {
        "duration": 3358,
        "start_time": "2022-04-10T06:35:36.402Z"
      },
      {
        "duration": 4,
        "start_time": "2022-04-10T06:35:39.762Z"
      },
      {
        "duration": 3281,
        "start_time": "2022-04-10T06:35:39.768Z"
      },
      {
        "duration": 10,
        "start_time": "2022-04-10T06:35:43.050Z"
      },
      {
        "duration": 5,
        "start_time": "2022-04-10T06:35:43.061Z"
      },
      {
        "duration": 8,
        "start_time": "2022-04-10T06:35:43.067Z"
      },
      {
        "duration": 34508,
        "start_time": "2022-04-10T06:35:43.076Z"
      },
      {
        "duration": 3497,
        "start_time": "2022-04-10T06:36:17.586Z"
      },
      {
        "duration": 5,
        "start_time": "2022-04-10T06:36:21.085Z"
      },
      {
        "duration": 3475,
        "start_time": "2022-04-10T06:36:21.091Z"
      },
      {
        "duration": 4,
        "start_time": "2022-04-10T06:36:24.568Z"
      },
      {
        "duration": 25,
        "start_time": "2022-04-10T06:36:24.574Z"
      },
      {
        "duration": 26,
        "start_time": "2022-04-10T06:36:24.601Z"
      },
      {
        "duration": 51766,
        "start_time": "2022-04-10T06:36:24.629Z"
      },
      {
        "duration": 4901,
        "start_time": "2022-04-10T06:37:16.397Z"
      },
      {
        "duration": 5,
        "start_time": "2022-04-10T06:37:21.299Z"
      },
      {
        "duration": 4974,
        "start_time": "2022-04-10T06:37:21.305Z"
      },
      {
        "duration": 4,
        "start_time": "2022-04-10T06:37:26.281Z"
      },
      {
        "duration": 5,
        "start_time": "2022-04-10T06:37:26.286Z"
      },
      {
        "duration": 9,
        "start_time": "2022-04-10T06:37:26.357Z"
      },
      {
        "duration": 6,
        "start_time": "2022-04-10T06:37:26.368Z"
      },
      {
        "duration": 5,
        "start_time": "2022-04-10T06:37:26.376Z"
      },
      {
        "duration": 15,
        "start_time": "2022-04-10T06:37:26.383Z"
      },
      {
        "duration": 303,
        "start_time": "2022-04-10T06:37:26.399Z"
      },
      {
        "duration": 155,
        "start_time": "2022-04-10T06:37:26.704Z"
      },
      {
        "duration": 1278,
        "start_time": "2022-04-10T06:58:03.074Z"
      },
      {
        "duration": 752,
        "start_time": "2022-04-10T06:58:04.354Z"
      },
      {
        "duration": 127,
        "start_time": "2022-04-10T06:58:05.108Z"
      },
      {
        "duration": 34,
        "start_time": "2022-04-10T06:58:05.238Z"
      },
      {
        "duration": 91,
        "start_time": "2022-04-10T06:58:05.274Z"
      },
      {
        "duration": 17,
        "start_time": "2022-04-10T06:58:05.368Z"
      },
      {
        "duration": 76,
        "start_time": "2022-04-10T06:58:05.387Z"
      },
      {
        "duration": 19,
        "start_time": "2022-04-10T06:58:05.465Z"
      },
      {
        "duration": 102,
        "start_time": "2022-04-10T06:58:05.485Z"
      },
      {
        "duration": 14,
        "start_time": "2022-04-10T06:58:05.590Z"
      },
      {
        "duration": 88,
        "start_time": "2022-04-10T06:58:05.606Z"
      },
      {
        "duration": 6,
        "start_time": "2022-04-10T06:58:05.696Z"
      },
      {
        "duration": 69,
        "start_time": "2022-04-10T06:58:05.704Z"
      },
      {
        "duration": 28,
        "start_time": "2022-04-10T06:58:05.775Z"
      },
      {
        "duration": 98,
        "start_time": "2022-04-10T06:58:05.804Z"
      },
      {
        "duration": 24,
        "start_time": "2022-04-10T06:58:05.904Z"
      },
      {
        "duration": 171,
        "start_time": "2022-04-10T06:58:05.929Z"
      },
      {
        "duration": 14,
        "start_time": "2022-04-10T06:58:06.101Z"
      },
      {
        "duration": 42,
        "start_time": "2022-04-10T06:58:06.117Z"
      },
      {
        "duration": 27,
        "start_time": "2022-04-10T06:58:06.160Z"
      },
      {
        "duration": 28,
        "start_time": "2022-04-10T06:58:06.189Z"
      },
      {
        "duration": 45,
        "start_time": "2022-04-10T06:58:06.219Z"
      },
      {
        "duration": 29,
        "start_time": "2022-04-10T06:58:06.266Z"
      },
      {
        "duration": 230,
        "start_time": "2022-04-10T06:58:06.296Z"
      },
      {
        "duration": 280,
        "start_time": "2022-04-10T06:58:06.528Z"
      },
      {
        "duration": 731,
        "start_time": "2022-04-10T06:58:06.811Z"
      },
      {
        "duration": 4,
        "start_time": "2022-04-10T06:58:07.544Z"
      },
      {
        "duration": 2,
        "start_time": "2022-04-10T06:58:07.557Z"
      },
      {
        "duration": 12,
        "start_time": "2022-04-10T06:58:07.560Z"
      },
      {
        "duration": 6,
        "start_time": "2022-04-10T06:58:07.574Z"
      },
      {
        "duration": 5,
        "start_time": "2022-04-10T06:58:07.582Z"
      },
      {
        "duration": 39,
        "start_time": "2022-04-10T06:58:07.588Z"
      },
      {
        "duration": 56,
        "start_time": "2022-04-10T06:58:07.628Z"
      },
      {
        "duration": 4,
        "start_time": "2022-04-10T06:58:07.686Z"
      },
      {
        "duration": 6,
        "start_time": "2022-04-10T06:58:07.692Z"
      },
      {
        "duration": 6,
        "start_time": "2022-04-10T06:58:07.699Z"
      },
      {
        "duration": 6,
        "start_time": "2022-04-10T06:58:07.707Z"
      },
      {
        "duration": 7,
        "start_time": "2022-04-10T06:58:07.714Z"
      },
      {
        "duration": 6,
        "start_time": "2022-04-10T06:58:07.722Z"
      },
      {
        "duration": 4,
        "start_time": "2022-04-10T06:58:07.729Z"
      },
      {
        "duration": 3,
        "start_time": "2022-04-10T06:58:07.759Z"
      },
      {
        "duration": 323366,
        "start_time": "2022-04-10T06:58:07.763Z"
      },
      {
        "duration": 1526,
        "start_time": "2022-04-10T07:03:31.133Z"
      },
      {
        "duration": 6,
        "start_time": "2022-04-10T07:03:32.660Z"
      },
      {
        "duration": 1591,
        "start_time": "2022-04-10T07:03:32.668Z"
      },
      {
        "duration": 5,
        "start_time": "2022-04-10T07:03:34.261Z"
      },
      {
        "duration": 5,
        "start_time": "2022-04-10T07:03:34.268Z"
      },
      {
        "duration": 10,
        "start_time": "2022-04-10T07:03:34.274Z"
      },
      {
        "duration": 757295,
        "start_time": "2022-04-10T07:03:34.285Z"
      },
      {
        "duration": 3438,
        "start_time": "2022-04-10T07:16:11.582Z"
      },
      {
        "duration": 6,
        "start_time": "2022-04-10T07:16:15.022Z"
      },
      {
        "duration": 3122,
        "start_time": "2022-04-10T07:16:15.031Z"
      },
      {
        "duration": 4,
        "start_time": "2022-04-10T07:16:18.158Z"
      },
      {
        "duration": 4,
        "start_time": "2022-04-10T07:16:18.164Z"
      },
      {
        "duration": 4,
        "start_time": "2022-04-10T07:16:18.170Z"
      },
      {
        "duration": 33514,
        "start_time": "2022-04-10T07:16:18.175Z"
      },
      {
        "duration": 3509,
        "start_time": "2022-04-10T07:16:51.691Z"
      },
      {
        "duration": 4,
        "start_time": "2022-04-10T07:16:55.203Z"
      },
      {
        "duration": 3501,
        "start_time": "2022-04-10T07:16:55.257Z"
      },
      {
        "duration": 5,
        "start_time": "2022-04-10T07:16:58.760Z"
      },
      {
        "duration": 12,
        "start_time": "2022-04-10T07:16:58.766Z"
      },
      {
        "duration": 5,
        "start_time": "2022-04-10T07:16:58.779Z"
      },
      {
        "duration": 40698,
        "start_time": "2022-04-10T07:16:58.785Z"
      },
      {
        "duration": 4983,
        "start_time": "2022-04-10T07:17:39.485Z"
      },
      {
        "duration": 5,
        "start_time": "2022-04-10T07:17:44.470Z"
      },
      {
        "duration": 5000,
        "start_time": "2022-04-10T07:17:44.476Z"
      },
      {
        "duration": 5,
        "start_time": "2022-04-10T07:17:49.478Z"
      },
      {
        "duration": 16,
        "start_time": "2022-04-10T07:17:49.484Z"
      },
      {
        "duration": 4,
        "start_time": "2022-04-10T07:48:13.127Z"
      },
      {
        "duration": 8,
        "start_time": "2022-04-10T07:53:22.482Z"
      },
      {
        "duration": 3,
        "start_time": "2022-04-10T07:56:12.192Z"
      },
      {
        "duration": 1357,
        "start_time": "2022-04-10T07:56:33.931Z"
      },
      {
        "duration": 755,
        "start_time": "2022-04-10T07:56:35.290Z"
      },
      {
        "duration": 127,
        "start_time": "2022-04-10T07:56:36.046Z"
      },
      {
        "duration": 24,
        "start_time": "2022-04-10T07:56:36.175Z"
      },
      {
        "duration": 99,
        "start_time": "2022-04-10T07:56:36.201Z"
      },
      {
        "duration": 17,
        "start_time": "2022-04-10T07:56:36.302Z"
      },
      {
        "duration": 72,
        "start_time": "2022-04-10T07:56:36.320Z"
      },
      {
        "duration": 18,
        "start_time": "2022-04-10T07:56:36.393Z"
      },
      {
        "duration": 104,
        "start_time": "2022-04-10T07:56:36.413Z"
      },
      {
        "duration": 16,
        "start_time": "2022-04-10T07:56:36.520Z"
      },
      {
        "duration": 83,
        "start_time": "2022-04-10T07:56:36.538Z"
      },
      {
        "duration": 6,
        "start_time": "2022-04-10T07:56:36.622Z"
      },
      {
        "duration": 74,
        "start_time": "2022-04-10T07:56:36.630Z"
      },
      {
        "duration": 30,
        "start_time": "2022-04-10T07:56:36.706Z"
      },
      {
        "duration": 94,
        "start_time": "2022-04-10T07:56:36.738Z"
      },
      {
        "duration": 39,
        "start_time": "2022-04-10T07:56:36.833Z"
      },
      {
        "duration": 159,
        "start_time": "2022-04-10T07:56:36.873Z"
      },
      {
        "duration": 26,
        "start_time": "2022-04-10T07:56:37.033Z"
      },
      {
        "duration": 30,
        "start_time": "2022-04-10T07:56:37.060Z"
      },
      {
        "duration": 28,
        "start_time": "2022-04-10T07:56:37.092Z"
      },
      {
        "duration": 45,
        "start_time": "2022-04-10T07:56:37.122Z"
      },
      {
        "duration": 28,
        "start_time": "2022-04-10T07:56:37.169Z"
      },
      {
        "duration": 28,
        "start_time": "2022-04-10T07:56:37.199Z"
      },
      {
        "duration": 339,
        "start_time": "2022-04-10T07:56:37.229Z"
      },
      {
        "duration": 281,
        "start_time": "2022-04-10T07:56:37.570Z"
      },
      {
        "duration": 516,
        "start_time": "2022-04-10T07:56:37.853Z"
      },
      {
        "duration": 4,
        "start_time": "2022-04-10T07:56:38.371Z"
      },
      {
        "duration": 2,
        "start_time": "2022-04-10T07:56:38.379Z"
      },
      {
        "duration": 9,
        "start_time": "2022-04-10T07:56:38.383Z"
      },
      {
        "duration": 5,
        "start_time": "2022-04-10T07:56:38.393Z"
      },
      {
        "duration": 4,
        "start_time": "2022-04-10T07:56:38.400Z"
      },
      {
        "duration": 62,
        "start_time": "2022-04-10T07:56:38.406Z"
      },
      {
        "duration": 32,
        "start_time": "2022-04-10T07:56:38.470Z"
      },
      {
        "duration": 3,
        "start_time": "2022-04-10T07:56:38.504Z"
      },
      {
        "duration": 5,
        "start_time": "2022-04-10T07:56:38.509Z"
      },
      {
        "duration": 5,
        "start_time": "2022-04-10T07:56:38.516Z"
      },
      {
        "duration": 6,
        "start_time": "2022-04-10T07:56:38.522Z"
      },
      {
        "duration": 4,
        "start_time": "2022-04-10T07:56:38.530Z"
      },
      {
        "duration": 4,
        "start_time": "2022-04-10T07:56:38.559Z"
      },
      {
        "duration": 5,
        "start_time": "2022-04-10T07:56:38.564Z"
      },
      {
        "duration": 5,
        "start_time": "2022-04-10T07:56:38.571Z"
      },
      {
        "duration": 330656,
        "start_time": "2022-04-10T07:56:38.578Z"
      },
      {
        "duration": 1391,
        "start_time": "2022-04-10T08:02:09.235Z"
      },
      {
        "duration": 5,
        "start_time": "2022-04-10T08:02:10.627Z"
      },
      {
        "duration": 1439,
        "start_time": "2022-04-10T08:02:10.633Z"
      },
      {
        "duration": 5,
        "start_time": "2022-04-10T08:02:12.073Z"
      },
      {
        "duration": 3,
        "start_time": "2022-04-10T08:02:12.080Z"
      },
      {
        "duration": 8,
        "start_time": "2022-04-10T08:02:12.085Z"
      },
      {
        "duration": 749740,
        "start_time": "2022-04-10T08:02:12.094Z"
      },
      {
        "duration": 3023,
        "start_time": "2022-04-10T08:14:41.836Z"
      },
      {
        "duration": 6,
        "start_time": "2022-04-10T08:14:44.861Z"
      },
      {
        "duration": 3037,
        "start_time": "2022-04-10T08:14:44.868Z"
      },
      {
        "duration": 5,
        "start_time": "2022-04-10T08:14:47.907Z"
      },
      {
        "duration": 4,
        "start_time": "2022-04-10T08:14:47.914Z"
      },
      {
        "duration": 4,
        "start_time": "2022-04-10T08:14:47.920Z"
      },
      {
        "duration": 39555,
        "start_time": "2022-04-10T08:14:47.926Z"
      },
      {
        "duration": 3576,
        "start_time": "2022-04-10T08:15:27.482Z"
      },
      {
        "duration": 5,
        "start_time": "2022-04-10T08:15:31.060Z"
      },
      {
        "duration": 3610,
        "start_time": "2022-04-10T08:15:31.067Z"
      },
      {
        "duration": 5,
        "start_time": "2022-04-10T08:15:34.678Z"
      },
      {
        "duration": 8,
        "start_time": "2022-04-10T08:15:34.685Z"
      },
      {
        "duration": 9,
        "start_time": "2022-04-10T08:15:34.694Z"
      },
      {
        "duration": 60786,
        "start_time": "2022-04-10T08:15:34.705Z"
      },
      {
        "duration": 5075,
        "start_time": "2022-04-10T08:16:35.493Z"
      },
      {
        "duration": 5,
        "start_time": "2022-04-10T08:16:40.570Z"
      },
      {
        "duration": 4924,
        "start_time": "2022-04-10T08:16:40.576Z"
      },
      {
        "duration": 5,
        "start_time": "2022-04-10T08:16:45.501Z"
      },
      {
        "duration": 54,
        "start_time": "2022-04-10T08:16:45.507Z"
      },
      {
        "duration": 11,
        "start_time": "2022-04-10T08:16:45.564Z"
      },
      {
        "duration": 103,
        "start_time": "2022-04-10T08:16:45.579Z"
      },
      {
        "duration": 3,
        "start_time": "2022-04-10T08:19:24.095Z"
      },
      {
        "duration": 4,
        "start_time": "2022-04-10T08:20:14.943Z"
      },
      {
        "duration": 10,
        "start_time": "2022-04-10T08:20:16.943Z"
      },
      {
        "duration": 324,
        "start_time": "2022-04-10T08:20:22.730Z"
      },
      {
        "duration": 270,
        "start_time": "2022-04-10T08:20:25.859Z"
      },
      {
        "duration": 1811,
        "start_time": "2022-04-11T04:49:31.067Z"
      },
      {
        "duration": 1059,
        "start_time": "2022-04-11T04:49:32.880Z"
      },
      {
        "duration": 171,
        "start_time": "2022-04-11T04:49:33.941Z"
      },
      {
        "duration": 63,
        "start_time": "2022-04-11T04:49:34.115Z"
      },
      {
        "duration": 128,
        "start_time": "2022-04-11T04:49:34.181Z"
      },
      {
        "duration": 24,
        "start_time": "2022-04-11T04:49:34.311Z"
      },
      {
        "duration": 115,
        "start_time": "2022-04-11T04:49:34.338Z"
      },
      {
        "duration": 34,
        "start_time": "2022-04-11T04:49:34.456Z"
      },
      {
        "duration": 170,
        "start_time": "2022-04-11T04:49:34.493Z"
      },
      {
        "duration": 23,
        "start_time": "2022-04-11T04:49:34.665Z"
      },
      {
        "duration": 156,
        "start_time": "2022-04-11T04:49:34.691Z"
      },
      {
        "duration": 11,
        "start_time": "2022-04-11T04:49:34.849Z"
      },
      {
        "duration": 134,
        "start_time": "2022-04-11T04:49:34.862Z"
      },
      {
        "duration": 48,
        "start_time": "2022-04-11T04:49:35.002Z"
      },
      {
        "duration": 145,
        "start_time": "2022-04-11T04:49:35.052Z"
      },
      {
        "duration": 42,
        "start_time": "2022-04-11T04:49:35.200Z"
      },
      {
        "duration": 230,
        "start_time": "2022-04-11T04:49:35.244Z"
      },
      {
        "duration": 24,
        "start_time": "2022-04-11T04:49:35.476Z"
      },
      {
        "duration": 37,
        "start_time": "2022-04-11T04:49:35.502Z"
      },
      {
        "duration": 64,
        "start_time": "2022-04-11T04:49:35.542Z"
      },
      {
        "duration": 58,
        "start_time": "2022-04-11T04:49:35.608Z"
      },
      {
        "duration": 51,
        "start_time": "2022-04-11T04:49:35.673Z"
      },
      {
        "duration": 54,
        "start_time": "2022-04-11T04:49:35.726Z"
      },
      {
        "duration": 393,
        "start_time": "2022-04-11T04:49:35.783Z"
      },
      {
        "duration": 464,
        "start_time": "2022-04-11T04:49:36.179Z"
      },
      {
        "duration": 723,
        "start_time": "2022-04-11T04:49:36.646Z"
      },
      {
        "duration": 6,
        "start_time": "2022-04-11T04:49:37.371Z"
      },
      {
        "duration": 16,
        "start_time": "2022-04-11T04:49:37.378Z"
      },
      {
        "duration": 23,
        "start_time": "2022-04-11T04:49:37.396Z"
      },
      {
        "duration": 9,
        "start_time": "2022-04-11T04:49:37.421Z"
      },
      {
        "duration": 17,
        "start_time": "2022-04-11T04:49:37.432Z"
      },
      {
        "duration": 58,
        "start_time": "2022-04-11T04:49:37.451Z"
      },
      {
        "duration": 40,
        "start_time": "2022-04-11T04:49:37.511Z"
      },
      {
        "duration": 5,
        "start_time": "2022-04-11T04:49:37.553Z"
      },
      {
        "duration": 16,
        "start_time": "2022-04-11T04:49:37.560Z"
      },
      {
        "duration": 16,
        "start_time": "2022-04-11T04:49:37.578Z"
      },
      {
        "duration": 27,
        "start_time": "2022-04-11T04:49:37.595Z"
      },
      {
        "duration": 13,
        "start_time": "2022-04-11T04:49:37.624Z"
      },
      {
        "duration": 19,
        "start_time": "2022-04-11T04:49:37.639Z"
      },
      {
        "duration": 24,
        "start_time": "2022-04-11T04:49:37.660Z"
      },
      {
        "duration": 9,
        "start_time": "2022-04-11T04:49:37.691Z"
      },
      {
        "duration": 713999,
        "start_time": "2022-04-11T04:49:37.702Z"
      },
      {
        "duration": 1764,
        "start_time": "2022-04-11T05:01:31.704Z"
      },
      {
        "duration": 6,
        "start_time": "2022-04-11T05:01:33.470Z"
      },
      {
        "duration": 1741,
        "start_time": "2022-04-11T05:01:33.478Z"
      },
      {
        "duration": 6,
        "start_time": "2022-04-11T05:01:35.222Z"
      },
      {
        "duration": 5,
        "start_time": "2022-04-11T05:01:35.231Z"
      },
      {
        "duration": 35,
        "start_time": "2022-04-11T05:01:35.238Z"
      },
      {
        "duration": 374599,
        "start_time": "2022-04-11T05:01:35.276Z"
      },
      {
        "duration": 150,
        "start_time": "2022-04-11T05:07:49.878Z"
      },
      {
        "duration": 8,
        "start_time": "2022-04-11T05:07:50.030Z"
      },
      {
        "duration": 109,
        "start_time": "2022-04-11T05:07:50.041Z"
      },
      {
        "duration": 6,
        "start_time": "2022-04-11T05:07:50.153Z"
      },
      {
        "duration": 21,
        "start_time": "2022-04-11T05:07:50.162Z"
      },
      {
        "duration": 14,
        "start_time": "2022-04-11T05:07:50.185Z"
      },
      {
        "duration": 1332,
        "start_time": "2022-04-11T06:11:21.240Z"
      },
      {
        "duration": 104,
        "start_time": "2022-04-11T06:11:22.574Z"
      },
      {
        "duration": 806,
        "start_time": "2022-04-11T06:11:33.084Z"
      },
      {
        "duration": 122,
        "start_time": "2022-04-11T06:11:34.611Z"
      },
      {
        "duration": 17,
        "start_time": "2022-04-11T06:12:29.391Z"
      },
      {
        "duration": 131,
        "start_time": "2022-04-11T06:33:25.255Z"
      },
      {
        "duration": 15,
        "start_time": "2022-04-11T06:33:27.962Z"
      },
      {
        "duration": 59,
        "start_time": "2022-04-11T06:33:30.066Z"
      },
      {
        "duration": 17,
        "start_time": "2022-04-11T06:33:30.803Z"
      },
      {
        "duration": 84,
        "start_time": "2022-04-11T06:33:31.507Z"
      },
      {
        "duration": 14,
        "start_time": "2022-04-11T06:33:32.219Z"
      },
      {
        "duration": 73,
        "start_time": "2022-04-11T06:33:32.938Z"
      },
      {
        "duration": 9,
        "start_time": "2022-04-11T06:33:33.633Z"
      },
      {
        "duration": 60,
        "start_time": "2022-04-11T06:33:34.523Z"
      },
      {
        "duration": 25,
        "start_time": "2022-04-11T06:37:41.066Z"
      },
      {
        "duration": 65,
        "start_time": "2022-04-11T06:37:43.634Z"
      },
      {
        "duration": 23,
        "start_time": "2022-04-11T06:37:50.219Z"
      },
      {
        "duration": 133,
        "start_time": "2022-04-11T06:38:18.995Z"
      },
      {
        "duration": 15,
        "start_time": "2022-04-11T06:38:21.538Z"
      },
      {
        "duration": 28,
        "start_time": "2022-04-11T06:38:23.171Z"
      },
      {
        "duration": 27,
        "start_time": "2022-04-11T06:38:24.154Z"
      },
      {
        "duration": 29,
        "start_time": "2022-04-11T06:38:24.915Z"
      },
      {
        "duration": 29,
        "start_time": "2022-04-11T06:38:32.098Z"
      },
      {
        "duration": 27,
        "start_time": "2022-04-11T06:38:34.891Z"
      },
      {
        "duration": 156,
        "start_time": "2022-04-11T06:38:36.425Z"
      },
      {
        "duration": 173,
        "start_time": "2022-04-11T06:42:18.163Z"
      },
      {
        "duration": 12,
        "start_time": "2022-04-11T06:42:25.460Z"
      },
      {
        "duration": 124,
        "start_time": "2022-04-11T06:42:27.634Z"
      },
      {
        "duration": 4,
        "start_time": "2022-04-11T06:42:30.210Z"
      },
      {
        "duration": 3,
        "start_time": "2022-04-11T06:43:58.442Z"
      },
      {
        "duration": 7,
        "start_time": "2022-04-11T06:44:37.339Z"
      },
      {
        "duration": 3,
        "start_time": "2022-04-11T06:44:37.971Z"
      },
      {
        "duration": 4,
        "start_time": "2022-04-11T06:44:38.579Z"
      },
      {
        "duration": 38,
        "start_time": "2022-04-11T06:44:39.187Z"
      },
      {
        "duration": 35,
        "start_time": "2022-04-11T06:44:41.595Z"
      },
      {
        "duration": 4,
        "start_time": "2022-04-11T06:44:42.658Z"
      },
      {
        "duration": 4,
        "start_time": "2022-04-11T06:44:43.699Z"
      },
      {
        "duration": 4,
        "start_time": "2022-04-11T06:44:46.411Z"
      },
      {
        "duration": 4,
        "start_time": "2022-04-11T06:44:47.627Z"
      },
      {
        "duration": 4,
        "start_time": "2022-04-11T06:44:49.299Z"
      },
      {
        "duration": 4,
        "start_time": "2022-04-11T06:44:50.364Z"
      },
      {
        "duration": 107,
        "start_time": "2022-04-11T06:45:15.972Z"
      },
      {
        "duration": 2,
        "start_time": "2022-04-11T06:45:38.779Z"
      },
      {
        "duration": 11,
        "start_time": "2022-04-11T06:56:29.636Z"
      },
      {
        "duration": 1406,
        "start_time": "2022-04-11T06:58:00.268Z"
      },
      {
        "duration": 1216,
        "start_time": "2022-04-11T08:59:44.682Z"
      },
      {
        "duration": 105,
        "start_time": "2022-04-11T08:59:45.900Z"
      },
      {
        "duration": 796,
        "start_time": "2022-04-11T08:59:46.007Z"
      },
      {
        "duration": 127,
        "start_time": "2022-04-11T08:59:46.805Z"
      },
      {
        "duration": 19,
        "start_time": "2022-04-11T08:59:46.934Z"
      },
      {
        "duration": 141,
        "start_time": "2022-04-11T08:59:46.955Z"
      },
      {
        "duration": 15,
        "start_time": "2022-04-11T08:59:47.097Z"
      },
      {
        "duration": 73,
        "start_time": "2022-04-11T08:59:47.114Z"
      },
      {
        "duration": 17,
        "start_time": "2022-04-11T08:59:47.189Z"
      },
      {
        "duration": 100,
        "start_time": "2022-04-11T08:59:47.208Z"
      },
      {
        "duration": 14,
        "start_time": "2022-04-11T08:59:47.309Z"
      },
      {
        "duration": 87,
        "start_time": "2022-04-11T08:59:47.325Z"
      },
      {
        "duration": 6,
        "start_time": "2022-04-11T08:59:47.413Z"
      },
      {
        "duration": 74,
        "start_time": "2022-04-11T08:59:47.421Z"
      },
      {
        "duration": 25,
        "start_time": "2022-04-11T08:59:47.497Z"
      },
      {
        "duration": 75,
        "start_time": "2022-04-11T08:59:47.523Z"
      },
      {
        "duration": 23,
        "start_time": "2022-04-11T08:59:47.600Z"
      },
      {
        "duration": 154,
        "start_time": "2022-04-11T08:59:47.624Z"
      },
      {
        "duration": 14,
        "start_time": "2022-04-11T08:59:47.780Z"
      },
      {
        "duration": 28,
        "start_time": "2022-04-11T08:59:47.796Z"
      },
      {
        "duration": 32,
        "start_time": "2022-04-11T08:59:47.825Z"
      },
      {
        "duration": 47,
        "start_time": "2022-04-11T08:59:47.859Z"
      },
      {
        "duration": 31,
        "start_time": "2022-04-11T08:59:47.908Z"
      },
      {
        "duration": 45,
        "start_time": "2022-04-11T08:59:47.940Z"
      },
      {
        "duration": 163,
        "start_time": "2022-04-11T08:59:47.987Z"
      },
      {
        "duration": 188,
        "start_time": "2022-04-11T08:59:48.152Z"
      },
      {
        "duration": 12,
        "start_time": "2022-04-11T08:59:48.342Z"
      },
      {
        "duration": 134,
        "start_time": "2022-04-11T08:59:48.358Z"
      },
      {
        "duration": 3,
        "start_time": "2022-04-11T08:59:48.494Z"
      },
      {
        "duration": 4,
        "start_time": "2022-04-11T08:59:48.499Z"
      },
      {
        "duration": 7,
        "start_time": "2022-04-11T08:59:48.505Z"
      },
      {
        "duration": 6,
        "start_time": "2022-04-11T08:59:48.514Z"
      },
      {
        "duration": 5,
        "start_time": "2022-04-11T08:59:48.522Z"
      },
      {
        "duration": 70,
        "start_time": "2022-04-11T08:59:48.528Z"
      },
      {
        "duration": 34,
        "start_time": "2022-04-11T08:59:48.600Z"
      },
      {
        "duration": 4,
        "start_time": "2022-04-11T08:59:48.636Z"
      },
      {
        "duration": 6,
        "start_time": "2022-04-11T08:59:48.642Z"
      },
      {
        "duration": 13,
        "start_time": "2022-04-11T08:59:48.649Z"
      },
      {
        "duration": 5,
        "start_time": "2022-04-11T08:59:48.678Z"
      },
      {
        "duration": 5,
        "start_time": "2022-04-11T08:59:48.684Z"
      },
      {
        "duration": 6,
        "start_time": "2022-04-11T08:59:48.691Z"
      },
      {
        "duration": 4,
        "start_time": "2022-04-11T08:59:48.699Z"
      },
      {
        "duration": 3,
        "start_time": "2022-04-11T09:00:07.483Z"
      },
      {
        "duration": 3,
        "start_time": "2022-04-11T09:01:06.954Z"
      },
      {
        "duration": 8,
        "start_time": "2022-04-11T11:20:04.209Z"
      },
      {
        "duration": 41,
        "start_time": "2022-04-11T11:20:12.234Z"
      },
      {
        "duration": 1212,
        "start_time": "2022-04-11T11:20:31.794Z"
      },
      {
        "duration": 107,
        "start_time": "2022-04-11T11:20:36.355Z"
      },
      {
        "duration": 807,
        "start_time": "2022-04-11T11:20:40.924Z"
      },
      {
        "duration": 71,
        "start_time": "2022-04-11T11:20:56.837Z"
      },
      {
        "duration": 87,
        "start_time": "2022-04-11T11:20:58.436Z"
      },
      {
        "duration": 76,
        "start_time": "2022-04-11T11:20:59.714Z"
      },
      {
        "duration": 53,
        "start_time": "2022-04-11T11:21:01.139Z"
      },
      {
        "duration": 38,
        "start_time": "2022-04-11T11:21:07.539Z"
      },
      {
        "duration": 139,
        "start_time": "2022-04-11T11:21:11.475Z"
      },
      {
        "duration": 151,
        "start_time": "2022-04-11T11:21:24.092Z"
      },
      {
        "duration": 164,
        "start_time": "2022-04-11T11:21:25.595Z"
      },
      {
        "duration": 13,
        "start_time": "2022-04-11T11:21:32.963Z"
      },
      {
        "duration": 126,
        "start_time": "2022-04-11T11:21:33.804Z"
      },
      {
        "duration": 4,
        "start_time": "2022-04-11T11:21:36.020Z"
      },
      {
        "duration": 3,
        "start_time": "2022-04-11T11:21:36.832Z"
      },
      {
        "duration": 5,
        "start_time": "2022-04-11T11:21:42.069Z"
      },
      {
        "duration": 4,
        "start_time": "2022-04-11T11:21:42.715Z"
      },
      {
        "duration": 4,
        "start_time": "2022-04-11T11:21:43.379Z"
      },
      {
        "duration": 37,
        "start_time": "2022-04-11T11:21:48.707Z"
      },
      {
        "duration": 34,
        "start_time": "2022-04-11T11:21:49.277Z"
      },
      {
        "duration": 3,
        "start_time": "2022-04-11T11:22:01.955Z"
      },
      {
        "duration": 2,
        "start_time": "2022-04-11T11:22:03.252Z"
      },
      {
        "duration": 5,
        "start_time": "2022-04-11T11:22:18.299Z"
      },
      {
        "duration": 3,
        "start_time": "2022-04-11T11:23:04.683Z"
      },
      {
        "duration": 324445,
        "start_time": "2022-04-11T11:23:24.557Z"
      },
      {
        "duration": 137,
        "start_time": "2022-04-11T11:28:49.004Z"
      },
      {
        "duration": 6373,
        "start_time": "2022-04-11T11:30:44.445Z"
      },
      {
        "duration": 5,
        "start_time": "2022-04-11T11:31:08.707Z"
      },
      {
        "duration": 4,
        "start_time": "2022-04-11T11:35:47.076Z"
      },
      {
        "duration": 3,
        "start_time": "2022-04-11T11:42:57.324Z"
      },
      {
        "duration": 8,
        "start_time": "2022-04-11T11:43:19.878Z"
      },
      {
        "duration": 5,
        "start_time": "2022-04-11T11:43:36.340Z"
      },
      {
        "duration": 8,
        "start_time": "2022-04-11T11:43:46.959Z"
      },
      {
        "duration": 9,
        "start_time": "2022-04-11T11:44:44.390Z"
      },
      {
        "duration": 2,
        "start_time": "2022-04-11T11:45:27.693Z"
      },
      {
        "duration": 3,
        "start_time": "2022-04-11T11:45:28.508Z"
      },
      {
        "duration": 4,
        "start_time": "2022-04-11T11:45:29.556Z"
      },
      {
        "duration": 13473,
        "start_time": "2022-04-11T11:45:51.016Z"
      },
      {
        "duration": 10,
        "start_time": "2022-04-11T11:46:49.588Z"
      },
      {
        "duration": 8,
        "start_time": "2022-04-11T11:47:03.029Z"
      },
      {
        "duration": 638,
        "start_time": "2022-04-11T11:47:16.048Z"
      },
      {
        "duration": 4,
        "start_time": "2022-04-11T11:47:19.182Z"
      },
      {
        "duration": 8,
        "start_time": "2022-04-11T11:48:13.264Z"
      },
      {
        "duration": 3,
        "start_time": "2022-04-11T11:49:36.637Z"
      },
      {
        "duration": 4,
        "start_time": "2022-04-11T11:49:43.046Z"
      },
      {
        "duration": 5,
        "start_time": "2022-04-11T11:50:21.438Z"
      },
      {
        "duration": 2,
        "start_time": "2022-04-11T11:53:16.334Z"
      },
      {
        "duration": 3,
        "start_time": "2022-04-11T11:53:18.036Z"
      },
      {
        "duration": 4,
        "start_time": "2022-04-11T11:53:52.661Z"
      },
      {
        "duration": 7,
        "start_time": "2022-04-11T11:53:53.229Z"
      },
      {
        "duration": 5,
        "start_time": "2022-04-11T11:54:08.775Z"
      },
      {
        "duration": 7,
        "start_time": "2022-04-11T11:54:21.013Z"
      },
      {
        "duration": 15,
        "start_time": "2022-04-11T11:54:51.525Z"
      },
      {
        "duration": 11,
        "start_time": "2022-04-11T11:58:24.566Z"
      },
      {
        "duration": 11,
        "start_time": "2022-04-11T11:58:41.025Z"
      },
      {
        "duration": 10,
        "start_time": "2022-04-11T11:58:48.264Z"
      },
      {
        "duration": 4,
        "start_time": "2022-04-11T12:07:24.191Z"
      },
      {
        "duration": 4,
        "start_time": "2022-04-11T12:08:30.983Z"
      },
      {
        "duration": 4,
        "start_time": "2022-04-11T12:09:55.473Z"
      },
      {
        "duration": 54700,
        "start_time": "2022-04-11T12:09:56.280Z"
      },
      {
        "duration": 4,
        "start_time": "2022-04-11T12:13:52.201Z"
      },
      {
        "duration": 5,
        "start_time": "2022-04-11T12:19:23.175Z"
      },
      {
        "duration": 56594,
        "start_time": "2022-04-11T12:20:34.289Z"
      },
      {
        "duration": 4,
        "start_time": "2022-04-11T12:21:52.406Z"
      },
      {
        "duration": 3,
        "start_time": "2022-04-11T12:22:25.450Z"
      },
      {
        "duration": 14,
        "start_time": "2022-04-11T12:22:27.758Z"
      },
      {
        "duration": 3,
        "start_time": "2022-04-11T12:22:53.879Z"
      },
      {
        "duration": 1169,
        "start_time": "2022-04-11T12:33:26.639Z"
      },
      {
        "duration": 105,
        "start_time": "2022-04-11T12:33:27.810Z"
      },
      {
        "duration": 793,
        "start_time": "2022-04-11T12:33:27.917Z"
      },
      {
        "duration": 142,
        "start_time": "2022-04-11T12:33:28.712Z"
      },
      {
        "duration": 27,
        "start_time": "2022-04-11T12:33:28.856Z"
      },
      {
        "duration": 100,
        "start_time": "2022-04-11T12:33:28.885Z"
      },
      {
        "duration": 16,
        "start_time": "2022-04-11T12:33:28.987Z"
      },
      {
        "duration": 84,
        "start_time": "2022-04-11T12:33:29.005Z"
      },
      {
        "duration": 17,
        "start_time": "2022-04-11T12:33:29.091Z"
      },
      {
        "duration": 101,
        "start_time": "2022-04-11T12:33:29.112Z"
      },
      {
        "duration": 15,
        "start_time": "2022-04-11T12:33:29.214Z"
      },
      {
        "duration": 83,
        "start_time": "2022-04-11T12:33:29.230Z"
      },
      {
        "duration": 7,
        "start_time": "2022-04-11T12:33:29.314Z"
      },
      {
        "duration": 72,
        "start_time": "2022-04-11T12:33:29.323Z"
      },
      {
        "duration": 24,
        "start_time": "2022-04-11T12:33:29.397Z"
      },
      {
        "duration": 83,
        "start_time": "2022-04-11T12:33:29.423Z"
      },
      {
        "duration": 20,
        "start_time": "2022-04-11T12:33:29.508Z"
      },
      {
        "duration": 148,
        "start_time": "2022-04-11T12:33:29.530Z"
      },
      {
        "duration": 16,
        "start_time": "2022-04-11T12:33:29.680Z"
      },
      {
        "duration": 30,
        "start_time": "2022-04-11T12:33:29.698Z"
      },
      {
        "duration": 53,
        "start_time": "2022-04-11T12:33:29.731Z"
      },
      {
        "duration": 34,
        "start_time": "2022-04-11T12:33:29.786Z"
      },
      {
        "duration": 32,
        "start_time": "2022-04-11T12:33:29.821Z"
      },
      {
        "duration": 40,
        "start_time": "2022-04-11T12:33:29.855Z"
      },
      {
        "duration": 173,
        "start_time": "2022-04-11T12:33:29.897Z"
      },
      {
        "duration": 182,
        "start_time": "2022-04-11T12:33:30.072Z"
      },
      {
        "duration": 13,
        "start_time": "2022-04-11T12:33:30.255Z"
      },
      {
        "duration": 128,
        "start_time": "2022-04-11T12:33:30.280Z"
      },
      {
        "duration": 5,
        "start_time": "2022-04-11T12:33:30.409Z"
      },
      {
        "duration": 14,
        "start_time": "2022-04-11T12:33:30.415Z"
      },
      {
        "duration": 16,
        "start_time": "2022-04-11T12:33:30.431Z"
      },
      {
        "duration": 13,
        "start_time": "2022-04-11T12:33:30.449Z"
      },
      {
        "duration": 8,
        "start_time": "2022-04-11T12:33:30.464Z"
      },
      {
        "duration": 40,
        "start_time": "2022-04-11T12:33:30.473Z"
      },
      {
        "duration": 35,
        "start_time": "2022-04-11T12:33:30.514Z"
      },
      {
        "duration": 4,
        "start_time": "2022-04-11T12:33:30.551Z"
      },
      {
        "duration": 19,
        "start_time": "2022-04-11T12:33:30.556Z"
      },
      {
        "duration": 16,
        "start_time": "2022-04-11T12:33:30.577Z"
      },
      {
        "duration": 12,
        "start_time": "2022-04-11T12:33:30.595Z"
      },
      {
        "duration": 27,
        "start_time": "2022-04-11T12:33:30.609Z"
      },
      {
        "duration": 29,
        "start_time": "2022-04-11T12:33:30.637Z"
      },
      {
        "duration": 3,
        "start_time": "2022-04-11T12:33:36.583Z"
      },
      {
        "duration": 4,
        "start_time": "2022-04-11T12:33:46.808Z"
      },
      {
        "duration": 1190,
        "start_time": "2022-04-11T12:58:02.514Z"
      },
      {
        "duration": 116,
        "start_time": "2022-04-11T12:58:03.706Z"
      },
      {
        "duration": 914,
        "start_time": "2022-04-11T12:58:03.824Z"
      },
      {
        "duration": 203,
        "start_time": "2022-04-11T12:58:04.740Z"
      },
      {
        "duration": 19,
        "start_time": "2022-04-11T12:58:04.944Z"
      },
      {
        "duration": 122,
        "start_time": "2022-04-11T12:58:04.964Z"
      },
      {
        "duration": 17,
        "start_time": "2022-04-11T12:58:05.088Z"
      },
      {
        "duration": 81,
        "start_time": "2022-04-11T12:58:05.107Z"
      },
      {
        "duration": 18,
        "start_time": "2022-04-11T12:58:05.190Z"
      },
      {
        "duration": 100,
        "start_time": "2022-04-11T12:58:05.211Z"
      },
      {
        "duration": 15,
        "start_time": "2022-04-11T12:58:05.312Z"
      },
      {
        "duration": 79,
        "start_time": "2022-04-11T12:58:05.328Z"
      },
      {
        "duration": 6,
        "start_time": "2022-04-11T12:58:05.409Z"
      },
      {
        "duration": 70,
        "start_time": "2022-04-11T12:58:05.417Z"
      },
      {
        "duration": 24,
        "start_time": "2022-04-11T12:58:05.489Z"
      },
      {
        "duration": 98,
        "start_time": "2022-04-11T12:58:05.515Z"
      },
      {
        "duration": 18,
        "start_time": "2022-04-11T12:58:05.615Z"
      },
      {
        "duration": 176,
        "start_time": "2022-04-11T12:58:05.634Z"
      },
      {
        "duration": 15,
        "start_time": "2022-04-11T12:58:05.811Z"
      },
      {
        "duration": 31,
        "start_time": "2022-04-11T12:58:05.828Z"
      },
      {
        "duration": 49,
        "start_time": "2022-04-11T12:58:05.860Z"
      },
      {
        "duration": 36,
        "start_time": "2022-04-11T12:58:05.911Z"
      },
      {
        "duration": 48,
        "start_time": "2022-04-11T12:58:05.948Z"
      },
      {
        "duration": 33,
        "start_time": "2022-04-11T12:58:05.998Z"
      },
      {
        "duration": 182,
        "start_time": "2022-04-11T12:58:06.033Z"
      },
      {
        "duration": 183,
        "start_time": "2022-04-11T12:58:06.216Z"
      },
      {
        "duration": 14,
        "start_time": "2022-04-11T12:58:06.401Z"
      },
      {
        "duration": 141,
        "start_time": "2022-04-11T12:58:06.420Z"
      },
      {
        "duration": 4,
        "start_time": "2022-04-11T12:58:06.563Z"
      },
      {
        "duration": 3,
        "start_time": "2022-04-11T12:58:06.579Z"
      },
      {
        "duration": 9,
        "start_time": "2022-04-11T12:58:06.583Z"
      },
      {
        "duration": 6,
        "start_time": "2022-04-11T12:58:06.593Z"
      },
      {
        "duration": 5,
        "start_time": "2022-04-11T12:58:06.601Z"
      },
      {
        "duration": 36,
        "start_time": "2022-04-11T12:58:06.608Z"
      },
      {
        "duration": 57,
        "start_time": "2022-04-11T12:58:06.646Z"
      },
      {
        "duration": 4,
        "start_time": "2022-04-11T12:58:06.705Z"
      },
      {
        "duration": 11,
        "start_time": "2022-04-11T12:58:06.711Z"
      },
      {
        "duration": 11,
        "start_time": "2022-04-11T12:58:06.724Z"
      },
      {
        "duration": 10,
        "start_time": "2022-04-11T12:58:06.736Z"
      },
      {
        "duration": 5,
        "start_time": "2022-04-11T12:58:06.748Z"
      },
      {
        "duration": 6,
        "start_time": "2022-04-11T12:58:06.755Z"
      },
      {
        "duration": 3,
        "start_time": "2022-04-11T12:58:14.822Z"
      },
      {
        "duration": 4,
        "start_time": "2022-04-11T12:58:37.424Z"
      },
      {
        "duration": 1180,
        "start_time": "2022-04-11T13:20:07.235Z"
      },
      {
        "duration": 111,
        "start_time": "2022-04-11T13:20:08.417Z"
      },
      {
        "duration": 820,
        "start_time": "2022-04-11T13:20:08.529Z"
      },
      {
        "duration": 130,
        "start_time": "2022-04-11T13:20:09.352Z"
      },
      {
        "duration": 23,
        "start_time": "2022-04-11T13:20:09.484Z"
      },
      {
        "duration": 158,
        "start_time": "2022-04-11T13:20:09.509Z"
      },
      {
        "duration": 25,
        "start_time": "2022-04-11T13:20:09.668Z"
      },
      {
        "duration": 69,
        "start_time": "2022-04-11T13:20:09.695Z"
      },
      {
        "duration": 31,
        "start_time": "2022-04-11T13:20:09.765Z"
      },
      {
        "duration": 108,
        "start_time": "2022-04-11T13:20:09.800Z"
      },
      {
        "duration": 18,
        "start_time": "2022-04-11T13:20:09.911Z"
      },
      {
        "duration": 104,
        "start_time": "2022-04-11T13:20:09.931Z"
      },
      {
        "duration": 7,
        "start_time": "2022-04-11T13:20:10.037Z"
      },
      {
        "duration": 71,
        "start_time": "2022-04-11T13:20:10.045Z"
      },
      {
        "duration": 26,
        "start_time": "2022-04-11T13:20:10.118Z"
      },
      {
        "duration": 82,
        "start_time": "2022-04-11T13:20:10.145Z"
      },
      {
        "duration": 23,
        "start_time": "2022-04-11T13:20:10.228Z"
      },
      {
        "duration": 155,
        "start_time": "2022-04-11T13:20:10.252Z"
      },
      {
        "duration": 14,
        "start_time": "2022-04-11T13:20:10.410Z"
      },
      {
        "duration": 29,
        "start_time": "2022-04-11T13:20:10.426Z"
      },
      {
        "duration": 72,
        "start_time": "2022-04-11T13:20:10.457Z"
      },
      {
        "duration": 51,
        "start_time": "2022-04-11T13:20:10.530Z"
      },
      {
        "duration": 53,
        "start_time": "2022-04-11T13:20:10.583Z"
      },
      {
        "duration": 30,
        "start_time": "2022-04-11T13:20:10.638Z"
      },
      {
        "duration": 176,
        "start_time": "2022-04-11T13:20:10.679Z"
      },
      {
        "duration": 264,
        "start_time": "2022-04-11T13:20:10.857Z"
      },
      {
        "duration": 16,
        "start_time": "2022-04-11T13:20:11.123Z"
      },
      {
        "duration": 172,
        "start_time": "2022-04-11T13:20:11.144Z"
      },
      {
        "duration": 4,
        "start_time": "2022-04-11T13:20:11.317Z"
      },
      {
        "duration": 5,
        "start_time": "2022-04-11T13:20:11.323Z"
      },
      {
        "duration": 10,
        "start_time": "2022-04-11T13:20:11.329Z"
      },
      {
        "duration": 7,
        "start_time": "2022-04-11T13:20:11.341Z"
      },
      {
        "duration": 7,
        "start_time": "2022-04-11T13:20:11.349Z"
      },
      {
        "duration": 51,
        "start_time": "2022-04-11T13:20:11.358Z"
      },
      {
        "duration": 33,
        "start_time": "2022-04-11T13:20:11.411Z"
      },
      {
        "duration": 4,
        "start_time": "2022-04-11T13:20:11.446Z"
      },
      {
        "duration": 28,
        "start_time": "2022-04-11T13:20:11.451Z"
      },
      {
        "duration": 3,
        "start_time": "2022-04-11T13:20:11.481Z"
      },
      {
        "duration": 6,
        "start_time": "2022-04-11T13:20:11.486Z"
      },
      {
        "duration": 9,
        "start_time": "2022-04-11T13:20:11.493Z"
      },
      {
        "duration": 8,
        "start_time": "2022-04-11T13:20:11.504Z"
      },
      {
        "duration": 3,
        "start_time": "2022-04-11T13:20:19.725Z"
      },
      {
        "duration": 3,
        "start_time": "2022-04-11T13:20:27.592Z"
      },
      {
        "duration": 1332,
        "start_time": "2022-04-11T13:44:55.287Z"
      },
      {
        "duration": 107,
        "start_time": "2022-04-11T13:44:56.621Z"
      },
      {
        "duration": 796,
        "start_time": "2022-04-11T13:44:56.730Z"
      },
      {
        "duration": 142,
        "start_time": "2022-04-11T13:44:57.529Z"
      },
      {
        "duration": 21,
        "start_time": "2022-04-11T13:44:57.679Z"
      },
      {
        "duration": 103,
        "start_time": "2022-04-11T13:44:57.702Z"
      },
      {
        "duration": 15,
        "start_time": "2022-04-11T13:44:57.807Z"
      },
      {
        "duration": 78,
        "start_time": "2022-04-11T13:44:57.824Z"
      },
      {
        "duration": 17,
        "start_time": "2022-04-11T13:44:57.904Z"
      },
      {
        "duration": 100,
        "start_time": "2022-04-11T13:44:57.924Z"
      },
      {
        "duration": 14,
        "start_time": "2022-04-11T13:44:58.026Z"
      },
      {
        "duration": 88,
        "start_time": "2022-04-11T13:44:58.042Z"
      },
      {
        "duration": 6,
        "start_time": "2022-04-11T13:44:58.132Z"
      },
      {
        "duration": 70,
        "start_time": "2022-04-11T13:44:58.140Z"
      },
      {
        "duration": 26,
        "start_time": "2022-04-11T13:44:58.212Z"
      },
      {
        "duration": 87,
        "start_time": "2022-04-11T13:44:58.239Z"
      },
      {
        "duration": 19,
        "start_time": "2022-04-11T13:44:58.328Z"
      },
      {
        "duration": 163,
        "start_time": "2022-04-11T13:44:58.348Z"
      },
      {
        "duration": 15,
        "start_time": "2022-04-11T13:44:58.513Z"
      },
      {
        "duration": 30,
        "start_time": "2022-04-11T13:44:58.529Z"
      },
      {
        "duration": 45,
        "start_time": "2022-04-11T13:44:58.561Z"
      },
      {
        "duration": 34,
        "start_time": "2022-04-11T13:44:58.608Z"
      },
      {
        "duration": 47,
        "start_time": "2022-04-11T13:44:58.644Z"
      },
      {
        "duration": 36,
        "start_time": "2022-04-11T13:44:58.693Z"
      },
      {
        "duration": 270,
        "start_time": "2022-04-11T13:44:58.731Z"
      },
      {
        "duration": 281,
        "start_time": "2022-04-11T13:44:59.003Z"
      },
      {
        "duration": 16,
        "start_time": "2022-04-11T13:44:59.286Z"
      },
      {
        "duration": 211,
        "start_time": "2022-04-11T13:44:59.306Z"
      },
      {
        "duration": 4,
        "start_time": "2022-04-11T13:44:59.519Z"
      },
      {
        "duration": 6,
        "start_time": "2022-04-11T13:44:59.525Z"
      },
      {
        "duration": 7,
        "start_time": "2022-04-11T13:44:59.533Z"
      },
      {
        "duration": 6,
        "start_time": "2022-04-11T13:44:59.542Z"
      },
      {
        "duration": 5,
        "start_time": "2022-04-11T13:44:59.550Z"
      },
      {
        "duration": 49,
        "start_time": "2022-04-11T13:44:59.579Z"
      },
      {
        "duration": 57,
        "start_time": "2022-04-11T13:44:59.630Z"
      },
      {
        "duration": 4,
        "start_time": "2022-04-11T13:44:59.689Z"
      },
      {
        "duration": 9,
        "start_time": "2022-04-11T13:44:59.694Z"
      },
      {
        "duration": 7,
        "start_time": "2022-04-11T13:44:59.704Z"
      },
      {
        "duration": 6,
        "start_time": "2022-04-11T13:44:59.712Z"
      },
      {
        "duration": 5,
        "start_time": "2022-04-11T13:44:59.720Z"
      },
      {
        "duration": 5,
        "start_time": "2022-04-11T13:44:59.727Z"
      },
      {
        "duration": 2,
        "start_time": "2022-04-11T13:45:06.472Z"
      },
      {
        "duration": 1286,
        "start_time": "2022-04-11T13:48:14.452Z"
      },
      {
        "duration": 111,
        "start_time": "2022-04-11T13:48:15.740Z"
      },
      {
        "duration": 1140,
        "start_time": "2022-04-11T13:48:15.853Z"
      },
      {
        "duration": 137,
        "start_time": "2022-04-11T13:48:16.995Z"
      },
      {
        "duration": 19,
        "start_time": "2022-04-11T13:48:17.134Z"
      },
      {
        "duration": 113,
        "start_time": "2022-04-11T13:48:17.155Z"
      },
      {
        "duration": 16,
        "start_time": "2022-04-11T13:48:17.278Z"
      },
      {
        "duration": 67,
        "start_time": "2022-04-11T13:48:17.296Z"
      },
      {
        "duration": 18,
        "start_time": "2022-04-11T13:48:17.379Z"
      },
      {
        "duration": 103,
        "start_time": "2022-04-11T13:48:17.400Z"
      },
      {
        "duration": 16,
        "start_time": "2022-04-11T13:48:17.505Z"
      },
      {
        "duration": 89,
        "start_time": "2022-04-11T13:48:17.523Z"
      },
      {
        "duration": 6,
        "start_time": "2022-04-11T13:48:17.614Z"
      },
      {
        "duration": 72,
        "start_time": "2022-04-11T13:48:17.622Z"
      },
      {
        "duration": 27,
        "start_time": "2022-04-11T13:48:17.695Z"
      },
      {
        "duration": 81,
        "start_time": "2022-04-11T13:48:17.723Z"
      },
      {
        "duration": 20,
        "start_time": "2022-04-11T13:48:17.806Z"
      },
      {
        "duration": 266,
        "start_time": "2022-04-11T13:48:17.827Z"
      },
      {
        "duration": 18,
        "start_time": "2022-04-11T13:48:18.095Z"
      },
      {
        "duration": 65,
        "start_time": "2022-04-11T13:48:18.115Z"
      },
      {
        "duration": 51,
        "start_time": "2022-04-11T13:48:18.182Z"
      },
      {
        "duration": 71,
        "start_time": "2022-04-11T13:48:18.235Z"
      },
      {
        "duration": 51,
        "start_time": "2022-04-11T13:48:18.307Z"
      },
      {
        "duration": 41,
        "start_time": "2022-04-11T13:48:18.360Z"
      },
      {
        "duration": 179,
        "start_time": "2022-04-11T13:48:18.403Z"
      },
      {
        "duration": 184,
        "start_time": "2022-04-11T13:48:18.584Z"
      },
      {
        "duration": 21,
        "start_time": "2022-04-11T13:48:18.770Z"
      },
      {
        "duration": 139,
        "start_time": "2022-04-11T13:48:18.795Z"
      },
      {
        "duration": 4,
        "start_time": "2022-04-11T13:48:18.935Z"
      },
      {
        "duration": 11,
        "start_time": "2022-04-11T13:48:18.941Z"
      },
      {
        "duration": 12,
        "start_time": "2022-04-11T13:48:18.954Z"
      },
      {
        "duration": 12,
        "start_time": "2022-04-11T13:48:18.967Z"
      },
      {
        "duration": 6,
        "start_time": "2022-04-11T13:48:18.981Z"
      },
      {
        "duration": 34,
        "start_time": "2022-04-11T13:48:18.989Z"
      },
      {
        "duration": 55,
        "start_time": "2022-04-11T13:48:19.025Z"
      },
      {
        "duration": 4,
        "start_time": "2022-04-11T13:48:19.082Z"
      },
      {
        "duration": 6,
        "start_time": "2022-04-11T13:48:19.088Z"
      },
      {
        "duration": 6,
        "start_time": "2022-04-11T13:48:19.096Z"
      },
      {
        "duration": 5,
        "start_time": "2022-04-11T13:48:19.103Z"
      },
      {
        "duration": 5,
        "start_time": "2022-04-11T13:48:19.109Z"
      },
      {
        "duration": 5,
        "start_time": "2022-04-11T13:48:19.116Z"
      },
      {
        "duration": 3,
        "start_time": "2022-04-11T13:48:24.395Z"
      },
      {
        "duration": 1362,
        "start_time": "2022-04-11T13:53:44.659Z"
      },
      {
        "duration": 141,
        "start_time": "2022-04-11T13:53:46.023Z"
      },
      {
        "duration": 1071,
        "start_time": "2022-04-11T13:53:46.166Z"
      },
      {
        "duration": 132,
        "start_time": "2022-04-11T13:53:47.239Z"
      },
      {
        "duration": 18,
        "start_time": "2022-04-11T13:53:47.373Z"
      },
      {
        "duration": 108,
        "start_time": "2022-04-11T13:53:47.392Z"
      },
      {
        "duration": 16,
        "start_time": "2022-04-11T13:53:47.502Z"
      },
      {
        "duration": 83,
        "start_time": "2022-04-11T13:53:47.519Z"
      },
      {
        "duration": 19,
        "start_time": "2022-04-11T13:53:47.604Z"
      },
      {
        "duration": 106,
        "start_time": "2022-04-11T13:53:47.625Z"
      },
      {
        "duration": 16,
        "start_time": "2022-04-11T13:53:47.733Z"
      },
      {
        "duration": 85,
        "start_time": "2022-04-11T13:53:47.751Z"
      },
      {
        "duration": 7,
        "start_time": "2022-04-11T13:53:47.838Z"
      },
      {
        "duration": 73,
        "start_time": "2022-04-11T13:53:47.846Z"
      },
      {
        "duration": 26,
        "start_time": "2022-04-11T13:53:47.921Z"
      },
      {
        "duration": 85,
        "start_time": "2022-04-11T13:53:47.949Z"
      },
      {
        "duration": 19,
        "start_time": "2022-04-11T13:53:48.036Z"
      },
      {
        "duration": 150,
        "start_time": "2022-04-11T13:53:48.056Z"
      },
      {
        "duration": 14,
        "start_time": "2022-04-11T13:53:48.208Z"
      },
      {
        "duration": 28,
        "start_time": "2022-04-11T13:53:48.223Z"
      },
      {
        "duration": 43,
        "start_time": "2022-04-11T13:53:48.252Z"
      },
      {
        "duration": 32,
        "start_time": "2022-04-11T13:53:48.297Z"
      },
      {
        "duration": 29,
        "start_time": "2022-04-11T13:53:48.330Z"
      },
      {
        "duration": 44,
        "start_time": "2022-04-11T13:53:48.361Z"
      },
      {
        "duration": 184,
        "start_time": "2022-04-11T13:53:48.407Z"
      },
      {
        "duration": 175,
        "start_time": "2022-04-11T13:53:52.626Z"
      },
      {
        "duration": 18,
        "start_time": "2022-04-11T13:53:55.739Z"
      },
      {
        "duration": 3,
        "start_time": "2022-04-11T13:55:38.780Z"
      },
      {
        "duration": 1332,
        "start_time": "2022-04-11T13:59:44.173Z"
      },
      {
        "duration": 121,
        "start_time": "2022-04-11T13:59:49.100Z"
      },
      {
        "duration": 3,
        "start_time": "2022-04-11T13:59:50.524Z"
      },
      {
        "duration": 13,
        "start_time": "2022-04-11T14:00:02.918Z"
      },
      {
        "duration": 9,
        "start_time": "2022-04-11T14:00:06.290Z"
      },
      {
        "duration": 1149,
        "start_time": "2022-04-11T14:00:10.556Z"
      },
      {
        "duration": 133,
        "start_time": "2022-04-11T14:00:11.707Z"
      },
      {
        "duration": 27,
        "start_time": "2022-04-11T14:00:13.755Z"
      },
      {
        "duration": 1198,
        "start_time": "2022-04-11T14:02:51.728Z"
      },
      {
        "duration": 104,
        "start_time": "2022-04-11T14:02:52.929Z"
      },
      {
        "duration": 800,
        "start_time": "2022-04-11T14:02:53.035Z"
      },
      {
        "duration": 141,
        "start_time": "2022-04-11T14:02:53.837Z"
      },
      {
        "duration": 19,
        "start_time": "2022-04-11T14:02:53.980Z"
      },
      {
        "duration": 33,
        "start_time": "2022-04-11T14:02:54.000Z"
      },
      {
        "duration": 209,
        "start_time": "2022-04-11T14:02:54.035Z"
      },
      {
        "duration": 16,
        "start_time": "2022-04-11T14:02:54.246Z"
      },
      {
        "duration": 88,
        "start_time": "2022-04-11T14:02:54.264Z"
      },
      {
        "duration": 32,
        "start_time": "2022-04-11T14:02:54.355Z"
      },
      {
        "duration": 98,
        "start_time": "2022-04-11T14:02:54.389Z"
      },
      {
        "duration": 16,
        "start_time": "2022-04-11T14:02:54.489Z"
      },
      {
        "duration": 79,
        "start_time": "2022-04-11T14:02:54.507Z"
      },
      {
        "duration": 7,
        "start_time": "2022-04-11T14:02:54.588Z"
      },
      {
        "duration": 55,
        "start_time": "2022-04-11T14:02:54.596Z"
      },
      {
        "duration": 44,
        "start_time": "2022-04-11T14:02:54.653Z"
      },
      {
        "duration": 83,
        "start_time": "2022-04-11T14:02:54.699Z"
      },
      {
        "duration": 26,
        "start_time": "2022-04-11T14:02:54.784Z"
      },
      {
        "duration": 161,
        "start_time": "2022-04-11T14:02:54.811Z"
      },
      {
        "duration": 16,
        "start_time": "2022-04-11T14:02:54.973Z"
      },
      {
        "duration": 32,
        "start_time": "2022-04-11T14:02:54.991Z"
      },
      {
        "duration": 30,
        "start_time": "2022-04-11T14:02:55.025Z"
      },
      {
        "duration": 47,
        "start_time": "2022-04-11T14:02:55.057Z"
      },
      {
        "duration": 31,
        "start_time": "2022-04-11T14:02:55.106Z"
      },
      {
        "duration": 46,
        "start_time": "2022-04-11T14:02:55.139Z"
      },
      {
        "duration": 191,
        "start_time": "2022-04-11T14:02:55.187Z"
      },
      {
        "duration": 209,
        "start_time": "2022-04-11T14:02:55.380Z"
      },
      {
        "duration": 186,
        "start_time": "2022-04-11T14:02:55.592Z"
      },
      {
        "duration": 4,
        "start_time": "2022-04-11T14:02:55.780Z"
      },
      {
        "duration": 3,
        "start_time": "2022-04-11T14:03:02.368Z"
      },
      {
        "duration": 3,
        "start_time": "2022-04-11T14:15:04.177Z"
      },
      {
        "duration": 615,
        "start_time": "2022-04-11T14:17:10.459Z"
      },
      {
        "duration": 255,
        "start_time": "2022-04-11T14:18:04.525Z"
      },
      {
        "duration": 40,
        "start_time": "2022-04-11T14:21:13.015Z"
      },
      {
        "duration": 919,
        "start_time": "2022-04-11T14:21:36.795Z"
      },
      {
        "duration": 24,
        "start_time": "2022-04-11T14:21:43.888Z"
      },
      {
        "duration": 16,
        "start_time": "2022-04-11T14:24:01.138Z"
      },
      {
        "duration": 12,
        "start_time": "2022-04-11T14:24:54.537Z"
      },
      {
        "duration": 4,
        "start_time": "2022-04-11T14:27:54.857Z"
      },
      {
        "duration": 4,
        "start_time": "2022-04-11T14:31:22.334Z"
      },
      {
        "duration": 1213,
        "start_time": "2022-04-11T14:31:57.009Z"
      },
      {
        "duration": 111,
        "start_time": "2022-04-11T14:31:58.224Z"
      },
      {
        "duration": 878,
        "start_time": "2022-04-11T14:31:58.336Z"
      },
      {
        "duration": 191,
        "start_time": "2022-04-11T14:31:59.216Z"
      },
      {
        "duration": 28,
        "start_time": "2022-04-11T14:31:59.409Z"
      },
      {
        "duration": 56,
        "start_time": "2022-04-11T14:31:59.439Z"
      },
      {
        "duration": 257,
        "start_time": "2022-04-11T14:31:59.498Z"
      },
      {
        "duration": 26,
        "start_time": "2022-04-11T14:31:59.757Z"
      },
      {
        "duration": 101,
        "start_time": "2022-04-11T14:31:59.784Z"
      },
      {
        "duration": 22,
        "start_time": "2022-04-11T14:31:59.889Z"
      },
      {
        "duration": 111,
        "start_time": "2022-04-11T14:31:59.913Z"
      },
      {
        "duration": 19,
        "start_time": "2022-04-11T14:32:00.026Z"
      },
      {
        "duration": 94,
        "start_time": "2022-04-11T14:32:00.047Z"
      },
      {
        "duration": 6,
        "start_time": "2022-04-11T14:32:00.143Z"
      },
      {
        "duration": 69,
        "start_time": "2022-04-11T14:32:00.151Z"
      },
      {
        "duration": 29,
        "start_time": "2022-04-11T14:32:00.223Z"
      },
      {
        "duration": 82,
        "start_time": "2022-04-11T14:32:00.254Z"
      },
      {
        "duration": 24,
        "start_time": "2022-04-11T14:32:00.338Z"
      },
      {
        "duration": 160,
        "start_time": "2022-04-11T14:32:00.378Z"
      },
      {
        "duration": 14,
        "start_time": "2022-04-11T14:32:00.540Z"
      },
      {
        "duration": 43,
        "start_time": "2022-04-11T14:32:00.556Z"
      },
      {
        "duration": 40,
        "start_time": "2022-04-11T14:32:00.600Z"
      },
      {
        "duration": 44,
        "start_time": "2022-04-11T14:32:00.642Z"
      },
      {
        "duration": 32,
        "start_time": "2022-04-11T14:32:00.687Z"
      },
      {
        "duration": 31,
        "start_time": "2022-04-11T14:32:00.721Z"
      },
      {
        "duration": 199,
        "start_time": "2022-04-11T14:32:00.754Z"
      },
      {
        "duration": 218,
        "start_time": "2022-04-11T14:32:00.956Z"
      },
      {
        "duration": 185,
        "start_time": "2022-04-11T14:32:01.180Z"
      },
      {
        "duration": 4,
        "start_time": "2022-04-11T14:32:01.367Z"
      },
      {
        "duration": 14,
        "start_time": "2022-04-11T14:32:01.372Z"
      },
      {
        "duration": 17,
        "start_time": "2022-04-11T14:32:01.388Z"
      },
      {
        "duration": 15,
        "start_time": "2022-04-11T14:32:01.407Z"
      },
      {
        "duration": 10,
        "start_time": "2022-04-11T14:32:01.424Z"
      },
      {
        "duration": 37,
        "start_time": "2022-04-11T14:32:01.436Z"
      },
      {
        "duration": 29,
        "start_time": "2022-04-11T14:32:01.475Z"
      },
      {
        "duration": 5,
        "start_time": "2022-04-11T14:32:01.505Z"
      },
      {
        "duration": 7,
        "start_time": "2022-04-11T14:32:01.512Z"
      },
      {
        "duration": 8,
        "start_time": "2022-04-11T14:32:01.521Z"
      },
      {
        "duration": 7,
        "start_time": "2022-04-11T14:32:01.531Z"
      },
      {
        "duration": 11,
        "start_time": "2022-04-11T14:32:01.540Z"
      },
      {
        "duration": 26,
        "start_time": "2022-04-11T14:32:01.553Z"
      },
      {
        "duration": 3,
        "start_time": "2022-04-11T14:32:06.460Z"
      },
      {
        "duration": 25,
        "start_time": "2022-04-11T14:33:42.312Z"
      },
      {
        "duration": 27,
        "start_time": "2022-04-11T14:33:50.727Z"
      },
      {
        "duration": 24,
        "start_time": "2022-04-11T14:33:54.437Z"
      },
      {
        "duration": 5,
        "start_time": "2022-04-11T14:34:50.831Z"
      },
      {
        "duration": 5,
        "start_time": "2022-04-11T14:39:24.742Z"
      },
      {
        "duration": 852,
        "start_time": "2022-04-11T14:39:38.180Z"
      },
      {
        "duration": 4,
        "start_time": "2022-04-11T14:39:40.525Z"
      },
      {
        "duration": 4,
        "start_time": "2022-04-11T14:40:13.478Z"
      },
      {
        "duration": 4,
        "start_time": "2022-04-11T14:40:40.230Z"
      },
      {
        "duration": 4,
        "start_time": "2022-04-11T14:40:49.014Z"
      },
      {
        "duration": 4,
        "start_time": "2022-04-11T14:41:04.727Z"
      },
      {
        "duration": 22,
        "start_time": "2022-04-11T14:41:29.421Z"
      },
      {
        "duration": 3,
        "start_time": "2022-04-11T14:42:09.212Z"
      },
      {
        "duration": 107,
        "start_time": "2022-04-11T14:42:25.205Z"
      },
      {
        "duration": 11,
        "start_time": "2022-04-11T14:45:44.094Z"
      },
      {
        "duration": 92,
        "start_time": "2022-04-11T14:46:47.701Z"
      },
      {
        "duration": 313,
        "start_time": "2022-04-11T14:47:04.534Z"
      },
      {
        "duration": 2376,
        "start_time": "2022-04-11T14:47:38.349Z"
      },
      {
        "duration": 136,
        "start_time": "2022-04-11T14:48:24.892Z"
      },
      {
        "duration": 9651,
        "start_time": "2022-04-11T14:50:08.620Z"
      },
      {
        "duration": 36989,
        "start_time": "2022-04-11T14:50:26.813Z"
      },
      {
        "duration": 20935,
        "start_time": "2022-04-11T14:51:31.236Z"
      },
      {
        "duration": 599,
        "start_time": "2022-04-11T14:51:58.532Z"
      },
      {
        "duration": 13,
        "start_time": "2022-04-11T14:52:36.517Z"
      },
      {
        "duration": 5,
        "start_time": "2022-04-11T14:52:50.932Z"
      },
      {
        "duration": 5,
        "start_time": "2022-04-11T14:52:56.116Z"
      },
      {
        "duration": 21311,
        "start_time": "2022-04-11T15:00:49.005Z"
      },
      {
        "duration": 86,
        "start_time": "2022-04-11T15:02:39.908Z"
      },
      {
        "duration": 255,
        "start_time": "2022-04-11T15:02:47.928Z"
      },
      {
        "duration": 76409,
        "start_time": "2022-04-11T15:03:08.788Z"
      },
      {
        "duration": 4,
        "start_time": "2022-04-11T15:06:06.625Z"
      },
      {
        "duration": 348010,
        "start_time": "2022-04-11T15:06:37.661Z"
      },
      {
        "duration": 5,
        "start_time": "2022-04-11T15:12:25.677Z"
      },
      {
        "duration": 316477,
        "start_time": "2022-04-11T15:18:14.917Z"
      },
      {
        "duration": 4,
        "start_time": "2022-04-11T15:24:08.126Z"
      },
      {
        "duration": 4418,
        "start_time": "2022-04-11T15:24:12.100Z"
      },
      {
        "duration": 114,
        "start_time": "2022-04-11T15:24:37.620Z"
      },
      {
        "duration": 5,
        "start_time": "2022-04-11T15:24:44.917Z"
      },
      {
        "duration": 5,
        "start_time": "2022-04-11T15:24:46.084Z"
      },
      {
        "duration": 3,
        "start_time": "2022-04-11T15:25:01.316Z"
      },
      {
        "duration": 43,
        "start_time": "2022-04-11T15:25:04.388Z"
      },
      {
        "duration": 63,
        "start_time": "2022-04-11T15:25:06.915Z"
      },
      {
        "duration": 5,
        "start_time": "2022-04-11T15:25:08.279Z"
      },
      {
        "duration": 3,
        "start_time": "2022-04-11T15:25:28.843Z"
      },
      {
        "duration": 7,
        "start_time": "2022-04-11T15:25:31.980Z"
      },
      {
        "duration": 3,
        "start_time": "2022-04-11T15:29:03.415Z"
      },
      {
        "duration": 719462,
        "start_time": "2022-04-11T15:29:18.839Z"
      },
      {
        "duration": 4,
        "start_time": "2022-04-11T15:41:57.699Z"
      },
      {
        "duration": 7,
        "start_time": "2022-04-11T15:43:18.892Z"
      },
      {
        "duration": 2124,
        "start_time": "2022-04-11T15:43:37.668Z"
      },
      {
        "duration": 5,
        "start_time": "2022-04-11T15:43:45.156Z"
      },
      {
        "duration": 4,
        "start_time": "2022-04-11T15:44:14.848Z"
      },
      {
        "duration": 8,
        "start_time": "2022-04-11T15:44:15.686Z"
      },
      {
        "duration": 2305,
        "start_time": "2022-04-11T15:47:40.476Z"
      },
      {
        "duration": 4,
        "start_time": "2022-04-11T15:49:19.042Z"
      },
      {
        "duration": 1191,
        "start_time": "2022-04-11T15:51:40.220Z"
      },
      {
        "duration": 108,
        "start_time": "2022-04-11T15:51:41.413Z"
      },
      {
        "duration": 815,
        "start_time": "2022-04-11T15:51:41.523Z"
      },
      {
        "duration": 145,
        "start_time": "2022-04-11T15:51:42.340Z"
      },
      {
        "duration": 19,
        "start_time": "2022-04-11T15:51:42.487Z"
      },
      {
        "duration": 35,
        "start_time": "2022-04-11T15:51:42.507Z"
      },
      {
        "duration": 210,
        "start_time": "2022-04-11T15:51:42.543Z"
      },
      {
        "duration": 29,
        "start_time": "2022-04-11T15:51:42.755Z"
      },
      {
        "duration": 75,
        "start_time": "2022-04-11T15:51:42.786Z"
      },
      {
        "duration": 29,
        "start_time": "2022-04-11T15:51:42.864Z"
      },
      {
        "duration": 110,
        "start_time": "2022-04-11T15:51:42.895Z"
      },
      {
        "duration": 17,
        "start_time": "2022-04-11T15:51:43.007Z"
      },
      {
        "duration": 82,
        "start_time": "2022-04-11T15:51:43.026Z"
      },
      {
        "duration": 7,
        "start_time": "2022-04-11T15:51:43.110Z"
      },
      {
        "duration": 74,
        "start_time": "2022-04-11T15:51:43.118Z"
      },
      {
        "duration": 30,
        "start_time": "2022-04-11T15:51:43.194Z"
      },
      {
        "duration": 84,
        "start_time": "2022-04-11T15:51:43.226Z"
      },
      {
        "duration": 28,
        "start_time": "2022-04-11T15:51:43.311Z"
      },
      {
        "duration": 160,
        "start_time": "2022-04-11T15:51:43.340Z"
      },
      {
        "duration": 15,
        "start_time": "2022-04-11T15:51:43.502Z"
      },
      {
        "duration": 31,
        "start_time": "2022-04-11T15:51:43.518Z"
      },
      {
        "duration": 45,
        "start_time": "2022-04-11T15:51:43.550Z"
      },
      {
        "duration": 31,
        "start_time": "2022-04-11T15:51:43.596Z"
      },
      {
        "duration": 30,
        "start_time": "2022-04-11T15:51:43.629Z"
      },
      {
        "duration": 43,
        "start_time": "2022-04-11T15:51:43.661Z"
      },
      {
        "duration": 192,
        "start_time": "2022-04-11T15:51:43.706Z"
      },
      {
        "duration": 209,
        "start_time": "2022-04-11T15:51:43.900Z"
      },
      {
        "duration": 176,
        "start_time": "2022-04-11T15:51:44.114Z"
      },
      {
        "duration": 3,
        "start_time": "2022-04-11T15:51:44.292Z"
      },
      {
        "duration": 4,
        "start_time": "2022-04-11T15:51:44.297Z"
      },
      {
        "duration": 7,
        "start_time": "2022-04-11T15:51:44.303Z"
      },
      {
        "duration": 7,
        "start_time": "2022-04-11T15:51:44.312Z"
      },
      {
        "duration": 5,
        "start_time": "2022-04-11T15:51:44.321Z"
      },
      {
        "duration": 58,
        "start_time": "2022-04-11T15:51:44.328Z"
      },
      {
        "duration": 27,
        "start_time": "2022-04-11T15:51:44.388Z"
      },
      {
        "duration": 4,
        "start_time": "2022-04-11T15:51:44.417Z"
      },
      {
        "duration": 5,
        "start_time": "2022-04-11T15:51:44.423Z"
      },
      {
        "duration": 6,
        "start_time": "2022-04-11T15:51:44.430Z"
      },
      {
        "duration": 7,
        "start_time": "2022-04-11T15:51:44.437Z"
      },
      {
        "duration": 5,
        "start_time": "2022-04-11T15:51:44.446Z"
      },
      {
        "duration": 29,
        "start_time": "2022-04-11T15:51:44.452Z"
      },
      {
        "duration": 4,
        "start_time": "2022-04-11T15:51:44.483Z"
      },
      {
        "duration": 2622858,
        "start_time": "2022-04-11T15:51:44.488Z"
      },
      {
        "duration": 4,
        "start_time": "2022-04-11T16:35:27.350Z"
      },
      {
        "duration": 8,
        "start_time": "2022-04-11T16:35:27.356Z"
      },
      {
        "duration": 5,
        "start_time": "2022-04-11T16:35:27.365Z"
      },
      {
        "duration": 2408,
        "start_time": "2022-04-11T16:35:27.372Z"
      },
      {
        "duration": 7,
        "start_time": "2022-04-11T16:35:29.782Z"
      },
      {
        "duration": 4,
        "start_time": "2022-04-11T16:35:29.791Z"
      },
      {
        "duration": 7,
        "start_time": "2022-04-11T16:35:29.797Z"
      },
      {
        "duration": 10,
        "start_time": "2022-04-11T16:35:29.805Z"
      },
      {
        "duration": 9,
        "start_time": "2022-04-11T16:35:29.816Z"
      },
      {
        "duration": 6,
        "start_time": "2022-04-11T16:35:29.827Z"
      },
      {
        "duration": 6,
        "start_time": "2022-04-11T16:35:29.835Z"
      },
      {
        "duration": 5,
        "start_time": "2022-04-11T16:35:29.843Z"
      },
      {
        "duration": 9,
        "start_time": "2022-04-11T16:35:29.850Z"
      },
      {
        "duration": 2,
        "start_time": "2022-04-11T16:35:29.880Z"
      },
      {
        "duration": 10,
        "start_time": "2022-04-11T16:35:29.884Z"
      },
      {
        "duration": 1278,
        "start_time": "2022-04-11T17:47:53.631Z"
      },
      {
        "duration": 108,
        "start_time": "2022-04-11T17:47:54.911Z"
      },
      {
        "duration": 903,
        "start_time": "2022-04-11T17:47:55.020Z"
      },
      {
        "duration": 160,
        "start_time": "2022-04-11T17:47:55.926Z"
      },
      {
        "duration": 19,
        "start_time": "2022-04-11T17:47:56.088Z"
      },
      {
        "duration": 52,
        "start_time": "2022-04-11T17:47:56.108Z"
      },
      {
        "duration": 201,
        "start_time": "2022-04-11T17:47:56.162Z"
      },
      {
        "duration": 16,
        "start_time": "2022-04-11T17:47:56.365Z"
      },
      {
        "duration": 86,
        "start_time": "2022-04-11T17:47:56.383Z"
      },
      {
        "duration": 21,
        "start_time": "2022-04-11T17:47:56.472Z"
      },
      {
        "duration": 109,
        "start_time": "2022-04-11T17:47:56.494Z"
      },
      {
        "duration": 16,
        "start_time": "2022-04-11T17:47:56.605Z"
      },
      {
        "duration": 82,
        "start_time": "2022-04-11T17:47:56.623Z"
      },
      {
        "duration": 6,
        "start_time": "2022-04-11T17:47:56.707Z"
      },
      {
        "duration": 68,
        "start_time": "2022-04-11T17:47:56.715Z"
      },
      {
        "duration": 30,
        "start_time": "2022-04-11T17:47:56.785Z"
      },
      {
        "duration": 83,
        "start_time": "2022-04-11T17:47:56.816Z"
      },
      {
        "duration": 25,
        "start_time": "2022-04-11T17:47:56.900Z"
      },
      {
        "duration": 159,
        "start_time": "2022-04-11T17:47:56.926Z"
      },
      {
        "duration": 14,
        "start_time": "2022-04-11T17:47:57.087Z"
      },
      {
        "duration": 28,
        "start_time": "2022-04-11T17:47:57.103Z"
      },
      {
        "duration": 28,
        "start_time": "2022-04-11T17:47:57.148Z"
      },
      {
        "duration": 30,
        "start_time": "2022-04-11T17:47:57.177Z"
      },
      {
        "duration": 48,
        "start_time": "2022-04-11T17:47:57.209Z"
      },
      {
        "duration": 31,
        "start_time": "2022-04-11T17:47:57.259Z"
      },
      {
        "duration": 193,
        "start_time": "2022-04-11T17:47:57.292Z"
      },
      {
        "duration": 208,
        "start_time": "2022-04-11T17:47:57.486Z"
      },
      {
        "duration": 193,
        "start_time": "2022-04-11T17:47:57.698Z"
      },
      {
        "duration": 3,
        "start_time": "2022-04-11T17:47:57.893Z"
      },
      {
        "duration": 4,
        "start_time": "2022-04-11T17:47:57.898Z"
      },
      {
        "duration": 7,
        "start_time": "2022-04-11T17:47:57.904Z"
      },
      {
        "duration": 5,
        "start_time": "2022-04-11T17:47:57.913Z"
      },
      {
        "duration": 6,
        "start_time": "2022-04-11T17:47:57.919Z"
      },
      {
        "duration": 52,
        "start_time": "2022-04-11T17:47:57.926Z"
      },
      {
        "duration": 26,
        "start_time": "2022-04-11T17:47:57.980Z"
      },
      {
        "duration": 3,
        "start_time": "2022-04-11T17:47:58.008Z"
      },
      {
        "duration": 5,
        "start_time": "2022-04-11T17:47:58.013Z"
      },
      {
        "duration": 28,
        "start_time": "2022-04-11T17:47:58.020Z"
      },
      {
        "duration": 4,
        "start_time": "2022-04-11T17:47:58.049Z"
      },
      {
        "duration": 6,
        "start_time": "2022-04-11T17:47:58.054Z"
      },
      {
        "duration": 5,
        "start_time": "2022-04-11T17:47:58.062Z"
      },
      {
        "duration": 5,
        "start_time": "2022-04-11T17:47:58.068Z"
      },
      {
        "duration": 2657455,
        "start_time": "2022-04-11T17:47:58.075Z"
      },
      {
        "duration": 3,
        "start_time": "2022-04-11T18:32:15.531Z"
      },
      {
        "duration": 5,
        "start_time": "2022-04-11T18:32:15.536Z"
      },
      {
        "duration": 5,
        "start_time": "2022-04-11T18:32:15.542Z"
      },
      {
        "duration": 2280,
        "start_time": "2022-04-11T18:32:15.548Z"
      },
      {
        "duration": 5,
        "start_time": "2022-04-11T18:32:17.829Z"
      },
      {
        "duration": 12,
        "start_time": "2022-04-11T18:32:17.835Z"
      },
      {
        "duration": 7,
        "start_time": "2022-04-11T18:32:17.849Z"
      },
      {
        "duration": 4,
        "start_time": "2022-04-11T18:32:17.857Z"
      },
      {
        "duration": 4,
        "start_time": "2022-04-11T18:32:17.863Z"
      },
      {
        "duration": 5,
        "start_time": "2022-04-11T18:32:17.868Z"
      },
      {
        "duration": 5,
        "start_time": "2022-04-11T18:32:17.874Z"
      },
      {
        "duration": 4,
        "start_time": "2022-04-11T18:32:17.881Z"
      },
      {
        "duration": 7,
        "start_time": "2022-04-11T18:32:17.887Z"
      },
      {
        "duration": 5,
        "start_time": "2022-04-11T18:32:17.896Z"
      },
      {
        "duration": 9,
        "start_time": "2022-04-11T18:32:17.902Z"
      },
      {
        "duration": 1240,
        "start_time": "2022-04-11T18:43:45.668Z"
      },
      {
        "duration": 109,
        "start_time": "2022-04-11T18:43:46.910Z"
      },
      {
        "duration": 879,
        "start_time": "2022-04-11T18:43:47.021Z"
      },
      {
        "duration": 136,
        "start_time": "2022-04-11T18:43:47.902Z"
      },
      {
        "duration": 24,
        "start_time": "2022-04-11T18:43:48.040Z"
      },
      {
        "duration": 38,
        "start_time": "2022-04-11T18:43:48.066Z"
      },
      {
        "duration": 217,
        "start_time": "2022-04-11T18:43:48.105Z"
      },
      {
        "duration": 27,
        "start_time": "2022-04-11T18:43:48.324Z"
      },
      {
        "duration": 78,
        "start_time": "2022-04-11T18:43:48.352Z"
      },
      {
        "duration": 32,
        "start_time": "2022-04-11T18:43:48.434Z"
      },
      {
        "duration": 115,
        "start_time": "2022-04-11T18:43:48.467Z"
      },
      {
        "duration": 19,
        "start_time": "2022-04-11T18:43:48.584Z"
      },
      {
        "duration": 86,
        "start_time": "2022-04-11T18:43:48.604Z"
      },
      {
        "duration": 7,
        "start_time": "2022-04-11T18:43:48.691Z"
      },
      {
        "duration": 70,
        "start_time": "2022-04-11T18:43:48.700Z"
      },
      {
        "duration": 30,
        "start_time": "2022-04-11T18:43:48.772Z"
      },
      {
        "duration": 85,
        "start_time": "2022-04-11T18:43:48.804Z"
      },
      {
        "duration": 26,
        "start_time": "2022-04-11T18:43:48.891Z"
      },
      {
        "duration": 164,
        "start_time": "2022-04-11T18:43:48.919Z"
      },
      {
        "duration": 15,
        "start_time": "2022-04-11T18:43:49.085Z"
      },
      {
        "duration": 29,
        "start_time": "2022-04-11T18:43:49.101Z"
      },
      {
        "duration": 29,
        "start_time": "2022-04-11T18:43:49.148Z"
      },
      {
        "duration": 31,
        "start_time": "2022-04-11T18:43:49.178Z"
      },
      {
        "duration": 50,
        "start_time": "2022-04-11T18:43:49.211Z"
      },
      {
        "duration": 28,
        "start_time": "2022-04-11T18:43:49.263Z"
      },
      {
        "duration": 203,
        "start_time": "2022-04-11T18:43:49.293Z"
      },
      {
        "duration": 213,
        "start_time": "2022-04-11T18:43:49.497Z"
      },
      {
        "duration": 179,
        "start_time": "2022-04-11T18:43:49.714Z"
      },
      {
        "duration": 3,
        "start_time": "2022-04-11T18:43:49.895Z"
      },
      {
        "duration": 6,
        "start_time": "2022-04-11T18:43:49.900Z"
      },
      {
        "duration": 8,
        "start_time": "2022-04-11T18:43:49.907Z"
      },
      {
        "duration": 7,
        "start_time": "2022-04-11T18:43:49.917Z"
      },
      {
        "duration": 24,
        "start_time": "2022-04-11T18:43:49.926Z"
      },
      {
        "duration": 35,
        "start_time": "2022-04-11T18:43:49.951Z"
      },
      {
        "duration": 27,
        "start_time": "2022-04-11T18:43:49.988Z"
      },
      {
        "duration": 4,
        "start_time": "2022-04-11T18:43:50.017Z"
      },
      {
        "duration": 25,
        "start_time": "2022-04-11T18:43:50.023Z"
      },
      {
        "duration": 5,
        "start_time": "2022-04-11T18:43:50.050Z"
      },
      {
        "duration": 9,
        "start_time": "2022-04-11T18:43:50.056Z"
      },
      {
        "duration": 4,
        "start_time": "2022-04-11T18:43:50.067Z"
      },
      {
        "duration": 7,
        "start_time": "2022-04-11T18:43:50.073Z"
      },
      {
        "duration": 3,
        "start_time": "2022-04-11T18:44:18.439Z"
      },
      {
        "duration": 3,
        "start_time": "2022-04-11T18:44:26.670Z"
      },
      {
        "duration": 1176,
        "start_time": "2022-04-11T18:45:04.095Z"
      },
      {
        "duration": 110,
        "start_time": "2022-04-11T18:45:05.274Z"
      },
      {
        "duration": 813,
        "start_time": "2022-04-11T18:45:05.386Z"
      },
      {
        "duration": 134,
        "start_time": "2022-04-11T18:45:06.201Z"
      },
      {
        "duration": 29,
        "start_time": "2022-04-11T18:45:06.337Z"
      },
      {
        "duration": 36,
        "start_time": "2022-04-11T18:45:06.368Z"
      },
      {
        "duration": 206,
        "start_time": "2022-04-11T18:45:06.405Z"
      },
      {
        "duration": 17,
        "start_time": "2022-04-11T18:45:06.613Z"
      },
      {
        "duration": 88,
        "start_time": "2022-04-11T18:45:06.631Z"
      },
      {
        "duration": 32,
        "start_time": "2022-04-11T18:45:06.721Z"
      },
      {
        "duration": 102,
        "start_time": "2022-04-11T18:45:06.754Z"
      },
      {
        "duration": 17,
        "start_time": "2022-04-11T18:45:06.858Z"
      },
      {
        "duration": 86,
        "start_time": "2022-04-11T18:45:06.877Z"
      },
      {
        "duration": 6,
        "start_time": "2022-04-11T18:45:06.965Z"
      },
      {
        "duration": 58,
        "start_time": "2022-04-11T18:45:06.973Z"
      },
      {
        "duration": 32,
        "start_time": "2022-04-11T18:45:07.047Z"
      },
      {
        "duration": 87,
        "start_time": "2022-04-11T18:45:07.081Z"
      },
      {
        "duration": 24,
        "start_time": "2022-04-11T18:45:07.170Z"
      },
      {
        "duration": 157,
        "start_time": "2022-04-11T18:45:07.196Z"
      },
      {
        "duration": 14,
        "start_time": "2022-04-11T18:45:07.355Z"
      },
      {
        "duration": 28,
        "start_time": "2022-04-11T18:45:07.371Z"
      },
      {
        "duration": 49,
        "start_time": "2022-04-11T18:45:07.401Z"
      },
      {
        "duration": 33,
        "start_time": "2022-04-11T18:45:07.452Z"
      },
      {
        "duration": 29,
        "start_time": "2022-04-11T18:45:07.487Z"
      },
      {
        "duration": 41,
        "start_time": "2022-04-11T18:45:07.518Z"
      },
      {
        "duration": 188,
        "start_time": "2022-04-11T18:45:07.560Z"
      },
      {
        "duration": 216,
        "start_time": "2022-04-11T18:45:07.750Z"
      },
      {
        "duration": 176,
        "start_time": "2022-04-11T18:45:07.971Z"
      },
      {
        "duration": 4,
        "start_time": "2022-04-11T18:45:08.149Z"
      },
      {
        "duration": 4,
        "start_time": "2022-04-11T18:45:08.155Z"
      },
      {
        "duration": 8,
        "start_time": "2022-04-11T18:45:08.161Z"
      },
      {
        "duration": 5,
        "start_time": "2022-04-11T18:45:08.170Z"
      },
      {
        "duration": 5,
        "start_time": "2022-04-11T18:45:08.177Z"
      },
      {
        "duration": 35,
        "start_time": "2022-04-11T18:45:08.183Z"
      },
      {
        "duration": 52,
        "start_time": "2022-04-11T18:45:08.220Z"
      },
      {
        "duration": 4,
        "start_time": "2022-04-11T18:45:08.274Z"
      },
      {
        "duration": 5,
        "start_time": "2022-04-11T18:45:08.280Z"
      },
      {
        "duration": 4,
        "start_time": "2022-04-11T18:45:08.287Z"
      },
      {
        "duration": 4,
        "start_time": "2022-04-11T18:45:08.293Z"
      },
      {
        "duration": 5,
        "start_time": "2022-04-11T18:45:08.299Z"
      },
      {
        "duration": 43,
        "start_time": "2022-04-11T18:45:08.306Z"
      },
      {
        "duration": 6,
        "start_time": "2022-04-11T18:45:08.351Z"
      },
      {
        "duration": 1819651,
        "start_time": "2022-04-11T18:45:08.359Z"
      },
      {
        "duration": 3,
        "start_time": "2022-04-11T19:15:28.012Z"
      },
      {
        "duration": 7,
        "start_time": "2022-04-11T19:15:28.016Z"
      },
      {
        "duration": 4,
        "start_time": "2022-04-11T19:15:28.025Z"
      },
      {
        "duration": 2109,
        "start_time": "2022-04-11T19:15:28.030Z"
      },
      {
        "duration": 10,
        "start_time": "2022-04-11T19:15:30.140Z"
      },
      {
        "duration": 2,
        "start_time": "2022-04-11T19:15:30.152Z"
      },
      {
        "duration": 5,
        "start_time": "2022-04-11T19:15:30.156Z"
      },
      {
        "duration": 7,
        "start_time": "2022-04-11T19:15:30.163Z"
      },
      {
        "duration": 17,
        "start_time": "2022-04-11T19:15:30.172Z"
      },
      {
        "duration": 7,
        "start_time": "2022-04-11T19:15:30.191Z"
      },
      {
        "duration": 6,
        "start_time": "2022-04-11T19:15:30.199Z"
      },
      {
        "duration": 5,
        "start_time": "2022-04-11T19:15:30.207Z"
      },
      {
        "duration": 5,
        "start_time": "2022-04-11T19:15:30.213Z"
      },
      {
        "duration": 9,
        "start_time": "2022-04-11T19:15:30.219Z"
      },
      {
        "duration": 6,
        "start_time": "2022-04-11T19:15:30.229Z"
      },
      {
        "duration": 2217519,
        "start_time": "2022-04-11T19:15:30.236Z"
      },
      {
        "duration": 4,
        "start_time": "2022-04-11T19:52:27.756Z"
      },
      {
        "duration": 5,
        "start_time": "2022-04-11T19:52:27.762Z"
      },
      {
        "duration": 4,
        "start_time": "2022-04-11T19:52:27.769Z"
      },
      {
        "duration": 7,
        "start_time": "2022-04-11T19:52:27.775Z"
      },
      {
        "duration": 4280,
        "start_time": "2022-04-11T19:52:27.783Z"
      },
      {
        "duration": 5,
        "start_time": "2022-04-11T19:52:32.065Z"
      },
      {
        "duration": 5,
        "start_time": "2022-04-11T19:52:32.071Z"
      },
      {
        "duration": 7,
        "start_time": "2022-04-11T19:52:32.078Z"
      },
      {
        "duration": 7,
        "start_time": "2022-04-11T19:52:32.087Z"
      },
      {
        "duration": 8,
        "start_time": "2022-04-11T19:52:32.096Z"
      },
      {
        "duration": 4,
        "start_time": "2022-04-11T19:52:32.106Z"
      },
      {
        "duration": 6,
        "start_time": "2022-04-11T19:52:32.112Z"
      },
      {
        "duration": 6,
        "start_time": "2022-04-11T19:52:32.149Z"
      },
      {
        "duration": 7,
        "start_time": "2022-04-11T19:52:32.156Z"
      },
      {
        "duration": 8,
        "start_time": "2022-04-11T19:52:32.164Z"
      },
      {
        "duration": 7,
        "start_time": "2022-04-11T19:52:32.174Z"
      },
      {
        "duration": 875,
        "start_time": "2022-04-11T19:52:32.183Z"
      },
      {
        "duration": 3,
        "start_time": "2022-04-11T19:52:33.060Z"
      },
      {
        "duration": 21083,
        "start_time": "2022-04-11T19:52:33.064Z"
      },
      {
        "duration": 579,
        "start_time": "2022-04-11T19:52:54.149Z"
      },
      {
        "duration": 27,
        "start_time": "2022-04-11T19:52:54.730Z"
      },
      {
        "duration": 5,
        "start_time": "2022-04-11T19:52:54.759Z"
      },
      {
        "duration": 311501,
        "start_time": "2022-04-11T19:52:54.769Z"
      },
      {
        "duration": 4656,
        "start_time": "2022-04-11T19:58:06.272Z"
      },
      {
        "duration": 129,
        "start_time": "2022-04-11T19:58:10.930Z"
      },
      {
        "duration": 5,
        "start_time": "2022-04-11T19:58:11.061Z"
      },
      {
        "duration": 5,
        "start_time": "2022-04-11T19:58:11.067Z"
      },
      {
        "duration": 83,
        "start_time": "2022-04-11T19:58:11.073Z"
      },
      {
        "duration": 91,
        "start_time": "2022-04-11T19:58:11.158Z"
      },
      {
        "duration": 11,
        "start_time": "2022-04-11T19:58:11.250Z"
      },
      {
        "duration": 6,
        "start_time": "2022-04-11T19:58:11.348Z"
      },
      {
        "duration": 11,
        "start_time": "2022-04-11T19:58:11.356Z"
      },
      {
        "duration": 118,
        "start_time": "2022-04-11T19:58:11.369Z"
      },
      {
        "duration": 0,
        "start_time": "2022-04-11T19:58:11.488Z"
      },
      {
        "duration": 0,
        "start_time": "2022-04-11T19:58:11.489Z"
      },
      {
        "duration": 0,
        "start_time": "2022-04-11T19:58:11.490Z"
      },
      {
        "duration": 0,
        "start_time": "2022-04-11T19:58:11.491Z"
      },
      {
        "duration": 0,
        "start_time": "2022-04-11T19:58:11.493Z"
      },
      {
        "duration": 9,
        "start_time": "2022-04-11T20:00:03.460Z"
      },
      {
        "duration": 2468,
        "start_time": "2022-04-11T20:00:14.491Z"
      },
      {
        "duration": 9,
        "start_time": "2022-04-11T20:05:42.578Z"
      },
      {
        "duration": 3,
        "start_time": "2022-04-11T20:06:05.097Z"
      },
      {
        "duration": 669,
        "start_time": "2022-04-11T20:06:43.588Z"
      },
      {
        "duration": 3,
        "start_time": "2022-04-11T20:06:45.920Z"
      },
      {
        "duration": 29853,
        "start_time": "2022-04-11T20:06:48.149Z"
      },
      {
        "duration": 837,
        "start_time": "2022-04-11T20:07:49.153Z"
      },
      {
        "duration": 16,
        "start_time": "2022-04-11T20:07:56.090Z"
      },
      {
        "duration": 5,
        "start_time": "2022-04-11T20:07:57.992Z"
      },
      {
        "duration": 319263,
        "start_time": "2022-04-11T20:08:04.297Z"
      },
      {
        "duration": 2398,
        "start_time": "2022-04-11T20:13:48.514Z"
      },
      {
        "duration": 1226,
        "start_time": "2022-04-11T20:14:02.462Z"
      },
      {
        "duration": 108,
        "start_time": "2022-04-11T20:14:03.690Z"
      },
      {
        "duration": 854,
        "start_time": "2022-04-11T20:14:03.800Z"
      },
      {
        "duration": 148,
        "start_time": "2022-04-11T20:14:04.656Z"
      },
      {
        "duration": 21,
        "start_time": "2022-04-11T20:14:04.806Z"
      },
      {
        "duration": 54,
        "start_time": "2022-04-11T20:14:04.829Z"
      },
      {
        "duration": 211,
        "start_time": "2022-04-11T20:14:04.885Z"
      },
      {
        "duration": 18,
        "start_time": "2022-04-11T20:14:05.098Z"
      },
      {
        "duration": 95,
        "start_time": "2022-04-11T20:14:05.118Z"
      },
      {
        "duration": 35,
        "start_time": "2022-04-11T20:14:05.217Z"
      },
      {
        "duration": 105,
        "start_time": "2022-04-11T20:14:05.254Z"
      },
      {
        "duration": 19,
        "start_time": "2022-04-11T20:14:05.361Z"
      },
      {
        "duration": 96,
        "start_time": "2022-04-11T20:14:05.382Z"
      },
      {
        "duration": 8,
        "start_time": "2022-04-11T20:14:05.480Z"
      },
      {
        "duration": 72,
        "start_time": "2022-04-11T20:14:05.490Z"
      },
      {
        "duration": 31,
        "start_time": "2022-04-11T20:14:05.564Z"
      },
      {
        "duration": 94,
        "start_time": "2022-04-11T20:14:05.597Z"
      },
      {
        "duration": 28,
        "start_time": "2022-04-11T20:14:05.692Z"
      },
      {
        "duration": 164,
        "start_time": "2022-04-11T20:14:05.722Z"
      },
      {
        "duration": 16,
        "start_time": "2022-04-11T20:14:05.888Z"
      },
      {
        "duration": 44,
        "start_time": "2022-04-11T20:14:05.905Z"
      },
      {
        "duration": 29,
        "start_time": "2022-04-11T20:14:05.951Z"
      },
      {
        "duration": 30,
        "start_time": "2022-04-11T20:14:05.982Z"
      },
      {
        "duration": 54,
        "start_time": "2022-04-11T20:14:06.014Z"
      },
      {
        "duration": 29,
        "start_time": "2022-04-11T20:14:06.069Z"
      },
      {
        "duration": 214,
        "start_time": "2022-04-11T20:14:06.100Z"
      },
      {
        "duration": 228,
        "start_time": "2022-04-11T20:14:06.315Z"
      },
      {
        "duration": 177,
        "start_time": "2022-04-11T20:14:06.547Z"
      },
      {
        "duration": 3,
        "start_time": "2022-04-11T20:14:06.726Z"
      },
      {
        "duration": 17,
        "start_time": "2022-04-11T20:14:06.731Z"
      },
      {
        "duration": 6,
        "start_time": "2022-04-11T20:14:06.749Z"
      },
      {
        "duration": 9,
        "start_time": "2022-04-11T20:14:06.757Z"
      },
      {
        "duration": 5,
        "start_time": "2022-04-11T20:14:06.767Z"
      },
      {
        "duration": 35,
        "start_time": "2022-04-11T20:14:06.774Z"
      },
      {
        "duration": 50,
        "start_time": "2022-04-11T20:14:06.811Z"
      },
      {
        "duration": 4,
        "start_time": "2022-04-11T20:14:06.862Z"
      },
      {
        "duration": 6,
        "start_time": "2022-04-11T20:14:06.867Z"
      },
      {
        "duration": 5,
        "start_time": "2022-04-11T20:14:06.874Z"
      },
      {
        "duration": 6,
        "start_time": "2022-04-11T20:14:06.880Z"
      },
      {
        "duration": 4,
        "start_time": "2022-04-11T20:14:06.887Z"
      },
      {
        "duration": 4,
        "start_time": "2022-04-11T20:14:06.893Z"
      },
      {
        "duration": 4,
        "start_time": "2022-04-11T20:14:06.898Z"
      },
      {
        "duration": 1875086,
        "start_time": "2022-04-11T20:14:06.903Z"
      },
      {
        "duration": 3,
        "start_time": "2022-04-11T20:45:21.991Z"
      },
      {
        "duration": 4,
        "start_time": "2022-04-11T20:45:21.996Z"
      },
      {
        "duration": 9,
        "start_time": "2022-04-11T20:45:22.002Z"
      },
      {
        "duration": 3066,
        "start_time": "2022-04-11T20:45:22.013Z"
      },
      {
        "duration": 5,
        "start_time": "2022-04-11T20:45:25.081Z"
      },
      {
        "duration": 297,
        "start_time": "2022-04-11T20:45:25.087Z"
      },
      {
        "duration": 6,
        "start_time": "2022-04-11T20:45:25.386Z"
      },
      {
        "duration": 5,
        "start_time": "2022-04-11T20:45:25.394Z"
      },
      {
        "duration": 5,
        "start_time": "2022-04-11T20:45:25.400Z"
      },
      {
        "duration": 5,
        "start_time": "2022-04-11T20:45:25.406Z"
      },
      {
        "duration": 4,
        "start_time": "2022-04-11T20:45:25.412Z"
      },
      {
        "duration": 5,
        "start_time": "2022-04-11T20:45:25.417Z"
      },
      {
        "duration": 4,
        "start_time": "2022-04-11T20:45:25.423Z"
      },
      {
        "duration": 4,
        "start_time": "2022-04-11T20:45:25.429Z"
      },
      {
        "duration": 6,
        "start_time": "2022-04-11T20:45:25.434Z"
      },
      {
        "duration": 2280408,
        "start_time": "2022-04-11T20:45:25.442Z"
      },
      {
        "duration": 4,
        "start_time": "2022-04-11T21:23:25.852Z"
      },
      {
        "duration": 5,
        "start_time": "2022-04-11T21:23:25.857Z"
      },
      {
        "duration": 4,
        "start_time": "2022-04-11T21:23:25.863Z"
      },
      {
        "duration": 4,
        "start_time": "2022-04-11T21:23:25.869Z"
      },
      {
        "duration": 4300,
        "start_time": "2022-04-11T21:23:25.875Z"
      },
      {
        "duration": 6,
        "start_time": "2022-04-11T21:23:30.177Z"
      },
      {
        "duration": 8,
        "start_time": "2022-04-11T21:23:30.184Z"
      },
      {
        "duration": 5,
        "start_time": "2022-04-11T21:23:30.194Z"
      },
      {
        "duration": 49,
        "start_time": "2022-04-11T21:23:30.200Z"
      },
      {
        "duration": 5,
        "start_time": "2022-04-11T21:23:30.251Z"
      },
      {
        "duration": 5,
        "start_time": "2022-04-11T21:23:30.258Z"
      },
      {
        "duration": 6,
        "start_time": "2022-04-11T21:23:30.264Z"
      },
      {
        "duration": 13,
        "start_time": "2022-04-11T21:23:30.271Z"
      },
      {
        "duration": 6,
        "start_time": "2022-04-11T21:23:30.286Z"
      },
      {
        "duration": 6,
        "start_time": "2022-04-11T21:23:30.294Z"
      },
      {
        "duration": 13,
        "start_time": "2022-04-11T21:23:30.302Z"
      },
      {
        "duration": 9,
        "start_time": "2022-04-11T21:23:30.316Z"
      },
      {
        "duration": 906,
        "start_time": "2022-04-11T21:23:30.326Z"
      },
      {
        "duration": 3,
        "start_time": "2022-04-11T21:23:31.234Z"
      },
      {
        "duration": 21226,
        "start_time": "2022-04-11T21:23:31.247Z"
      },
      {
        "duration": 629,
        "start_time": "2022-04-11T21:23:52.474Z"
      },
      {
        "duration": 15,
        "start_time": "2022-04-11T21:23:53.104Z"
      },
      {
        "duration": 4,
        "start_time": "2022-04-11T21:23:53.125Z"
      },
      {
        "duration": 305701,
        "start_time": "2022-04-11T21:23:53.148Z"
      },
      {
        "duration": 4662,
        "start_time": "2022-04-11T21:28:58.851Z"
      },
      {
        "duration": 129,
        "start_time": "2022-04-11T21:29:03.514Z"
      },
      {
        "duration": 5,
        "start_time": "2022-04-11T21:29:03.645Z"
      },
      {
        "duration": 6,
        "start_time": "2022-04-11T21:29:03.651Z"
      },
      {
        "duration": 94,
        "start_time": "2022-04-11T21:29:03.659Z"
      },
      {
        "duration": 91,
        "start_time": "2022-04-11T21:29:03.756Z"
      },
      {
        "duration": 7,
        "start_time": "2022-04-11T21:29:03.850Z"
      },
      {
        "duration": 93,
        "start_time": "2022-04-11T21:29:03.859Z"
      },
      {
        "duration": 13,
        "start_time": "2022-04-11T21:29:03.954Z"
      },
      {
        "duration": 3602,
        "start_time": "2022-04-11T21:29:03.969Z"
      },
      {
        "duration": 5,
        "start_time": "2022-04-11T21:29:07.574Z"
      },
      {
        "duration": 9,
        "start_time": "2022-04-11T21:29:07.581Z"
      },
      {
        "duration": 834,
        "start_time": "2022-04-11T21:29:07.592Z"
      },
      {
        "duration": 249,
        "start_time": "2022-04-12T13:40:54.256Z"
      }
    ],
    "kernelspec": {
      "display_name": "Python 3 (ipykernel)",
      "language": "python",
      "name": "python3"
    },
    "language_info": {
      "codemirror_mode": {
        "name": "ipython",
        "version": 3
      },
      "file_extension": ".py",
      "mimetype": "text/x-python",
      "name": "python",
      "nbconvert_exporter": "python",
      "pygments_lexer": "ipython3",
      "version": "3.9.5"
    },
    "toc": {
      "base_numbering": 1,
      "nav_menu": {},
      "number_sections": true,
      "sideBar": true,
      "skip_h1_title": true,
      "title_cell": "Table of Contents",
      "title_sidebar": "Contents",
      "toc_cell": false,
      "toc_position": {},
      "toc_section_display": true,
      "toc_window_display": false
    },
    "colab": {
      "name": "autos_ver2.ipynb",
      "provenance": [],
      "collapsed_sections": []
    }
  },
  "nbformat": 4,
  "nbformat_minor": 0
}